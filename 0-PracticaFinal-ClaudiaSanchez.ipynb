{
 "cells": [
  {
   "cell_type": "code",
   "execution_count": 1,
   "metadata": {},
   "outputs": [],
   "source": [
    "library(ggplot2)\n",
    "options(repr.plot.height=4,repr.plot.width=6)"
   ]
  },
  {
   "cell_type": "markdown",
   "metadata": {},
   "source": [
    "Cargar los datos en un dataframe llamado: airbnb"
   ]
  },
  {
   "cell_type": "code",
   "execution_count": 2,
   "metadata": {},
   "outputs": [],
   "source": [
    "airbnb<-read.csv('data//airbnb.csv',sep = ',', stringsAsFactors = F)"
   ]
  },
  {
   "cell_type": "markdown",
   "metadata": {},
   "source": [
    "Mostrar las primeras 6 filas del dataframe"
   ]
  },
  {
   "cell_type": "code",
   "execution_count": 3,
   "metadata": {
    "scrolled": true
   },
   "outputs": [
    {
     "data": {
      "text/html": [
       "<table>\n",
       "<caption>A data.frame: 6 × 13</caption>\n",
       "<thead>\n",
       "\t<tr><th></th><th scope=col>Zipcode</th><th scope=col>Neighbourhood.Cleansed</th><th scope=col>Property.Type</th><th scope=col>Room.Type</th><th scope=col>Accommodates</th><th scope=col>Bathrooms</th><th scope=col>Bedrooms</th><th scope=col>Beds</th><th scope=col>Bed.Type</th><th scope=col>Amenities</th><th scope=col>Square.Feet</th><th scope=col>Price</th><th scope=col>Review.Scores.Rating</th></tr>\n",
       "\t<tr><th></th><th scope=col>&lt;chr&gt;</th><th scope=col>&lt;chr&gt;</th><th scope=col>&lt;chr&gt;</th><th scope=col>&lt;chr&gt;</th><th scope=col>&lt;int&gt;</th><th scope=col>&lt;dbl&gt;</th><th scope=col>&lt;int&gt;</th><th scope=col>&lt;int&gt;</th><th scope=col>&lt;chr&gt;</th><th scope=col>&lt;chr&gt;</th><th scope=col>&lt;int&gt;</th><th scope=col>&lt;int&gt;</th><th scope=col>&lt;int&gt;</th></tr>\n",
       "</thead>\n",
       "<tbody>\n",
       "\t<tr><th scope=row>1</th><td>28004</td><td>Universidad</td><td>Apartment</td><td>Private room   </td><td>2</td><td>2</td><td>1</td><td>1</td><td>Real Bed</td><td>TV,Wireless Internet,Kitchen,Pets allowed,Pets live on this property,Buzzer/wireless intercom,Heating,Suitable for events,Washer,First aid kit,Essentials,Lock on bedroom door,Iron                                                                                                                                                                             </td><td> NA</td><td>35</td><td> NA</td></tr>\n",
       "\t<tr><th scope=row>2</th><td>28004</td><td>Universidad</td><td>Apartment</td><td>Entire home/apt</td><td>6</td><td>1</td><td>3</td><td>5</td><td>Real Bed</td><td>TV,Internet,Wireless Internet,Air conditioning,Kitchen,Indoor fireplace,Heating,Family/kid friendly,Washer,Dryer,Smoke detector,Carbon monoxide detector,Essentials,Shampoo                                                                                                                                                                                     </td><td> NA</td><td>92</td><td> 96</td></tr>\n",
       "\t<tr><th scope=row>3</th><td>28004</td><td>Universidad</td><td>Apartment</td><td>Entire home/apt</td><td>3</td><td>1</td><td>2</td><td>2</td><td>Real Bed</td><td>TV,Internet,Wireless Internet,Air conditioning,Kitchen,Doorman,Heating,Family/kid friendly,Washer,Essentials,Shampoo,Hangers,Hair dryer,Iron,Laptop friendly workspace                                                                                                                                                                                          </td><td> NA</td><td>55</td><td> 91</td></tr>\n",
       "\t<tr><th scope=row>4</th><td>28004</td><td>Universidad</td><td>Loft     </td><td>Entire home/apt</td><td>3</td><td>2</td><td>1</td><td>1</td><td>Real Bed</td><td>TV,Internet,Wireless Internet,Air conditioning,Kitchen,Pets allowed,Breakfast,Elevator in building,Indoor fireplace,Buzzer/wireless intercom,Heating,Washer,Essentials,Shampoo,Hangers,Hair dryer,Iron,Laptop friendly workspace,translation missing: en.hosting_amenity_49,translation missing: en.hosting_amenity_50                                          </td><td> NA</td><td>60</td><td>100</td></tr>\n",
       "\t<tr><th scope=row>5</th><td>28015</td><td>Universidad</td><td>Apartment</td><td>Entire home/apt</td><td>5</td><td>1</td><td>1</td><td>1</td><td>Real Bed</td><td>TV,Wireless Internet,Air conditioning,Kitchen,Smoking allowed,Pets allowed,Elevator in building,Heating,Family/kid friendly,Washer,Essentials,Iron                                                                                                                                                                                                              </td><td>538</td><td>75</td><td> 90</td></tr>\n",
       "\t<tr><th scope=row>6</th><td>28004</td><td>Universidad</td><td>Apartment</td><td>Entire home/apt</td><td>2</td><td>1</td><td>0</td><td>1</td><td>Real Bed</td><td>TV,Cable TV,Internet,Wireless Internet,Air conditioning,Wheelchair accessible,Kitchen,Doorman,Elevator in building,Buzzer/wireless intercom,Heating,Washer,Smoke detector,Carbon monoxide detector,First aid kit,Safety card,Fire extinguisher,Essentials,Shampoo,24-hour check-in,Hangers,Hair dryer,Iron,Laptop friendly workspace,Self Check-In,Doorman Entry</td><td> NA</td><td>55</td><td> 95</td></tr>\n",
       "</tbody>\n",
       "</table>\n"
      ],
      "text/latex": [
       "A data.frame: 6 × 13\n",
       "\\begin{tabular}{r|lllllllllllll}\n",
       "  & Zipcode & Neighbourhood.Cleansed & Property.Type & Room.Type & Accommodates & Bathrooms & Bedrooms & Beds & Bed.Type & Amenities & Square.Feet & Price & Review.Scores.Rating\\\\\n",
       "  & <chr> & <chr> & <chr> & <chr> & <int> & <dbl> & <int> & <int> & <chr> & <chr> & <int> & <int> & <int>\\\\\n",
       "\\hline\n",
       "\t1 & 28004 & Universidad & Apartment & Private room    & 2 & 2 & 1 & 1 & Real Bed & TV,Wireless Internet,Kitchen,Pets allowed,Pets live on this property,Buzzer/wireless intercom,Heating,Suitable for events,Washer,First aid kit,Essentials,Lock on bedroom door,Iron                                                                                                                                                                              &  NA & 35 &  NA\\\\\n",
       "\t2 & 28004 & Universidad & Apartment & Entire home/apt & 6 & 1 & 3 & 5 & Real Bed & TV,Internet,Wireless Internet,Air conditioning,Kitchen,Indoor fireplace,Heating,Family/kid friendly,Washer,Dryer,Smoke detector,Carbon monoxide detector,Essentials,Shampoo                                                                                                                                                                                      &  NA & 92 &  96\\\\\n",
       "\t3 & 28004 & Universidad & Apartment & Entire home/apt & 3 & 1 & 2 & 2 & Real Bed & TV,Internet,Wireless Internet,Air conditioning,Kitchen,Doorman,Heating,Family/kid friendly,Washer,Essentials,Shampoo,Hangers,Hair dryer,Iron,Laptop friendly workspace                                                                                                                                                                                           &  NA & 55 &  91\\\\\n",
       "\t4 & 28004 & Universidad & Loft      & Entire home/apt & 3 & 2 & 1 & 1 & Real Bed & TV,Internet,Wireless Internet,Air conditioning,Kitchen,Pets allowed,Breakfast,Elevator in building,Indoor fireplace,Buzzer/wireless intercom,Heating,Washer,Essentials,Shampoo,Hangers,Hair dryer,Iron,Laptop friendly workspace,translation missing: en.hosting\\_amenity\\_49,translation missing: en.hosting\\_amenity\\_50                                           &  NA & 60 & 100\\\\\n",
       "\t5 & 28015 & Universidad & Apartment & Entire home/apt & 5 & 1 & 1 & 1 & Real Bed & TV,Wireless Internet,Air conditioning,Kitchen,Smoking allowed,Pets allowed,Elevator in building,Heating,Family/kid friendly,Washer,Essentials,Iron                                                                                                                                                                                                               & 538 & 75 &  90\\\\\n",
       "\t6 & 28004 & Universidad & Apartment & Entire home/apt & 2 & 1 & 0 & 1 & Real Bed & TV,Cable TV,Internet,Wireless Internet,Air conditioning,Wheelchair accessible,Kitchen,Doorman,Elevator in building,Buzzer/wireless intercom,Heating,Washer,Smoke detector,Carbon monoxide detector,First aid kit,Safety card,Fire extinguisher,Essentials,Shampoo,24-hour check-in,Hangers,Hair dryer,Iron,Laptop friendly workspace,Self Check-In,Doorman Entry &  NA & 55 &  95\\\\\n",
       "\\end{tabular}\n"
      ],
      "text/markdown": [
       "\n",
       "A data.frame: 6 × 13\n",
       "\n",
       "| <!--/--> | Zipcode &lt;chr&gt; | Neighbourhood.Cleansed &lt;chr&gt; | Property.Type &lt;chr&gt; | Room.Type &lt;chr&gt; | Accommodates &lt;int&gt; | Bathrooms &lt;dbl&gt; | Bedrooms &lt;int&gt; | Beds &lt;int&gt; | Bed.Type &lt;chr&gt; | Amenities &lt;chr&gt; | Square.Feet &lt;int&gt; | Price &lt;int&gt; | Review.Scores.Rating &lt;int&gt; |\n",
       "|---|---|---|---|---|---|---|---|---|---|---|---|---|---|\n",
       "| 1 | 28004 | Universidad | Apartment | Private room    | 2 | 2 | 1 | 1 | Real Bed | TV,Wireless Internet,Kitchen,Pets allowed,Pets live on this property,Buzzer/wireless intercom,Heating,Suitable for events,Washer,First aid kit,Essentials,Lock on bedroom door,Iron                                                                                                                                                                              |  NA | 35 |  NA |\n",
       "| 2 | 28004 | Universidad | Apartment | Entire home/apt | 6 | 1 | 3 | 5 | Real Bed | TV,Internet,Wireless Internet,Air conditioning,Kitchen,Indoor fireplace,Heating,Family/kid friendly,Washer,Dryer,Smoke detector,Carbon monoxide detector,Essentials,Shampoo                                                                                                                                                                                      |  NA | 92 |  96 |\n",
       "| 3 | 28004 | Universidad | Apartment | Entire home/apt | 3 | 1 | 2 | 2 | Real Bed | TV,Internet,Wireless Internet,Air conditioning,Kitchen,Doorman,Heating,Family/kid friendly,Washer,Essentials,Shampoo,Hangers,Hair dryer,Iron,Laptop friendly workspace                                                                                                                                                                                           |  NA | 55 |  91 |\n",
       "| 4 | 28004 | Universidad | Loft      | Entire home/apt | 3 | 2 | 1 | 1 | Real Bed | TV,Internet,Wireless Internet,Air conditioning,Kitchen,Pets allowed,Breakfast,Elevator in building,Indoor fireplace,Buzzer/wireless intercom,Heating,Washer,Essentials,Shampoo,Hangers,Hair dryer,Iron,Laptop friendly workspace,translation missing: en.hosting_amenity_49,translation missing: en.hosting_amenity_50                                           |  NA | 60 | 100 |\n",
       "| 5 | 28015 | Universidad | Apartment | Entire home/apt | 5 | 1 | 1 | 1 | Real Bed | TV,Wireless Internet,Air conditioning,Kitchen,Smoking allowed,Pets allowed,Elevator in building,Heating,Family/kid friendly,Washer,Essentials,Iron                                                                                                                                                                                                               | 538 | 75 |  90 |\n",
       "| 6 | 28004 | Universidad | Apartment | Entire home/apt | 2 | 1 | 0 | 1 | Real Bed | TV,Cable TV,Internet,Wireless Internet,Air conditioning,Wheelchair accessible,Kitchen,Doorman,Elevator in building,Buzzer/wireless intercom,Heating,Washer,Smoke detector,Carbon monoxide detector,First aid kit,Safety card,Fire extinguisher,Essentials,Shampoo,24-hour check-in,Hangers,Hair dryer,Iron,Laptop friendly workspace,Self Check-In,Doorman Entry |  NA | 55 |  95 |\n",
       "\n"
      ],
      "text/plain": [
       "  Zipcode Neighbourhood.Cleansed Property.Type Room.Type       Accommodates\n",
       "1 28004   Universidad            Apartment     Private room    2           \n",
       "2 28004   Universidad            Apartment     Entire home/apt 6           \n",
       "3 28004   Universidad            Apartment     Entire home/apt 3           \n",
       "4 28004   Universidad            Loft          Entire home/apt 3           \n",
       "5 28015   Universidad            Apartment     Entire home/apt 5           \n",
       "6 28004   Universidad            Apartment     Entire home/apt 2           \n",
       "  Bathrooms Bedrooms Beds Bed.Type\n",
       "1 2         1        1    Real Bed\n",
       "2 1         3        5    Real Bed\n",
       "3 1         2        2    Real Bed\n",
       "4 2         1        1    Real Bed\n",
       "5 1         1        1    Real Bed\n",
       "6 1         0        1    Real Bed\n",
       "  Amenities                                                                                                                                                                                                                                                                                                                                                       \n",
       "1 TV,Wireless Internet,Kitchen,Pets allowed,Pets live on this property,Buzzer/wireless intercom,Heating,Suitable for events,Washer,First aid kit,Essentials,Lock on bedroom door,Iron                                                                                                                                                                             \n",
       "2 TV,Internet,Wireless Internet,Air conditioning,Kitchen,Indoor fireplace,Heating,Family/kid friendly,Washer,Dryer,Smoke detector,Carbon monoxide detector,Essentials,Shampoo                                                                                                                                                                                     \n",
       "3 TV,Internet,Wireless Internet,Air conditioning,Kitchen,Doorman,Heating,Family/kid friendly,Washer,Essentials,Shampoo,Hangers,Hair dryer,Iron,Laptop friendly workspace                                                                                                                                                                                          \n",
       "4 TV,Internet,Wireless Internet,Air conditioning,Kitchen,Pets allowed,Breakfast,Elevator in building,Indoor fireplace,Buzzer/wireless intercom,Heating,Washer,Essentials,Shampoo,Hangers,Hair dryer,Iron,Laptop friendly workspace,translation missing: en.hosting_amenity_49,translation missing: en.hosting_amenity_50                                          \n",
       "5 TV,Wireless Internet,Air conditioning,Kitchen,Smoking allowed,Pets allowed,Elevator in building,Heating,Family/kid friendly,Washer,Essentials,Iron                                                                                                                                                                                                              \n",
       "6 TV,Cable TV,Internet,Wireless Internet,Air conditioning,Wheelchair accessible,Kitchen,Doorman,Elevator in building,Buzzer/wireless intercom,Heating,Washer,Smoke detector,Carbon monoxide detector,First aid kit,Safety card,Fire extinguisher,Essentials,Shampoo,24-hour check-in,Hangers,Hair dryer,Iron,Laptop friendly workspace,Self Check-In,Doorman Entry\n",
       "  Square.Feet Price Review.Scores.Rating\n",
       "1  NA         35     NA                 \n",
       "2  NA         92     96                 \n",
       "3  NA         55     91                 \n",
       "4  NA         60    100                 \n",
       "5 538         75     90                 \n",
       "6  NA         55     95                 "
      ]
     },
     "metadata": {},
     "output_type": "display_data"
    }
   ],
   "source": [
    "head(airbnb,6)"
   ]
  },
  {
   "cell_type": "markdown",
   "metadata": {},
   "source": [
    "Renombrar las columnas de la siguiente forma:\n",
    "\n",
    "| Nombre original | Nuevo nombre |\n",
    "| - | - |\n",
    "| Zipcode | CodigoPostal |\n",
    "| Neighbourhood.Cleansed | Barrio |\n",
    "| Property.Type\t| TipoPropiedad |\n",
    "| Room.Type | TipoAlquiler |\n",
    "| Accommodates | MaxOcupantes |\n",
    "| Bathrooms\t| NumBanyos |\n",
    "| Bedrooms\t| NumDormitorios |\n",
    "| Beds\t|  NumCamas |\n",
    "| Bed.Type\t| TipoCama |\n",
    "| Amenities | Comodidades |\n",
    "| Square.Feet | PiesCuadrados |\n",
    "| Price\t| Precio |\n",
    "| Review.Scores.Rating | Puntuacion |"
   ]
  },
  {
   "cell_type": "code",
   "execution_count": 4,
   "metadata": {},
   "outputs": [],
   "source": [
    "newnames<-c(\"CodigoPostal\",\"Barrio\",\"TipoPropiedad\",\"TipoAlquiler\",\"MaxOcupantes\",\"NumBanyos\",\n",
    "\"NumDormitorios\",\"NumCamas\",\"TipoCama\",\"Comodidades\",\"PiesCuadrados\",\"Precio\",\"Puntuacion\")\n",
    "names(airbnb) <- newnames"
   ]
  },
  {
   "cell_type": "markdown",
   "metadata": {},
   "source": [
    "Crea una nueva columna llamada MetrosCuadrados a partir de la columna PiesCuadrados.\n",
    "\n",
    "Ayuda: 1 pie cuadrado son 0,092903 metros cuadrdados"
   ]
  },
  {
   "cell_type": "code",
   "execution_count": 5,
   "metadata": {},
   "outputs": [],
   "source": [
    "airbnb$MetrosCuadrados <- airbnb$PiesCuadrados * 0.092903"
   ]
  },
  {
   "cell_type": "markdown",
   "metadata": {},
   "source": [
    "Miremos el código postal. Es una variable con entradas erroneas.\n",
    "Hay valores como '', '-'  y '28' que deberían ser considerados como NA.\n",
    "Así mismo también debería ser NA todos los que no compiencen por 28, ya que estamos con códigos postales de Madrid\n",
    "\n",
    "El código postal 28002, 28004 y 28051 tienen entradas repetidas. \n",
    "Por ejemplo las entradas 28002\\n20882 deberían ir dnetro de 28002\n",
    "\n",
    "El codigo 2804 debería ser 28004, 2805 deberia ser 28005 y 2815 juncto con 2815 debería ser 28015\n",
    "\n",
    "Limpia los datos de la columna Codigo Postal"
   ]
  },
  {
   "cell_type": "code",
   "execution_count": 6,
   "metadata": {},
   "outputs": [],
   "source": [
    "#Caracteres especiales\n",
    "airbnb$CodigoPostal[airbnb$CodigoPostal==''|airbnb$CodigoPostal=='-'|airbnb$CodigoPostal=='28']<-NA\n",
    "#Valores repetidos del 28002\n",
    "airbnb$CodigoPostal[airbnb$CodigoPostal=='28002'|airbnb$CodigoPostal=='28002\\n28002']<-'28002'\n",
    "#Valores repetidos del 28004\n",
    "airbnb$CodigoPostal[airbnb$CodigoPostal=='2804'|airbnb$CodigoPostal=='28004'|airbnb$CodigoPostal=='Madrid 28004']<-'28004'\n",
    "#Valores repetidos del 28005\n",
    "airbnb$CodigoPostal[airbnb$CodigoPostal=='2805'|airbnb$CodigoPostal=='28005']<-'28005'\n",
    "#Valores repetidos del 28013\n",
    "airbnb$CodigoPostal[airbnb$CodigoPostal=='28013'|airbnb$CodigoPostal=='280013']<-'28013'\n",
    "#Valores repetidos del 28015\n",
    "airbnb$CodigoPostal[airbnb$CodigoPostal=='2815'|airbnb$CodigoPostal=='28015']<-'28015'\n",
    "#Valores repetidos del 28051\n",
    "airbnb$CodigoPostal[airbnb$CodigoPostal=='28051'|airbnb$CodigoPostal=='28051\\n28051']<-'28051'\n",
    "#Los que no comienzan con 28\n",
    "airbnb$CodigoPostal[!startsWith(airbnb$CodigoPostal, '28')]<-NA"
   ]
  },
  {
   "cell_type": "markdown",
   "metadata": {},
   "source": [
    "Una vez limpios los datos ¿Cuales son los códigos postales que tenemos? "
   ]
  },
  {
   "cell_type": "code",
   "execution_count": 7,
   "metadata": {},
   "outputs": [
    {
     "name": "stdout",
     "output_type": "stream",
     "text": [
      "[1] \"La cantidad de distintos codigos postales es:\"\n"
     ]
    },
    {
     "data": {
      "text/html": [
       "61"
      ],
      "text/latex": [
       "61"
      ],
      "text/markdown": [
       "61"
      ],
      "text/plain": [
       "[1] 61"
      ]
     },
     "metadata": {},
     "output_type": "display_data"
    },
    {
     "name": "stdout",
     "output_type": "stream",
     "text": [
      "[1] \"Los distintos valores de codigo postal son:\"\n"
     ]
    },
    {
     "data": {
      "text/html": [
       "<style>\n",
       ".list-inline {list-style: none; margin:0; padding: 0}\n",
       ".list-inline>li {display: inline-block}\n",
       ".list-inline>li:not(:last-child)::after {content: \"\\00b7\"; padding: 0 .5ex}\n",
       "</style>\n",
       "<ol class=list-inline><li>'28001'</li><li>'28002'</li><li>'28003'</li><li>'28004'</li><li>'28005'</li><li>'28006'</li><li>'28007'</li><li>'28008'</li><li>'28009'</li><li>'28010'</li><li>'28011'</li><li>'28012'</li><li>'28013'</li><li>'28014'</li><li>'28015'</li><li>'28016'</li><li>'28017'</li><li>'28018'</li><li>'28019'</li><li>'28020'</li><li>'28021'</li><li>'28022'</li><li>'28023'</li><li>'28024'</li><li>'28025'</li><li>'28026'</li><li>'28027'</li><li>'28028'</li><li>'28029'</li><li>'28030'</li><li>'28031'</li><li>'28032'</li><li>'28033'</li><li>'28034'</li><li>'28035'</li><li>'28036'</li><li>'28037'</li><li>'28038'</li><li>'28039'</li><li>'28040'</li><li>'28041'</li><li>'28042'</li><li>'28043'</li><li>'28044'</li><li>'28045'</li><li>'28046'</li><li>'28047'</li><li>'28048'</li><li>'28049'</li><li>'28050'</li><li>'28051'</li><li>'28052'</li><li>'28053'</li><li>'28054'</li><li>'28055'</li><li>'28056'</li><li>'28058'</li><li>'28060'</li><li>'28094'</li><li>'28105'</li><li>'28850'</li></ol>\n"
      ],
      "text/latex": [
       "\\begin{enumerate*}\n",
       "\\item '28001'\n",
       "\\item '28002'\n",
       "\\item '28003'\n",
       "\\item '28004'\n",
       "\\item '28005'\n",
       "\\item '28006'\n",
       "\\item '28007'\n",
       "\\item '28008'\n",
       "\\item '28009'\n",
       "\\item '28010'\n",
       "\\item '28011'\n",
       "\\item '28012'\n",
       "\\item '28013'\n",
       "\\item '28014'\n",
       "\\item '28015'\n",
       "\\item '28016'\n",
       "\\item '28017'\n",
       "\\item '28018'\n",
       "\\item '28019'\n",
       "\\item '28020'\n",
       "\\item '28021'\n",
       "\\item '28022'\n",
       "\\item '28023'\n",
       "\\item '28024'\n",
       "\\item '28025'\n",
       "\\item '28026'\n",
       "\\item '28027'\n",
       "\\item '28028'\n",
       "\\item '28029'\n",
       "\\item '28030'\n",
       "\\item '28031'\n",
       "\\item '28032'\n",
       "\\item '28033'\n",
       "\\item '28034'\n",
       "\\item '28035'\n",
       "\\item '28036'\n",
       "\\item '28037'\n",
       "\\item '28038'\n",
       "\\item '28039'\n",
       "\\item '28040'\n",
       "\\item '28041'\n",
       "\\item '28042'\n",
       "\\item '28043'\n",
       "\\item '28044'\n",
       "\\item '28045'\n",
       "\\item '28046'\n",
       "\\item '28047'\n",
       "\\item '28048'\n",
       "\\item '28049'\n",
       "\\item '28050'\n",
       "\\item '28051'\n",
       "\\item '28052'\n",
       "\\item '28053'\n",
       "\\item '28054'\n",
       "\\item '28055'\n",
       "\\item '28056'\n",
       "\\item '28058'\n",
       "\\item '28060'\n",
       "\\item '28094'\n",
       "\\item '28105'\n",
       "\\item '28850'\n",
       "\\end{enumerate*}\n"
      ],
      "text/markdown": [
       "1. '28001'\n",
       "2. '28002'\n",
       "3. '28003'\n",
       "4. '28004'\n",
       "5. '28005'\n",
       "6. '28006'\n",
       "7. '28007'\n",
       "8. '28008'\n",
       "9. '28009'\n",
       "10. '28010'\n",
       "11. '28011'\n",
       "12. '28012'\n",
       "13. '28013'\n",
       "14. '28014'\n",
       "15. '28015'\n",
       "16. '28016'\n",
       "17. '28017'\n",
       "18. '28018'\n",
       "19. '28019'\n",
       "20. '28020'\n",
       "21. '28021'\n",
       "22. '28022'\n",
       "23. '28023'\n",
       "24. '28024'\n",
       "25. '28025'\n",
       "26. '28026'\n",
       "27. '28027'\n",
       "28. '28028'\n",
       "29. '28029'\n",
       "30. '28030'\n",
       "31. '28031'\n",
       "32. '28032'\n",
       "33. '28033'\n",
       "34. '28034'\n",
       "35. '28035'\n",
       "36. '28036'\n",
       "37. '28037'\n",
       "38. '28038'\n",
       "39. '28039'\n",
       "40. '28040'\n",
       "41. '28041'\n",
       "42. '28042'\n",
       "43. '28043'\n",
       "44. '28044'\n",
       "45. '28045'\n",
       "46. '28046'\n",
       "47. '28047'\n",
       "48. '28048'\n",
       "49. '28049'\n",
       "50. '28050'\n",
       "51. '28051'\n",
       "52. '28052'\n",
       "53. '28053'\n",
       "54. '28054'\n",
       "55. '28055'\n",
       "56. '28056'\n",
       "57. '28058'\n",
       "58. '28060'\n",
       "59. '28094'\n",
       "60. '28105'\n",
       "61. '28850'\n",
       "\n",
       "\n"
      ],
      "text/plain": [
       " [1] \"28001\" \"28002\" \"28003\" \"28004\" \"28005\" \"28006\" \"28007\" \"28008\" \"28009\"\n",
       "[10] \"28010\" \"28011\" \"28012\" \"28013\" \"28014\" \"28015\" \"28016\" \"28017\" \"28018\"\n",
       "[19] \"28019\" \"28020\" \"28021\" \"28022\" \"28023\" \"28024\" \"28025\" \"28026\" \"28027\"\n",
       "[28] \"28028\" \"28029\" \"28030\" \"28031\" \"28032\" \"28033\" \"28034\" \"28035\" \"28036\"\n",
       "[37] \"28037\" \"28038\" \"28039\" \"28040\" \"28041\" \"28042\" \"28043\" \"28044\" \"28045\"\n",
       "[46] \"28046\" \"28047\" \"28048\" \"28049\" \"28050\" \"28051\" \"28052\" \"28053\" \"28054\"\n",
       "[55] \"28055\" \"28056\" \"28058\" \"28060\" \"28094\" \"28105\" \"28850\""
      ]
     },
     "metadata": {},
     "output_type": "display_data"
    }
   ],
   "source": [
    "#Cantidad\n",
    "print(\"La cantidad de distintos codigos postales es:\")\n",
    "length(levels(factor(airbnb$CodigoPostal)))\n",
    "#Listado\n",
    "print(\"Los distintos valores de codigo postal son:\")\n",
    "levels(factor(airbnb$CodigoPostal))"
   ]
  },
  {
   "cell_type": "markdown",
   "metadata": {},
   "source": [
    "¿Cuales son los 5 códigos postales con más entradas? ¿Y con menos? ¿Cuantas entradas tienen?"
   ]
  },
  {
   "cell_type": "code",
   "execution_count": 8,
   "metadata": {},
   "outputs": [
    {
     "name": "stdout",
     "output_type": "stream",
     "text": [
      "[1] \"Los que tienen mas entradas:\"\n"
     ]
    },
    {
     "data": {
      "text/html": [
       "<table>\n",
       "<caption>A data.frame: 5 × 2</caption>\n",
       "<thead>\n",
       "\t<tr><th></th><th scope=col>CodigoPostal</th><th scope=col>Cantidad</th></tr>\n",
       "\t<tr><th></th><th scope=col>&lt;chr&gt;</th><th scope=col>&lt;int&gt;</th></tr>\n",
       "</thead>\n",
       "<tbody>\n",
       "\t<tr><th scope=row>12</th><td>28012</td><td>2060</td></tr>\n",
       "\t<tr><th scope=row>4</th><td>28004</td><td>1796</td></tr>\n",
       "\t<tr><th scope=row>5</th><td>28005</td><td>1195</td></tr>\n",
       "\t<tr><th scope=row>13</th><td>28013</td><td>1020</td></tr>\n",
       "\t<tr><th scope=row>14</th><td>28014</td><td> 630</td></tr>\n",
       "</tbody>\n",
       "</table>\n"
      ],
      "text/latex": [
       "A data.frame: 5 × 2\n",
       "\\begin{tabular}{r|ll}\n",
       "  & CodigoPostal & Cantidad\\\\\n",
       "  & <chr> & <int>\\\\\n",
       "\\hline\n",
       "\t12 & 28012 & 2060\\\\\n",
       "\t4 & 28004 & 1796\\\\\n",
       "\t5 & 28005 & 1195\\\\\n",
       "\t13 & 28013 & 1020\\\\\n",
       "\t14 & 28014 &  630\\\\\n",
       "\\end{tabular}\n"
      ],
      "text/markdown": [
       "\n",
       "A data.frame: 5 × 2\n",
       "\n",
       "| <!--/--> | CodigoPostal &lt;chr&gt; | Cantidad &lt;int&gt; |\n",
       "|---|---|---|\n",
       "| 12 | 28012 | 2060 |\n",
       "| 4 | 28004 | 1796 |\n",
       "| 5 | 28005 | 1195 |\n",
       "| 13 | 28013 | 1020 |\n",
       "| 14 | 28014 |  630 |\n",
       "\n"
      ],
      "text/plain": [
       "   CodigoPostal Cantidad\n",
       "12 28012        2060    \n",
       "4  28004        1796    \n",
       "5  28005        1195    \n",
       "13 28013        1020    \n",
       "14 28014         630    "
      ]
     },
     "metadata": {},
     "output_type": "display_data"
    },
    {
     "name": "stdout",
     "output_type": "stream",
     "text": [
      "[1] \"Los que tienen menos entradas:\"\n"
     ]
    },
    {
     "data": {
      "text/html": [
       "<table>\n",
       "<caption>A data.frame: 5 × 2</caption>\n",
       "<thead>\n",
       "\t<tr><th></th><th scope=col>CodigoPostal</th><th scope=col>Cantidad</th></tr>\n",
       "\t<tr><th></th><th scope=col>&lt;chr&gt;</th><th scope=col>&lt;int&gt;</th></tr>\n",
       "</thead>\n",
       "<tbody>\n",
       "\t<tr><th scope=row>48</th><td>28048</td><td>1</td></tr>\n",
       "\t<tr><th scope=row>52</th><td>28052</td><td>1</td></tr>\n",
       "\t<tr><th scope=row>56</th><td>28056</td><td>1</td></tr>\n",
       "\t<tr><th scope=row>57</th><td>28058</td><td>1</td></tr>\n",
       "\t<tr><th scope=row>58</th><td>28060</td><td>1</td></tr>\n",
       "</tbody>\n",
       "</table>\n"
      ],
      "text/latex": [
       "A data.frame: 5 × 2\n",
       "\\begin{tabular}{r|ll}\n",
       "  & CodigoPostal & Cantidad\\\\\n",
       "  & <chr> & <int>\\\\\n",
       "\\hline\n",
       "\t48 & 28048 & 1\\\\\n",
       "\t52 & 28052 & 1\\\\\n",
       "\t56 & 28056 & 1\\\\\n",
       "\t57 & 28058 & 1\\\\\n",
       "\t58 & 28060 & 1\\\\\n",
       "\\end{tabular}\n"
      ],
      "text/markdown": [
       "\n",
       "A data.frame: 5 × 2\n",
       "\n",
       "| <!--/--> | CodigoPostal &lt;chr&gt; | Cantidad &lt;int&gt; |\n",
       "|---|---|---|\n",
       "| 48 | 28048 | 1 |\n",
       "| 52 | 28052 | 1 |\n",
       "| 56 | 28056 | 1 |\n",
       "| 57 | 28058 | 1 |\n",
       "| 58 | 28060 | 1 |\n",
       "\n"
      ],
      "text/plain": [
       "   CodigoPostal Cantidad\n",
       "48 28048        1       \n",
       "52 28052        1       \n",
       "56 28056        1       \n",
       "57 28058        1       \n",
       "58 28060        1       "
      ]
     },
     "metadata": {},
     "output_type": "display_data"
    }
   ],
   "source": [
    "Codigos <- aggregate(\n",
    "                    x=airbnb$CodigoPostal, \n",
    "                    by = list(CodigoPostal = airbnb$CodigoPostal), \n",
    "                    FUN = length\n",
    "            )\n",
    "names(Codigos) <- c('CodigoPostal', 'Cantidad')\n",
    "\n",
    "#Los que tienen mas entradas\n",
    "print(\"Los que tienen mas entradas:\")\n",
    "head(Codigos[order(-Codigos$Cantidad),],5)\n",
    "#Los que tienen menos entradas\n",
    "print(\"Los que tienen menos entradas:\")\n",
    "head(Codigos[order(Codigos$Cantidad),],5)"
   ]
  },
  {
   "cell_type": "markdown",
   "metadata": {},
   "source": [
    "¿Cuales son los barrios que hay en el código postal 28012?"
   ]
  },
  {
   "cell_type": "code",
   "execution_count": 9,
   "metadata": {},
   "outputs": [
    {
     "name": "stdout",
     "output_type": "stream",
     "text": [
      "[1] \"Los barrios con codigo postal 28012:\"\n"
     ]
    },
    {
     "data": {
      "text/html": [
       "<style>\n",
       ".list-inline {list-style: none; margin:0; padding: 0}\n",
       ".list-inline>li {display: inline-block}\n",
       ".list-inline>li:not(:last-child)::after {content: \"\\00b7\"; padding: 0 .5ex}\n",
       "</style>\n",
       "<ol class=list-inline><li>'Acacias'</li><li>'Arapiles'</li><li>'Atocha'</li><li>'Cortes'</li><li>'Delicias'</li><li>'Embajadores'</li><li>'Goya'</li><li>'Palacio'</li><li>'Palos de Moguer'</li><li>'Sol'</li><li>'Universidad'</li></ol>\n"
      ],
      "text/latex": [
       "\\begin{enumerate*}\n",
       "\\item 'Acacias'\n",
       "\\item 'Arapiles'\n",
       "\\item 'Atocha'\n",
       "\\item 'Cortes'\n",
       "\\item 'Delicias'\n",
       "\\item 'Embajadores'\n",
       "\\item 'Goya'\n",
       "\\item 'Palacio'\n",
       "\\item 'Palos de Moguer'\n",
       "\\item 'Sol'\n",
       "\\item 'Universidad'\n",
       "\\end{enumerate*}\n"
      ],
      "text/markdown": [
       "1. 'Acacias'\n",
       "2. 'Arapiles'\n",
       "3. 'Atocha'\n",
       "4. 'Cortes'\n",
       "5. 'Delicias'\n",
       "6. 'Embajadores'\n",
       "7. 'Goya'\n",
       "8. 'Palacio'\n",
       "9. 'Palos de Moguer'\n",
       "10. 'Sol'\n",
       "11. 'Universidad'\n",
       "\n",
       "\n"
      ],
      "text/plain": [
       " [1] \"Acacias\"         \"Arapiles\"        \"Atocha\"          \"Cortes\"         \n",
       " [5] \"Delicias\"        \"Embajadores\"     \"Goya\"            \"Palacio\"        \n",
       " [9] \"Palos de Moguer\" \"Sol\"             \"Universidad\"    "
      ]
     },
     "metadata": {},
     "output_type": "display_data"
    }
   ],
   "source": [
    "print(\"Los barrios con codigo postal 28012:\")\n",
    "levels(factor(airbnb$Barrio[airbnb$CodigoPostal=='28012']))"
   ]
  },
  {
   "cell_type": "markdown",
   "metadata": {},
   "source": [
    "¿Cuantas entradas hay en cada uno de esos barrios para el codigo postao 28012? Asumiendo que el identificador de Barrio sea correcto, ¿es fiable la columna de código postal?"
   ]
  },
  {
   "cell_type": "code",
   "execution_count": 10,
   "metadata": {},
   "outputs": [
    {
     "name": "stdout",
     "output_type": "stream",
     "text": [
      "[1] \"Cantidad de entradas por barrio en el codigo postal 28012\"\n"
     ]
    },
    {
     "data": {
      "text/html": [
       "<table>\n",
       "<caption>A data.frame: 65 × 3</caption>\n",
       "<thead>\n",
       "\t<tr><th></th><th scope=col>Barrio</th><th scope=col>Cantidad</th><th scope=col>NA</th></tr>\n",
       "\t<tr><th></th><th scope=col>&lt;chr&gt;</th><th scope=col>&lt;chr&gt;</th><th scope=col>&lt;int&gt;</th></tr>\n",
       "</thead>\n",
       "<tbody>\n",
       "\t<tr><th scope=row>5</th><td>Acacias    </td><td>28004</td><td>   1</td></tr>\n",
       "\t<tr><th scope=row>10</th><td>Acacias    </td><td>28005</td><td> 117</td></tr>\n",
       "\t<tr><th scope=row>26</th><td>Acacias    </td><td>28012</td><td>  13</td></tr>\n",
       "\t<tr><th scope=row>54</th><td>Acacias    </td><td>28019</td><td>   1</td></tr>\n",
       "\t<tr><th scope=row>58</th><td>Acacias    </td><td>28045</td><td>   6</td></tr>\n",
       "\t<tr><th scope=row>63</th><td>Acacias    </td><td>28047</td><td>   1</td></tr>\n",
       "\t<tr><th scope=row>3</th><td>Arapiles   </td><td>28003</td><td>   8</td></tr>\n",
       "\t<tr><th scope=row>23</th><td>Arapiles   </td><td>28010</td><td>   3</td></tr>\n",
       "\t<tr><th scope=row>27</th><td>Arapiles   </td><td>28012</td><td>   1</td></tr>\n",
       "\t<tr><th scope=row>41</th><td>Arapiles   </td><td>28014</td><td>   1</td></tr>\n",
       "\t<tr><th scope=row>48</th><td>Arapiles   </td><td>28015</td><td> 168</td></tr>\n",
       "\t<tr><th scope=row>16</th><td>Atocha     </td><td>28007</td><td>   1</td></tr>\n",
       "\t<tr><th scope=row>28</th><td>Atocha     </td><td>28012</td><td>   1</td></tr>\n",
       "\t<tr><th scope=row>42</th><td>Atocha     </td><td>28014</td><td>   1</td></tr>\n",
       "\t<tr><th scope=row>59</th><td>Atocha     </td><td>28045</td><td>  13</td></tr>\n",
       "\t<tr><th scope=row>6</th><td>Cortes     </td><td>28004</td><td>   2</td></tr>\n",
       "\t<tr><th scope=row>19</th><td>Cortes     </td><td>28008</td><td>   1</td></tr>\n",
       "\t<tr><th scope=row>29</th><td>Cortes     </td><td>28012</td><td> 216</td></tr>\n",
       "\t<tr><th scope=row>37</th><td>Cortes     </td><td>28013</td><td>  11</td></tr>\n",
       "\t<tr><th scope=row>43</th><td>Cortes     </td><td>28014</td><td> 510</td></tr>\n",
       "\t<tr><th scope=row>56</th><td>Cortes     </td><td>28033</td><td>   1</td></tr>\n",
       "\t<tr><th scope=row>30</th><td>Delicias   </td><td>28012</td><td>   1</td></tr>\n",
       "\t<tr><th scope=row>60</th><td>Delicias   </td><td>28045</td><td> 122</td></tr>\n",
       "\t<tr><th scope=row>11</th><td>Embajadores</td><td>28005</td><td> 342</td></tr>\n",
       "\t<tr><th scope=row>31</th><td>Embajadores</td><td>28012</td><td>1449</td></tr>\n",
       "\t<tr><th scope=row>44</th><td>Embajadores</td><td>28014</td><td>   5</td></tr>\n",
       "\t<tr><th scope=row>61</th><td>Embajadores</td><td>28045</td><td>   4</td></tr>\n",
       "\t<tr><th scope=row>1</th><td>Goya       </td><td>28001</td><td>  73</td></tr>\n",
       "\t<tr><th scope=row>15</th><td>Goya       </td><td>28006</td><td>  32</td></tr>\n",
       "\t<tr><th scope=row>17</th><td>Goya       </td><td>28007</td><td>   1</td></tr>\n",
       "\t<tr><th scope=row>⋮</th><td>⋮</td><td>⋮</td><td>⋮</td></tr>\n",
       "\t<tr><th scope=row>20</th><td>Palacio        </td><td>28008</td><td>  9</td></tr>\n",
       "\t<tr><th scope=row>25</th><td>Palacio        </td><td>28011</td><td>  1</td></tr>\n",
       "\t<tr><th scope=row>33</th><td>Palacio        </td><td>28012</td><td> 27</td></tr>\n",
       "\t<tr><th scope=row>38</th><td>Palacio        </td><td>28013</td><td>432</td></tr>\n",
       "\t<tr><th scope=row>49</th><td>Palacio        </td><td>28015</td><td>  2</td></tr>\n",
       "\t<tr><th scope=row>53</th><td>Palacio        </td><td>28018</td><td>  1</td></tr>\n",
       "\t<tr><th scope=row>34</th><td>Palos de Moguer</td><td>28012</td><td> 46</td></tr>\n",
       "\t<tr><th scope=row>45</th><td>Palos de Moguer</td><td>28014</td><td>  1</td></tr>\n",
       "\t<tr><th scope=row>62</th><td>Palos de Moguer</td><td>28045</td><td>204</td></tr>\n",
       "\t<tr><th scope=row>2</th><td>Sol            </td><td>28001</td><td>  1</td></tr>\n",
       "\t<tr><th scope=row>8</th><td>Sol            </td><td>28004</td><td> 15</td></tr>\n",
       "\t<tr><th scope=row>13</th><td>Sol            </td><td>28005</td><td> 62</td></tr>\n",
       "\t<tr><th scope=row>35</th><td>Sol            </td><td>28012</td><td>301</td></tr>\n",
       "\t<tr><th scope=row>39</th><td>Sol            </td><td>28013</td><td>514</td></tr>\n",
       "\t<tr><th scope=row>46</th><td>Sol            </td><td>28014</td><td> 12</td></tr>\n",
       "\t<tr><th scope=row>50</th><td>Sol            </td><td>28015</td><td>  1</td></tr>\n",
       "\t<tr><th scope=row>52</th><td>Sol            </td><td>28016</td><td>  1</td></tr>\n",
       "\t<tr><th scope=row>57</th><td>Sol            </td><td>28034</td><td>  1</td></tr>\n",
       "\t<tr><th scope=row>4</th><td>Universidad    </td><td>28003</td><td>  1</td></tr>\n",
       "\t<tr><th scope=row>9</th><td>Universidad    </td><td>28004</td><td>982</td></tr>\n",
       "\t<tr><th scope=row>14</th><td>Universidad    </td><td>28005</td><td>  3</td></tr>\n",
       "\t<tr><th scope=row>18</th><td>Universidad    </td><td>28007</td><td>  1</td></tr>\n",
       "\t<tr><th scope=row>21</th><td>Universidad    </td><td>28008</td><td> 10</td></tr>\n",
       "\t<tr><th scope=row>24</th><td>Universidad    </td><td>28010</td><td>  1</td></tr>\n",
       "\t<tr><th scope=row>36</th><td>Universidad    </td><td>28012</td><td>  4</td></tr>\n",
       "\t<tr><th scope=row>40</th><td>Universidad    </td><td>28013</td><td> 39</td></tr>\n",
       "\t<tr><th scope=row>47</th><td>Universidad    </td><td>28014</td><td>  2</td></tr>\n",
       "\t<tr><th scope=row>51</th><td>Universidad    </td><td>28015</td><td>281</td></tr>\n",
       "\t<tr><th scope=row>64</th><td>Universidad    </td><td>28056</td><td>  1</td></tr>\n",
       "\t<tr><th scope=row>65</th><td>Universidad    </td><td>28094</td><td>  1</td></tr>\n",
       "</tbody>\n",
       "</table>\n"
      ],
      "text/latex": [
       "A data.frame: 65 × 3\n",
       "\\begin{tabular}{r|lll}\n",
       "  & Barrio & Cantidad & NA\\\\\n",
       "  & <chr> & <chr> & <int>\\\\\n",
       "\\hline\n",
       "\t5 & Acacias     & 28004 &    1\\\\\n",
       "\t10 & Acacias     & 28005 &  117\\\\\n",
       "\t26 & Acacias     & 28012 &   13\\\\\n",
       "\t54 & Acacias     & 28019 &    1\\\\\n",
       "\t58 & Acacias     & 28045 &    6\\\\\n",
       "\t63 & Acacias     & 28047 &    1\\\\\n",
       "\t3 & Arapiles    & 28003 &    8\\\\\n",
       "\t23 & Arapiles    & 28010 &    3\\\\\n",
       "\t27 & Arapiles    & 28012 &    1\\\\\n",
       "\t41 & Arapiles    & 28014 &    1\\\\\n",
       "\t48 & Arapiles    & 28015 &  168\\\\\n",
       "\t16 & Atocha      & 28007 &    1\\\\\n",
       "\t28 & Atocha      & 28012 &    1\\\\\n",
       "\t42 & Atocha      & 28014 &    1\\\\\n",
       "\t59 & Atocha      & 28045 &   13\\\\\n",
       "\t6 & Cortes      & 28004 &    2\\\\\n",
       "\t19 & Cortes      & 28008 &    1\\\\\n",
       "\t29 & Cortes      & 28012 &  216\\\\\n",
       "\t37 & Cortes      & 28013 &   11\\\\\n",
       "\t43 & Cortes      & 28014 &  510\\\\\n",
       "\t56 & Cortes      & 28033 &    1\\\\\n",
       "\t30 & Delicias    & 28012 &    1\\\\\n",
       "\t60 & Delicias    & 28045 &  122\\\\\n",
       "\t11 & Embajadores & 28005 &  342\\\\\n",
       "\t31 & Embajadores & 28012 & 1449\\\\\n",
       "\t44 & Embajadores & 28014 &    5\\\\\n",
       "\t61 & Embajadores & 28045 &    4\\\\\n",
       "\t1 & Goya        & 28001 &   73\\\\\n",
       "\t15 & Goya        & 28006 &   32\\\\\n",
       "\t17 & Goya        & 28007 &    1\\\\\n",
       "\t⋮ & ⋮ & ⋮ & ⋮\\\\\n",
       "\t20 & Palacio         & 28008 &   9\\\\\n",
       "\t25 & Palacio         & 28011 &   1\\\\\n",
       "\t33 & Palacio         & 28012 &  27\\\\\n",
       "\t38 & Palacio         & 28013 & 432\\\\\n",
       "\t49 & Palacio         & 28015 &   2\\\\\n",
       "\t53 & Palacio         & 28018 &   1\\\\\n",
       "\t34 & Palos de Moguer & 28012 &  46\\\\\n",
       "\t45 & Palos de Moguer & 28014 &   1\\\\\n",
       "\t62 & Palos de Moguer & 28045 & 204\\\\\n",
       "\t2 & Sol             & 28001 &   1\\\\\n",
       "\t8 & Sol             & 28004 &  15\\\\\n",
       "\t13 & Sol             & 28005 &  62\\\\\n",
       "\t35 & Sol             & 28012 & 301\\\\\n",
       "\t39 & Sol             & 28013 & 514\\\\\n",
       "\t46 & Sol             & 28014 &  12\\\\\n",
       "\t50 & Sol             & 28015 &   1\\\\\n",
       "\t52 & Sol             & 28016 &   1\\\\\n",
       "\t57 & Sol             & 28034 &   1\\\\\n",
       "\t4 & Universidad     & 28003 &   1\\\\\n",
       "\t9 & Universidad     & 28004 & 982\\\\\n",
       "\t14 & Universidad     & 28005 &   3\\\\\n",
       "\t18 & Universidad     & 28007 &   1\\\\\n",
       "\t21 & Universidad     & 28008 &  10\\\\\n",
       "\t24 & Universidad     & 28010 &   1\\\\\n",
       "\t36 & Universidad     & 28012 &   4\\\\\n",
       "\t40 & Universidad     & 28013 &  39\\\\\n",
       "\t47 & Universidad     & 28014 &   2\\\\\n",
       "\t51 & Universidad     & 28015 & 281\\\\\n",
       "\t64 & Universidad     & 28056 &   1\\\\\n",
       "\t65 & Universidad     & 28094 &   1\\\\\n",
       "\\end{tabular}\n"
      ],
      "text/markdown": [
       "\n",
       "A data.frame: 65 × 3\n",
       "\n",
       "| <!--/--> | Barrio &lt;chr&gt; | Cantidad &lt;chr&gt; | NA &lt;int&gt; |\n",
       "|---|---|---|---|\n",
       "| 5 | Acacias     | 28004 |    1 |\n",
       "| 10 | Acacias     | 28005 |  117 |\n",
       "| 26 | Acacias     | 28012 |   13 |\n",
       "| 54 | Acacias     | 28019 |    1 |\n",
       "| 58 | Acacias     | 28045 |    6 |\n",
       "| 63 | Acacias     | 28047 |    1 |\n",
       "| 3 | Arapiles    | 28003 |    8 |\n",
       "| 23 | Arapiles    | 28010 |    3 |\n",
       "| 27 | Arapiles    | 28012 |    1 |\n",
       "| 41 | Arapiles    | 28014 |    1 |\n",
       "| 48 | Arapiles    | 28015 |  168 |\n",
       "| 16 | Atocha      | 28007 |    1 |\n",
       "| 28 | Atocha      | 28012 |    1 |\n",
       "| 42 | Atocha      | 28014 |    1 |\n",
       "| 59 | Atocha      | 28045 |   13 |\n",
       "| 6 | Cortes      | 28004 |    2 |\n",
       "| 19 | Cortes      | 28008 |    1 |\n",
       "| 29 | Cortes      | 28012 |  216 |\n",
       "| 37 | Cortes      | 28013 |   11 |\n",
       "| 43 | Cortes      | 28014 |  510 |\n",
       "| 56 | Cortes      | 28033 |    1 |\n",
       "| 30 | Delicias    | 28012 |    1 |\n",
       "| 60 | Delicias    | 28045 |  122 |\n",
       "| 11 | Embajadores | 28005 |  342 |\n",
       "| 31 | Embajadores | 28012 | 1449 |\n",
       "| 44 | Embajadores | 28014 |    5 |\n",
       "| 61 | Embajadores | 28045 |    4 |\n",
       "| 1 | Goya        | 28001 |   73 |\n",
       "| 15 | Goya        | 28006 |   32 |\n",
       "| 17 | Goya        | 28007 |    1 |\n",
       "| ⋮ | ⋮ | ⋮ | ⋮ |\n",
       "| 20 | Palacio         | 28008 |   9 |\n",
       "| 25 | Palacio         | 28011 |   1 |\n",
       "| 33 | Palacio         | 28012 |  27 |\n",
       "| 38 | Palacio         | 28013 | 432 |\n",
       "| 49 | Palacio         | 28015 |   2 |\n",
       "| 53 | Palacio         | 28018 |   1 |\n",
       "| 34 | Palos de Moguer | 28012 |  46 |\n",
       "| 45 | Palos de Moguer | 28014 |   1 |\n",
       "| 62 | Palos de Moguer | 28045 | 204 |\n",
       "| 2 | Sol             | 28001 |   1 |\n",
       "| 8 | Sol             | 28004 |  15 |\n",
       "| 13 | Sol             | 28005 |  62 |\n",
       "| 35 | Sol             | 28012 | 301 |\n",
       "| 39 | Sol             | 28013 | 514 |\n",
       "| 46 | Sol             | 28014 |  12 |\n",
       "| 50 | Sol             | 28015 |   1 |\n",
       "| 52 | Sol             | 28016 |   1 |\n",
       "| 57 | Sol             | 28034 |   1 |\n",
       "| 4 | Universidad     | 28003 |   1 |\n",
       "| 9 | Universidad     | 28004 | 982 |\n",
       "| 14 | Universidad     | 28005 |   3 |\n",
       "| 18 | Universidad     | 28007 |   1 |\n",
       "| 21 | Universidad     | 28008 |  10 |\n",
       "| 24 | Universidad     | 28010 |   1 |\n",
       "| 36 | Universidad     | 28012 |   4 |\n",
       "| 40 | Universidad     | 28013 |  39 |\n",
       "| 47 | Universidad     | 28014 |   2 |\n",
       "| 51 | Universidad     | 28015 | 281 |\n",
       "| 64 | Universidad     | 28056 |   1 |\n",
       "| 65 | Universidad     | 28094 |   1 |\n",
       "\n"
      ],
      "text/plain": [
       "   Barrio          Cantidad <NA>\n",
       "5  Acacias         28004       1\n",
       "10 Acacias         28005     117\n",
       "26 Acacias         28012      13\n",
       "54 Acacias         28019       1\n",
       "58 Acacias         28045       6\n",
       "63 Acacias         28047       1\n",
       "3  Arapiles        28003       8\n",
       "23 Arapiles        28010       3\n",
       "27 Arapiles        28012       1\n",
       "41 Arapiles        28014       1\n",
       "48 Arapiles        28015     168\n",
       "16 Atocha          28007       1\n",
       "28 Atocha          28012       1\n",
       "42 Atocha          28014       1\n",
       "59 Atocha          28045      13\n",
       "6  Cortes          28004       2\n",
       "19 Cortes          28008       1\n",
       "29 Cortes          28012     216\n",
       "37 Cortes          28013      11\n",
       "43 Cortes          28014     510\n",
       "56 Cortes          28033       1\n",
       "30 Delicias        28012       1\n",
       "60 Delicias        28045     122\n",
       "11 Embajadores     28005     342\n",
       "31 Embajadores     28012    1449\n",
       "44 Embajadores     28014       5\n",
       "61 Embajadores     28045       4\n",
       "1  Goya            28001      73\n",
       "15 Goya            28006      32\n",
       "17 Goya            28007       1\n",
       "⋮  ⋮               ⋮        ⋮   \n",
       "20 Palacio         28008      9 \n",
       "25 Palacio         28011      1 \n",
       "33 Palacio         28012     27 \n",
       "38 Palacio         28013    432 \n",
       "49 Palacio         28015      2 \n",
       "53 Palacio         28018      1 \n",
       "34 Palos de Moguer 28012     46 \n",
       "45 Palos de Moguer 28014      1 \n",
       "62 Palos de Moguer 28045    204 \n",
       "2  Sol             28001      1 \n",
       "8  Sol             28004     15 \n",
       "13 Sol             28005     62 \n",
       "35 Sol             28012    301 \n",
       "39 Sol             28013    514 \n",
       "46 Sol             28014     12 \n",
       "50 Sol             28015      1 \n",
       "52 Sol             28016      1 \n",
       "57 Sol             28034      1 \n",
       "4  Universidad     28003      1 \n",
       "9  Universidad     28004    982 \n",
       "14 Universidad     28005      3 \n",
       "18 Universidad     28007      1 \n",
       "21 Universidad     28008     10 \n",
       "24 Universidad     28010      1 \n",
       "36 Universidad     28012      4 \n",
       "40 Universidad     28013     39 \n",
       "47 Universidad     28014      2 \n",
       "51 Universidad     28015    281 \n",
       "64 Universidad     28056      1 \n",
       "65 Universidad     28094      1 "
      ]
     },
     "metadata": {},
     "output_type": "display_data"
    },
    {
     "name": "stdout",
     "output_type": "stream",
     "text": [
      "[1] \"Se observa que no todos la los barrios listados se encuentran en su totalidad dentro del codigo postal.Por lo que se podria indicar que hay inconsistencias en la relacion de ambos campos\"\n"
     ]
    }
   ],
   "source": [
    "#Filtrando por nombre de barrio obtenidos en la pregunta previa\n",
    "airbnb28012 <- airbnb[airbnb$Barrio=='Acacias'\n",
    "                      |airbnb$Barrio=='Arapiles'\n",
    "                      |airbnb$Barrio=='Atocha'\n",
    "                      |airbnb$Barrio=='Cortes'\n",
    "                      |airbnb$Barrio=='Delicias'\n",
    "                      |airbnb$Barrio=='Embajadores'\n",
    "                      |airbnb$Barrio=='Goya'\n",
    "                      |airbnb$Barrio=='Palacio'\n",
    "                      |airbnb$Barrio=='Palos de Moguer'\n",
    "                      |airbnb$Barrio=='Sol'\n",
    "                      |airbnb$Barrio=='Universidad',]\n",
    "\n",
    "Barrios <- aggregate(\n",
    "                    x=airbnb28012$Barrio, \n",
    "                    by = list(Barrio = airbnb28012$Barrio, airbnb28012$CodigoPostal), \n",
    "                    FUN = length\n",
    "            )\n",
    "names(Barrios) <- c('Barrio', 'Cantidad')\n",
    "#Cantidad de entradas por barrio en el codigo postal 28012\n",
    "print(\"Cantidad de entradas por barrio en el codigo postal 28012\")\n",
    "Barrios[order(Barrios$Barrio),]\n",
    "print(\"Se observa que no todos la los barrios listados se encuentran en su totalidad dentro del codigo postal.Por lo que se podria indicar que hay inconsistencias en la relacion de ambos campos\")\n",
    "#RESPUESTA:Se observa que no todos la los barrios listados se encuentran en su totalidad dentro del codigo postal.\n",
    "#Por lo que se podria indicar que hay inconsistencias en la relacion de ambos campos"
   ]
  },
  {
   "cell_type": "markdown",
   "metadata": {},
   "source": [
    "¿Cuantos barrios hay en todo el dataset airbnb? ¿Cuales son?"
   ]
  },
  {
   "cell_type": "code",
   "execution_count": 11,
   "metadata": {},
   "outputs": [
    {
     "name": "stdout",
     "output_type": "stream",
     "text": [
      "[1] \"Cantidad de barrios en todo el ds:\"\n"
     ]
    },
    {
     "data": {
      "text/html": [
       "125"
      ],
      "text/latex": [
       "125"
      ],
      "text/markdown": [
       "125"
      ],
      "text/plain": [
       "[1] 125"
      ]
     },
     "metadata": {},
     "output_type": "display_data"
    },
    {
     "name": "stdout",
     "output_type": "stream",
     "text": [
      "[1] \"Listado de barrios\"\n"
     ]
    },
    {
     "data": {
      "text/html": [
       "<style>\n",
       ".list-inline {list-style: none; margin:0; padding: 0}\n",
       ".list-inline>li {display: inline-block}\n",
       ".list-inline>li:not(:last-child)::after {content: \"\\00b7\"; padding: 0 .5ex}\n",
       "</style>\n",
       "<ol class=list-inline><li>'Abrantes'</li><li>'Acacias'</li><li>'Adelfas'</li><li>'Aeropuerto'</li><li>'Aguilas'</li><li>'Alameda de Osuna'</li><li>'Almagro'</li><li>'Almenara'</li><li>'Almendrales'</li><li>'Aluche'</li><li>'Ambroz'</li><li>'Amposta'</li><li>'Apostol Santiago'</li><li>'Arapiles'</li><li>'Aravaca'</li><li>'Arcos'</li><li>'Argüelles'</li><li>'Atocha'</li><li>'Bellas Vistas'</li><li>'Berruguete'</li><li>'Buenavista'</li><li>'Butarque'</li><li>'Campamento'</li><li>'Canillas'</li><li>'Canillejas'</li><li>'Cármenes'</li><li>'Casa de Campo'</li><li>'Casco Histórico de Barajas'</li><li>'Casco Histórico de Vallecas'</li><li>'Casco Histórico de Vicálvaro'</li><li>'Castellana'</li><li>'Castilla'</li><li>'Castillejos'</li><li>'Chopera'</li><li>'Ciudad Jardín'</li><li>'Ciudad Universitaria'</li><li>'Colina'</li><li>'Comillas'</li><li>'Concepción'</li><li>'Corralejos'</li><li>'Cortes'</li><li>'Costillares'</li><li>'Cuatro Caminos'</li><li>'Cuatro Vientos'</li><li>'Delicias'</li><li>'El Goloso'</li><li>'El Plantío'</li><li>'El Viso'</li><li>'Embajadores'</li><li>'Entrevías'</li><li>'Estrella'</li><li>'Fontarrón'</li><li>'Fuente del Berro'</li><li>'Fuentelareina'</li><li>'Gaztambide'</li><li>'Goya'</li><li>'Guindalera'</li><li>'Hellín'</li><li>'Hispanoamérica'</li><li>'Ibiza'</li><li>'Imperial'</li><li>'Jerónimos'</li><li>'Justicia'</li><li>'La Paz'</li><li>'Legazpi'</li><li>'Lista'</li><li>'Los Angeles'</li><li>'Los Rosales'</li><li>'Lucero'</li><li>'Marroquina'</li><li>'Media Legua'</li><li>'Mirasierra'</li><li>'Moscardó'</li><li>'Niño Jesús'</li><li>'Nueva España'</li><li>'Numancia'</li><li>'Opañel'</li><li>'Orcasitas'</li><li>'Orcasur'</li><li>'Pacífico'</li><li>'Palacio'</li><li>'Palomas'</li><li>'Palomeras Bajas'</li><li>'Palomeras Sureste'</li><li>'Palos de Moguer'</li><li>'Pavones'</li><li>'Peñagrande'</li><li>'Pilar'</li><li>'Pinar del Rey'</li><li>'Piovera'</li><li>'Portazgo'</li><li>'Pradolongo'</li><li>'Prosperidad'</li><li>'Pueblo Nuevo'</li><li>'Puerta Bonita'</li><li>'Puerta del Angel'</li><li>'Quintana'</li><li>'Recoletos'</li><li>'Rejas'</li><li>'Rios Rosas'</li><li>'Rosas'</li><li>'Salvador'</li><li>'San Andrés'</li><li>'San Cristobal'</li><li>'San Diego'</li><li>'San Fermín'</li><li>'San Isidro'</li><li>'San Juan Bautista'</li><li>'San Pascual'</li><li>'Santa Eugenia'</li><li>'Simancas'</li><li>'Sol'</li><li>'Timón'</li><li>'Trafalgar'</li><li>'Universidad'</li><li>'Valdeacederas'</li><li>'Valdefuentes'</li><li>'Valdemarín'</li><li>'Valdezarza'</li><li>'Vallehermoso'</li><li>'Valverde'</li><li>'Ventas'</li><li>'Vinateros'</li><li>'Vista Alegre'</li><li>'Zofío'</li></ol>\n"
      ],
      "text/latex": [
       "\\begin{enumerate*}\n",
       "\\item 'Abrantes'\n",
       "\\item 'Acacias'\n",
       "\\item 'Adelfas'\n",
       "\\item 'Aeropuerto'\n",
       "\\item 'Aguilas'\n",
       "\\item 'Alameda de Osuna'\n",
       "\\item 'Almagro'\n",
       "\\item 'Almenara'\n",
       "\\item 'Almendrales'\n",
       "\\item 'Aluche'\n",
       "\\item 'Ambroz'\n",
       "\\item 'Amposta'\n",
       "\\item 'Apostol Santiago'\n",
       "\\item 'Arapiles'\n",
       "\\item 'Aravaca'\n",
       "\\item 'Arcos'\n",
       "\\item 'Argüelles'\n",
       "\\item 'Atocha'\n",
       "\\item 'Bellas Vistas'\n",
       "\\item 'Berruguete'\n",
       "\\item 'Buenavista'\n",
       "\\item 'Butarque'\n",
       "\\item 'Campamento'\n",
       "\\item 'Canillas'\n",
       "\\item 'Canillejas'\n",
       "\\item 'Cármenes'\n",
       "\\item 'Casa de Campo'\n",
       "\\item 'Casco Histórico de Barajas'\n",
       "\\item 'Casco Histórico de Vallecas'\n",
       "\\item 'Casco Histórico de Vicálvaro'\n",
       "\\item 'Castellana'\n",
       "\\item 'Castilla'\n",
       "\\item 'Castillejos'\n",
       "\\item 'Chopera'\n",
       "\\item 'Ciudad Jardín'\n",
       "\\item 'Ciudad Universitaria'\n",
       "\\item 'Colina'\n",
       "\\item 'Comillas'\n",
       "\\item 'Concepción'\n",
       "\\item 'Corralejos'\n",
       "\\item 'Cortes'\n",
       "\\item 'Costillares'\n",
       "\\item 'Cuatro Caminos'\n",
       "\\item 'Cuatro Vientos'\n",
       "\\item 'Delicias'\n",
       "\\item 'El Goloso'\n",
       "\\item 'El Plantío'\n",
       "\\item 'El Viso'\n",
       "\\item 'Embajadores'\n",
       "\\item 'Entrevías'\n",
       "\\item 'Estrella'\n",
       "\\item 'Fontarrón'\n",
       "\\item 'Fuente del Berro'\n",
       "\\item 'Fuentelareina'\n",
       "\\item 'Gaztambide'\n",
       "\\item 'Goya'\n",
       "\\item 'Guindalera'\n",
       "\\item 'Hellín'\n",
       "\\item 'Hispanoamérica'\n",
       "\\item 'Ibiza'\n",
       "\\item 'Imperial'\n",
       "\\item 'Jerónimos'\n",
       "\\item 'Justicia'\n",
       "\\item 'La Paz'\n",
       "\\item 'Legazpi'\n",
       "\\item 'Lista'\n",
       "\\item 'Los Angeles'\n",
       "\\item 'Los Rosales'\n",
       "\\item 'Lucero'\n",
       "\\item 'Marroquina'\n",
       "\\item 'Media Legua'\n",
       "\\item 'Mirasierra'\n",
       "\\item 'Moscardó'\n",
       "\\item 'Niño Jesús'\n",
       "\\item 'Nueva España'\n",
       "\\item 'Numancia'\n",
       "\\item 'Opañel'\n",
       "\\item 'Orcasitas'\n",
       "\\item 'Orcasur'\n",
       "\\item 'Pacífico'\n",
       "\\item 'Palacio'\n",
       "\\item 'Palomas'\n",
       "\\item 'Palomeras Bajas'\n",
       "\\item 'Palomeras Sureste'\n",
       "\\item 'Palos de Moguer'\n",
       "\\item 'Pavones'\n",
       "\\item 'Peñagrande'\n",
       "\\item 'Pilar'\n",
       "\\item 'Pinar del Rey'\n",
       "\\item 'Piovera'\n",
       "\\item 'Portazgo'\n",
       "\\item 'Pradolongo'\n",
       "\\item 'Prosperidad'\n",
       "\\item 'Pueblo Nuevo'\n",
       "\\item 'Puerta Bonita'\n",
       "\\item 'Puerta del Angel'\n",
       "\\item 'Quintana'\n",
       "\\item 'Recoletos'\n",
       "\\item 'Rejas'\n",
       "\\item 'Rios Rosas'\n",
       "\\item 'Rosas'\n",
       "\\item 'Salvador'\n",
       "\\item 'San Andrés'\n",
       "\\item 'San Cristobal'\n",
       "\\item 'San Diego'\n",
       "\\item 'San Fermín'\n",
       "\\item 'San Isidro'\n",
       "\\item 'San Juan Bautista'\n",
       "\\item 'San Pascual'\n",
       "\\item 'Santa Eugenia'\n",
       "\\item 'Simancas'\n",
       "\\item 'Sol'\n",
       "\\item 'Timón'\n",
       "\\item 'Trafalgar'\n",
       "\\item 'Universidad'\n",
       "\\item 'Valdeacederas'\n",
       "\\item 'Valdefuentes'\n",
       "\\item 'Valdemarín'\n",
       "\\item 'Valdezarza'\n",
       "\\item 'Vallehermoso'\n",
       "\\item 'Valverde'\n",
       "\\item 'Ventas'\n",
       "\\item 'Vinateros'\n",
       "\\item 'Vista Alegre'\n",
       "\\item 'Zofío'\n",
       "\\end{enumerate*}\n"
      ],
      "text/markdown": [
       "1. 'Abrantes'\n",
       "2. 'Acacias'\n",
       "3. 'Adelfas'\n",
       "4. 'Aeropuerto'\n",
       "5. 'Aguilas'\n",
       "6. 'Alameda de Osuna'\n",
       "7. 'Almagro'\n",
       "8. 'Almenara'\n",
       "9. 'Almendrales'\n",
       "10. 'Aluche'\n",
       "11. 'Ambroz'\n",
       "12. 'Amposta'\n",
       "13. 'Apostol Santiago'\n",
       "14. 'Arapiles'\n",
       "15. 'Aravaca'\n",
       "16. 'Arcos'\n",
       "17. 'Argüelles'\n",
       "18. 'Atocha'\n",
       "19. 'Bellas Vistas'\n",
       "20. 'Berruguete'\n",
       "21. 'Buenavista'\n",
       "22. 'Butarque'\n",
       "23. 'Campamento'\n",
       "24. 'Canillas'\n",
       "25. 'Canillejas'\n",
       "26. 'Cármenes'\n",
       "27. 'Casa de Campo'\n",
       "28. 'Casco Histórico de Barajas'\n",
       "29. 'Casco Histórico de Vallecas'\n",
       "30. 'Casco Histórico de Vicálvaro'\n",
       "31. 'Castellana'\n",
       "32. 'Castilla'\n",
       "33. 'Castillejos'\n",
       "34. 'Chopera'\n",
       "35. 'Ciudad Jardín'\n",
       "36. 'Ciudad Universitaria'\n",
       "37. 'Colina'\n",
       "38. 'Comillas'\n",
       "39. 'Concepción'\n",
       "40. 'Corralejos'\n",
       "41. 'Cortes'\n",
       "42. 'Costillares'\n",
       "43. 'Cuatro Caminos'\n",
       "44. 'Cuatro Vientos'\n",
       "45. 'Delicias'\n",
       "46. 'El Goloso'\n",
       "47. 'El Plantío'\n",
       "48. 'El Viso'\n",
       "49. 'Embajadores'\n",
       "50. 'Entrevías'\n",
       "51. 'Estrella'\n",
       "52. 'Fontarrón'\n",
       "53. 'Fuente del Berro'\n",
       "54. 'Fuentelareina'\n",
       "55. 'Gaztambide'\n",
       "56. 'Goya'\n",
       "57. 'Guindalera'\n",
       "58. 'Hellín'\n",
       "59. 'Hispanoamérica'\n",
       "60. 'Ibiza'\n",
       "61. 'Imperial'\n",
       "62. 'Jerónimos'\n",
       "63. 'Justicia'\n",
       "64. 'La Paz'\n",
       "65. 'Legazpi'\n",
       "66. 'Lista'\n",
       "67. 'Los Angeles'\n",
       "68. 'Los Rosales'\n",
       "69. 'Lucero'\n",
       "70. 'Marroquina'\n",
       "71. 'Media Legua'\n",
       "72. 'Mirasierra'\n",
       "73. 'Moscardó'\n",
       "74. 'Niño Jesús'\n",
       "75. 'Nueva España'\n",
       "76. 'Numancia'\n",
       "77. 'Opañel'\n",
       "78. 'Orcasitas'\n",
       "79. 'Orcasur'\n",
       "80. 'Pacífico'\n",
       "81. 'Palacio'\n",
       "82. 'Palomas'\n",
       "83. 'Palomeras Bajas'\n",
       "84. 'Palomeras Sureste'\n",
       "85. 'Palos de Moguer'\n",
       "86. 'Pavones'\n",
       "87. 'Peñagrande'\n",
       "88. 'Pilar'\n",
       "89. 'Pinar del Rey'\n",
       "90. 'Piovera'\n",
       "91. 'Portazgo'\n",
       "92. 'Pradolongo'\n",
       "93. 'Prosperidad'\n",
       "94. 'Pueblo Nuevo'\n",
       "95. 'Puerta Bonita'\n",
       "96. 'Puerta del Angel'\n",
       "97. 'Quintana'\n",
       "98. 'Recoletos'\n",
       "99. 'Rejas'\n",
       "100. 'Rios Rosas'\n",
       "101. 'Rosas'\n",
       "102. 'Salvador'\n",
       "103. 'San Andrés'\n",
       "104. 'San Cristobal'\n",
       "105. 'San Diego'\n",
       "106. 'San Fermín'\n",
       "107. 'San Isidro'\n",
       "108. 'San Juan Bautista'\n",
       "109. 'San Pascual'\n",
       "110. 'Santa Eugenia'\n",
       "111. 'Simancas'\n",
       "112. 'Sol'\n",
       "113. 'Timón'\n",
       "114. 'Trafalgar'\n",
       "115. 'Universidad'\n",
       "116. 'Valdeacederas'\n",
       "117. 'Valdefuentes'\n",
       "118. 'Valdemarín'\n",
       "119. 'Valdezarza'\n",
       "120. 'Vallehermoso'\n",
       "121. 'Valverde'\n",
       "122. 'Ventas'\n",
       "123. 'Vinateros'\n",
       "124. 'Vista Alegre'\n",
       "125. 'Zofío'\n",
       "\n",
       "\n"
      ],
      "text/plain": [
       "  [1] \"Abrantes\"                     \"Acacias\"                     \n",
       "  [3] \"Adelfas\"                      \"Aeropuerto\"                  \n",
       "  [5] \"Aguilas\"                      \"Alameda de Osuna\"            \n",
       "  [7] \"Almagro\"                      \"Almenara\"                    \n",
       "  [9] \"Almendrales\"                  \"Aluche\"                      \n",
       " [11] \"Ambroz\"                       \"Amposta\"                     \n",
       " [13] \"Apostol Santiago\"             \"Arapiles\"                    \n",
       " [15] \"Aravaca\"                      \"Arcos\"                       \n",
       " [17] \"Argüelles\"                    \"Atocha\"                      \n",
       " [19] \"Bellas Vistas\"                \"Berruguete\"                  \n",
       " [21] \"Buenavista\"                   \"Butarque\"                    \n",
       " [23] \"Campamento\"                   \"Canillas\"                    \n",
       " [25] \"Canillejas\"                   \"Cármenes\"                    \n",
       " [27] \"Casa de Campo\"                \"Casco Histórico de Barajas\"  \n",
       " [29] \"Casco Histórico de Vallecas\"  \"Casco Histórico de Vicálvaro\"\n",
       " [31] \"Castellana\"                   \"Castilla\"                    \n",
       " [33] \"Castillejos\"                  \"Chopera\"                     \n",
       " [35] \"Ciudad Jardín\"                \"Ciudad Universitaria\"        \n",
       " [37] \"Colina\"                       \"Comillas\"                    \n",
       " [39] \"Concepción\"                   \"Corralejos\"                  \n",
       " [41] \"Cortes\"                       \"Costillares\"                 \n",
       " [43] \"Cuatro Caminos\"               \"Cuatro Vientos\"              \n",
       " [45] \"Delicias\"                     \"El Goloso\"                   \n",
       " [47] \"El Plantío\"                   \"El Viso\"                     \n",
       " [49] \"Embajadores\"                  \"Entrevías\"                   \n",
       " [51] \"Estrella\"                     \"Fontarrón\"                   \n",
       " [53] \"Fuente del Berro\"             \"Fuentelareina\"               \n",
       " [55] \"Gaztambide\"                   \"Goya\"                        \n",
       " [57] \"Guindalera\"                   \"Hellín\"                      \n",
       " [59] \"Hispanoamérica\"               \"Ibiza\"                       \n",
       " [61] \"Imperial\"                     \"Jerónimos\"                   \n",
       " [63] \"Justicia\"                     \"La Paz\"                      \n",
       " [65] \"Legazpi\"                      \"Lista\"                       \n",
       " [67] \"Los Angeles\"                  \"Los Rosales\"                 \n",
       " [69] \"Lucero\"                       \"Marroquina\"                  \n",
       " [71] \"Media Legua\"                  \"Mirasierra\"                  \n",
       " [73] \"Moscardó\"                     \"Niño Jesús\"                  \n",
       " [75] \"Nueva España\"                 \"Numancia\"                    \n",
       " [77] \"Opañel\"                       \"Orcasitas\"                   \n",
       " [79] \"Orcasur\"                      \"Pacífico\"                    \n",
       " [81] \"Palacio\"                      \"Palomas\"                     \n",
       " [83] \"Palomeras Bajas\"              \"Palomeras Sureste\"           \n",
       " [85] \"Palos de Moguer\"              \"Pavones\"                     \n",
       " [87] \"Peñagrande\"                   \"Pilar\"                       \n",
       " [89] \"Pinar del Rey\"                \"Piovera\"                     \n",
       " [91] \"Portazgo\"                     \"Pradolongo\"                  \n",
       " [93] \"Prosperidad\"                  \"Pueblo Nuevo\"                \n",
       " [95] \"Puerta Bonita\"                \"Puerta del Angel\"            \n",
       " [97] \"Quintana\"                     \"Recoletos\"                   \n",
       " [99] \"Rejas\"                        \"Rios Rosas\"                  \n",
       "[101] \"Rosas\"                        \"Salvador\"                    \n",
       "[103] \"San Andrés\"                   \"San Cristobal\"               \n",
       "[105] \"San Diego\"                    \"San Fermín\"                  \n",
       "[107] \"San Isidro\"                   \"San Juan Bautista\"           \n",
       "[109] \"San Pascual\"                  \"Santa Eugenia\"               \n",
       "[111] \"Simancas\"                     \"Sol\"                         \n",
       "[113] \"Timón\"                        \"Trafalgar\"                   \n",
       "[115] \"Universidad\"                  \"Valdeacederas\"               \n",
       "[117] \"Valdefuentes\"                 \"Valdemarín\"                  \n",
       "[119] \"Valdezarza\"                   \"Vallehermoso\"                \n",
       "[121] \"Valverde\"                     \"Ventas\"                      \n",
       "[123] \"Vinateros\"                    \"Vista Alegre\"                \n",
       "[125] \"Zofío\"                       "
      ]
     },
     "metadata": {},
     "output_type": "display_data"
    }
   ],
   "source": [
    "#Cantidad de barrios\n",
    "print(\"Cantidad de barrios en todo el ds:\")\n",
    "length(levels(factor(airbnb$Barrio)))\n",
    "#Listado\n",
    "print(\"Listado de barrios\")\n",
    "levels(factor(airbnb$Barrio))"
   ]
  },
  {
   "cell_type": "markdown",
   "metadata": {},
   "source": [
    "¿Cuales son los 5 barrios que tienen mayor número entradas?"
   ]
  },
  {
   "cell_type": "code",
   "execution_count": 12,
   "metadata": {},
   "outputs": [
    {
     "name": "stdout",
     "output_type": "stream",
     "text": [
      "[1] \"Barrios con más entradas:\"\n"
     ]
    },
    {
     "data": {
      "text/html": [
       "<table>\n",
       "<caption>A data.frame: 5 × 2</caption>\n",
       "<thead>\n",
       "\t<tr><th></th><th scope=col>Barrio</th><th scope=col>Cantidad</th></tr>\n",
       "\t<tr><th></th><th scope=col>&lt;chr&gt;</th><th scope=col>&lt;int&gt;</th></tr>\n",
       "</thead>\n",
       "<tbody>\n",
       "\t<tr><th scope=row>49</th><td>Embajadores</td><td>1844</td></tr>\n",
       "\t<tr><th scope=row>115</th><td>Universidad</td><td>1358</td></tr>\n",
       "\t<tr><th scope=row>81</th><td>Palacio    </td><td>1083</td></tr>\n",
       "\t<tr><th scope=row>112</th><td>Sol        </td><td> 940</td></tr>\n",
       "\t<tr><th scope=row>63</th><td>Justicia   </td><td> 785</td></tr>\n",
       "</tbody>\n",
       "</table>\n"
      ],
      "text/latex": [
       "A data.frame: 5 × 2\n",
       "\\begin{tabular}{r|ll}\n",
       "  & Barrio & Cantidad\\\\\n",
       "  & <chr> & <int>\\\\\n",
       "\\hline\n",
       "\t49 & Embajadores & 1844\\\\\n",
       "\t115 & Universidad & 1358\\\\\n",
       "\t81 & Palacio     & 1083\\\\\n",
       "\t112 & Sol         &  940\\\\\n",
       "\t63 & Justicia    &  785\\\\\n",
       "\\end{tabular}\n"
      ],
      "text/markdown": [
       "\n",
       "A data.frame: 5 × 2\n",
       "\n",
       "| <!--/--> | Barrio &lt;chr&gt; | Cantidad &lt;int&gt; |\n",
       "|---|---|---|\n",
       "| 49 | Embajadores | 1844 |\n",
       "| 115 | Universidad | 1358 |\n",
       "| 81 | Palacio     | 1083 |\n",
       "| 112 | Sol         |  940 |\n",
       "| 63 | Justicia    |  785 |\n",
       "\n"
      ],
      "text/plain": [
       "    Barrio      Cantidad\n",
       "49  Embajadores 1844    \n",
       "115 Universidad 1358    \n",
       "81  Palacio     1083    \n",
       "112 Sol          940    \n",
       "63  Justicia     785    "
      ]
     },
     "metadata": {},
     "output_type": "display_data"
    }
   ],
   "source": [
    "Barrios <- aggregate(\n",
    "                    x=airbnb$Barrio, \n",
    "                    by = list(Barrio = airbnb$Barrio), \n",
    "                    FUN = length\n",
    "            )\n",
    "names(Barrios) <- c('Barrio', 'Cantidad')\n",
    "#Cantidad de entradas por barrio\n",
    "print(\"Barrios con más entradas:\")\n",
    "head(Barrios[order(-Barrios$Cantidad),],5)"
   ]
  },
  {
   "cell_type": "markdown",
   "metadata": {},
   "source": [
    "¿Cuantos Tipos de Alquiler diferentes hay? ¿Cuales son? ¿Cuantas entradas en el dataframe hay por cada tipo?"
   ]
  },
  {
   "cell_type": "code",
   "execution_count": 13,
   "metadata": {},
   "outputs": [
    {
     "name": "stdout",
     "output_type": "stream",
     "text": [
      "[1] \"Tipos de alquiler:\"\n"
     ]
    },
    {
     "data": {
      "text/html": [
       "3"
      ],
      "text/latex": [
       "3"
      ],
      "text/markdown": [
       "3"
      ],
      "text/plain": [
       "[1] 3"
      ]
     },
     "metadata": {},
     "output_type": "display_data"
    },
    {
     "name": "stdout",
     "output_type": "stream",
     "text": [
      "[1] \"Listado tipo de alquiler\"\n"
     ]
    },
    {
     "data": {
      "text/html": [
       "<style>\n",
       ".list-inline {list-style: none; margin:0; padding: 0}\n",
       ".list-inline>li {display: inline-block}\n",
       ".list-inline>li:not(:last-child)::after {content: \"\\00b7\"; padding: 0 .5ex}\n",
       "</style>\n",
       "<ol class=list-inline><li>'Entire home/apt'</li><li>'Private room'</li><li>'Shared room'</li></ol>\n"
      ],
      "text/latex": [
       "\\begin{enumerate*}\n",
       "\\item 'Entire home/apt'\n",
       "\\item 'Private room'\n",
       "\\item 'Shared room'\n",
       "\\end{enumerate*}\n"
      ],
      "text/markdown": [
       "1. 'Entire home/apt'\n",
       "2. 'Private room'\n",
       "3. 'Shared room'\n",
       "\n",
       "\n"
      ],
      "text/plain": [
       "[1] \"Entire home/apt\" \"Private room\"    \"Shared room\"    "
      ]
     },
     "metadata": {},
     "output_type": "display_data"
    },
    {
     "name": "stdout",
     "output_type": "stream",
     "text": [
      "[1] \"Cantidad de entradas por tipo de alquiler\"\n"
     ]
    },
    {
     "data": {
      "text/html": [
       "<table>\n",
       "<caption>A data.frame: 3 × 2</caption>\n",
       "<thead>\n",
       "\t<tr><th scope=col>TipoAlquiler</th><th scope=col>Cantidad</th></tr>\n",
       "\t<tr><th scope=col>&lt;chr&gt;</th><th scope=col>&lt;int&gt;</th></tr>\n",
       "</thead>\n",
       "<tbody>\n",
       "\t<tr><td>Entire home/apt</td><td>7903</td></tr>\n",
       "\t<tr><td>Private room   </td><td>5113</td></tr>\n",
       "\t<tr><td>Shared room    </td><td> 191</td></tr>\n",
       "</tbody>\n",
       "</table>\n"
      ],
      "text/latex": [
       "A data.frame: 3 × 2\n",
       "\\begin{tabular}{ll}\n",
       " TipoAlquiler & Cantidad\\\\\n",
       " <chr> & <int>\\\\\n",
       "\\hline\n",
       "\t Entire home/apt & 7903\\\\\n",
       "\t Private room    & 5113\\\\\n",
       "\t Shared room     &  191\\\\\n",
       "\\end{tabular}\n"
      ],
      "text/markdown": [
       "\n",
       "A data.frame: 3 × 2\n",
       "\n",
       "| TipoAlquiler &lt;chr&gt; | Cantidad &lt;int&gt; |\n",
       "|---|---|\n",
       "| Entire home/apt | 7903 |\n",
       "| Private room    | 5113 |\n",
       "| Shared room     |  191 |\n",
       "\n"
      ],
      "text/plain": [
       "  TipoAlquiler    Cantidad\n",
       "1 Entire home/apt 7903    \n",
       "2 Private room    5113    \n",
       "3 Shared room      191    "
      ]
     },
     "metadata": {},
     "output_type": "display_data"
    }
   ],
   "source": [
    "TipoAlquileres <- aggregate(\n",
    "                    x=airbnb$TipoAlquiler, \n",
    "                    by = list(airbnb$TipoAlquiler), \n",
    "                    FUN = length\n",
    "            )\n",
    "names(TipoAlquileres) <- c('TipoAlquiler', 'Cantidad')\n",
    "\n",
    "#Cantidad Tipo Alquileres\n",
    "print(\"Tipos de alquiler:\")\n",
    "length(levels(factor(TipoAlquileres$TipoAlquiler)))\n",
    "#Listado Tipo Alquileres\n",
    "print(\"Listado tipo de alquiler\")\n",
    "levels(factor(TipoAlquileres$TipoAlquiler))\n",
    "#Cantidad de entradas por tipo\n",
    "print(\"Cantidad de entradas por tipo de alquiler\")\n",
    "TipoAlquileres"
   ]
  },
  {
   "cell_type": "markdown",
   "metadata": {},
   "source": [
    "Muestra el diagrama de cajas del precio para cada uno de los diferentes Tipos de Alquiler"
   ]
  },
  {
   "cell_type": "code",
   "execution_count": 14,
   "metadata": {},
   "outputs": [
    {
     "name": "stderr",
     "output_type": "stream",
     "text": [
      "Warning message:\n",
      "“Removed 9 rows containing non-finite values (stat_boxplot).”\n"
     ]
    },
    {
     "data": {
      "image/png": "[encoded data removed]",
      "text/plain": [
       "plot without title"
      ]
     },
     "metadata": {
      "image/png": {
       "height": 480,
       "width": 720
      },
      "text/plain": {
       "height": 480,
       "width": 720
      }
     },
     "output_type": "display_data"
    }
   ],
   "source": [
    "options(repr.plot.height=8,repr.plot.width=12)\n",
    "ggplot(data=airbnb,aes(x=TipoAlquiler, y=Precio, color=TipoAlquiler))+\n",
    "    geom_boxplot()+\n",
    "    scale_color_discrete(name=\"Tipo Alquiler\")"
   ]
  },
  {
   "cell_type": "markdown",
   "metadata": {},
   "source": [
    "Cual es el precio medio de alquiler medio de cada uno, la diferencia que hay ¿es estadísticamente significativa?\n",
    "¿Con que test lo comprobarías?"
   ]
  },
  {
   "cell_type": "code",
   "execution_count": 15,
   "metadata": {},
   "outputs": [
    {
     "data": {
      "text/html": [
       "7896"
      ],
      "text/latex": [
       "7896"
      ],
      "text/markdown": [
       "7896"
      ],
      "text/plain": [
       "[1] 7896"
      ]
     },
     "metadata": {},
     "output_type": "display_data"
    },
    {
     "data": {
      "text/html": [
       "87.2966058763931"
      ],
      "text/latex": [
       "87.2966058763931"
      ],
      "text/markdown": [
       "87.2966058763931"
      ],
      "text/plain": [
       "[1] 87.29661"
      ]
     },
     "metadata": {},
     "output_type": "display_data"
    },
    {
     "data": {
      "text/html": [
       "1435"
      ],
      "text/latex": [
       "1435"
      ],
      "text/markdown": [
       "1435"
      ],
      "text/plain": [
       "[1] 1435"
      ]
     },
     "metadata": {},
     "output_type": "display_data"
    },
    {
     "data": {
      "text/html": [
       "81.2968641114983"
      ],
      "text/latex": [
       "81.2968641114983"
      ],
      "text/markdown": [
       "81.2968641114983"
      ],
      "text/plain": [
       "[1] 81.29686"
      ]
     },
     "metadata": {},
     "output_type": "display_data"
    },
    {
     "data": {
      "text/html": [
       "1.81285279934141e-45"
      ],
      "text/latex": [
       "1.81285279934141e-45"
      ],
      "text/markdown": [
       "1.81285279934141e-45"
      ],
      "text/plain": [
       "[1] 1.812853e-45"
      ]
     },
     "metadata": {},
     "output_type": "display_data"
    }
   ],
   "source": [
    "#Entire\n",
    "length(na.omit(airbnb$Precio[airbnb$TipoAlquiler=='Entire home/apt']))\n",
    "mean(airbnb$Precio[airbnb$TipoAlquiler=='Entire home/apt'], na.rm=T)\n",
    "length(na.omit(airbnb$Precio[airbnb$TipoAlquiler=='Entire home/apt' & airbnb$CodigoPostal==28012]))\n",
    "mean(na.omit(airbnb$Precio[airbnb$TipoAlquiler=='Entire home/apt' & airbnb$CodigoPostal==28012]))\n",
    "shapiro.test(na.omit(airbnb$Precio[airbnb$TipoAlquiler=='Entire home/apt' & airbnb$CodigoPostal==28012]))$p.value"
   ]
  },
  {
   "cell_type": "code",
   "execution_count": 16,
   "metadata": {},
   "outputs": [
    {
     "data": {
      "text/html": [
       "5113"
      ],
      "text/latex": [
       "5113"
      ],
      "text/markdown": [
       "5113"
      ],
      "text/plain": [
       "[1] 5113"
      ]
     },
     "metadata": {},
     "output_type": "display_data"
    },
    {
     "data": {
      "text/html": [
       "34.255135981217"
      ],
      "text/latex": [
       "34.255135981217"
      ],
      "text/markdown": [
       "34.255135981217"
      ],
      "text/plain": [
       "[1] 34.25514"
      ]
     },
     "metadata": {},
     "output_type": "display_data"
    },
    {
     "data": {
      "text/html": [
       "603"
      ],
      "text/latex": [
       "603"
      ],
      "text/markdown": [
       "603"
      ],
      "text/plain": [
       "[1] 603"
      ]
     },
     "metadata": {},
     "output_type": "display_data"
    },
    {
     "data": {
      "text/html": [
       "34.0431177446103"
      ],
      "text/latex": [
       "34.0431177446103"
      ],
      "text/markdown": [
       "34.0431177446103"
      ],
      "text/plain": [
       "[1] 34.04312"
      ]
     },
     "metadata": {},
     "output_type": "display_data"
    },
    {
     "data": {
      "text/html": [
       "1.68739348223666e-32"
      ],
      "text/latex": [
       "1.68739348223666e-32"
      ],
      "text/markdown": [
       "1.68739348223666e-32"
      ],
      "text/plain": [
       "[1] 1.687393e-32"
      ]
     },
     "metadata": {},
     "output_type": "display_data"
    }
   ],
   "source": [
    "#Private\n",
    "length(airbnb$Precio[airbnb$TipoAlquiler=='Private room'])\n",
    "mean(airbnb$Precio[airbnb$TipoAlquiler=='Private room'], na.rm=T)\n",
    "length(na.omit(airbnb$Precio[airbnb$TipoAlquiler=='Private room' & airbnb$CodigoPostal==28012]))\n",
    "mean(na.omit(airbnb$Precio[airbnb$TipoAlquiler=='Private room' & airbnb$CodigoPostal==28012]))\n",
    "shapiro.test(na.omit(airbnb$Precio[airbnb$TipoAlquiler=='Private room'& airbnb$CodigoPostal==28012]))$p.value"
   ]
  },
  {
   "cell_type": "code",
   "execution_count": 17,
   "metadata": {},
   "outputs": [
    {
     "data": {
      "text/html": [
       "191"
      ],
      "text/latex": [
       "191"
      ],
      "text/markdown": [
       "191"
      ],
      "text/plain": [
       "[1] 191"
      ]
     },
     "metadata": {},
     "output_type": "display_data"
    },
    {
     "data": {
      "text/html": [
       "29.8534031413613"
      ],
      "text/latex": [
       "29.8534031413613"
      ],
      "text/markdown": [
       "29.8534031413613"
      ],
      "text/plain": [
       "[1] 29.8534"
      ]
     },
     "metadata": {},
     "output_type": "display_data"
    },
    {
     "data": {
      "text/html": [
       "22"
      ],
      "text/latex": [
       "22"
      ],
      "text/markdown": [
       "22"
      ],
      "text/plain": [
       "[1] 22"
      ]
     },
     "metadata": {},
     "output_type": "display_data"
    },
    {
     "data": {
      "text/html": [
       "45.0909090909091"
      ],
      "text/latex": [
       "45.0909090909091"
      ],
      "text/markdown": [
       "45.0909090909091"
      ],
      "text/plain": [
       "[1] 45.09091"
      ]
     },
     "metadata": {},
     "output_type": "display_data"
    },
    {
     "data": {
      "text/html": [
       "4.51672121600842e-24"
      ],
      "text/latex": [
       "4.51672121600842e-24"
      ],
      "text/markdown": [
       "4.51672121600842e-24"
      ],
      "text/plain": [
       "[1] 4.516721e-24"
      ]
     },
     "metadata": {},
     "output_type": "display_data"
    }
   ],
   "source": [
    "#Shared\n",
    "length(airbnb$Precio[airbnb$TipoAlquiler=='Shared room'])\n",
    "mean(airbnb$Precio[airbnb$TipoAlquiler=='Shared room'], na.rm=T)\n",
    "length(na.omit(airbnb$Precio[airbnb$TipoAlquiler=='Shared room' & airbnb$CodigoPostal==28012]))\n",
    "mean(na.omit(airbnb$Precio[airbnb$TipoAlquiler=='Shared room' & airbnb$CodigoPostal==28012]))\n",
    "shapiro.test(na.omit(airbnb$Precio[airbnb$TipoAlquiler=='Shared room']))$p.value"
   ]
  },
  {
   "cell_type": "markdown",
   "metadata": {},
   "source": [
    "Filtra el dataframe cuyos tipo de alquiler sea  'Entire home/apt' y guardalo en un dataframe llamado \n",
    "*airbnb_entire*.\n",
    "Estas serán las entradas que tienen un alquiler del piso completo."
   ]
  },
  {
   "cell_type": "code",
   "execution_count": 18,
   "metadata": {},
   "outputs": [],
   "source": [
    "airbnb_entire <- airbnb[airbnb$TipoAlquiler=='Entire home/apt',]"
   ]
  },
  {
   "cell_type": "markdown",
   "metadata": {},
   "source": [
    "¿Cuales son los 5 barrios que tienen un mayor número de apartamentos enteros en alquiler?\n",
    "Nota: Mirar solo en airbnb_entire"
   ]
  },
  {
   "cell_type": "code",
   "execution_count": 19,
   "metadata": {},
   "outputs": [
    {
     "name": "stdout",
     "output_type": "stream",
     "text": [
      "[1] \"Barrios con más apartamentos enteros en alquiler:\"\n"
     ]
    },
    {
     "data": {
      "text/html": [
       "<table>\n",
       "<caption>A data.frame: 5 × 2</caption>\n",
       "<thead>\n",
       "\t<tr><th></th><th scope=col>Barrio</th><th scope=col>Cantidad</th></tr>\n",
       "\t<tr><th></th><th scope=col>&lt;chr&gt;</th><th scope=col>&lt;int&gt;</th></tr>\n",
       "</thead>\n",
       "<tbody>\n",
       "\t<tr><th scope=row>45</th><td>Embajadores</td><td>1228</td></tr>\n",
       "\t<tr><th scope=row>109</th><td>Universidad</td><td> 984</td></tr>\n",
       "\t<tr><th scope=row>76</th><td>Palacio    </td><td> 769</td></tr>\n",
       "\t<tr><th scope=row>106</th><td>Sol        </td><td> 701</td></tr>\n",
       "\t<tr><th scope=row>39</th><td>Cortes     </td><td> 574</td></tr>\n",
       "</tbody>\n",
       "</table>\n"
      ],
      "text/latex": [
       "A data.frame: 5 × 2\n",
       "\\begin{tabular}{r|ll}\n",
       "  & Barrio & Cantidad\\\\\n",
       "  & <chr> & <int>\\\\\n",
       "\\hline\n",
       "\t45 & Embajadores & 1228\\\\\n",
       "\t109 & Universidad &  984\\\\\n",
       "\t76 & Palacio     &  769\\\\\n",
       "\t106 & Sol         &  701\\\\\n",
       "\t39 & Cortes      &  574\\\\\n",
       "\\end{tabular}\n"
      ],
      "text/markdown": [
       "\n",
       "A data.frame: 5 × 2\n",
       "\n",
       "| <!--/--> | Barrio &lt;chr&gt; | Cantidad &lt;int&gt; |\n",
       "|---|---|---|\n",
       "| 45 | Embajadores | 1228 |\n",
       "| 109 | Universidad |  984 |\n",
       "| 76 | Palacio     |  769 |\n",
       "| 106 | Sol         |  701 |\n",
       "| 39 | Cortes      |  574 |\n",
       "\n"
      ],
      "text/plain": [
       "    Barrio      Cantidad\n",
       "45  Embajadores 1228    \n",
       "109 Universidad  984    \n",
       "76  Palacio      769    \n",
       "106 Sol          701    \n",
       "39  Cortes       574    "
      ]
     },
     "metadata": {},
     "output_type": "display_data"
    }
   ],
   "source": [
    "Apartamentos <- aggregate(\n",
    "                    x=airbnb_entire$Barrio, \n",
    "                    by = list(airbnb_entire$Barrio), \n",
    "                    FUN = length\n",
    "            )\n",
    "names(Apartamentos) <- c('Barrio', 'Cantidad')\n",
    "#Cantidad de entradas por barrio\n",
    "print(\"Barrios con más apartamentos enteros en alquiler:\")\n",
    "head(Apartamentos[order(-Apartamentos$Cantidad),],5)"
   ]
  },
  {
   "cell_type": "markdown",
   "metadata": {},
   "source": [
    "¿Cuales son los 5 barrios que tienen un mayor precio medio de alquiler para apartamentos enteros?\n",
    "\n",
    "¿Cual es su precio medio?\n",
    "\n",
    "Ayuda: Usa la función aggregate `aggregate(.~colname,df,mean,na.rm=TRUE)`"
   ]
  },
  {
   "cell_type": "code",
   "execution_count": 20,
   "metadata": {},
   "outputs": [
    {
     "name": "stdout",
     "output_type": "stream",
     "text": [
      "[1] \"Barrios con mayor precio promedio:\"\n"
     ]
    },
    {
     "data": {
      "text/html": [
       "<table>\n",
       "<caption>A data.frame: 5 × 2</caption>\n",
       "<thead>\n",
       "\t<tr><th></th><th scope=col>Barrio</th><th scope=col>PrecioPromedio</th></tr>\n",
       "\t<tr><th></th><th scope=col>&lt;chr&gt;</th><th scope=col>&lt;dbl&gt;</th></tr>\n",
       "</thead>\n",
       "<tbody>\n",
       "\t<tr><th scope=row>77</th><td>Palomas      </td><td>309.7500</td></tr>\n",
       "\t<tr><th scope=row>50</th><td>Fuentelareina</td><td>180.0000</td></tr>\n",
       "\t<tr><th scope=row>93</th><td>Recoletos    </td><td>161.9254</td></tr>\n",
       "\t<tr><th scope=row>43</th><td>El Plantío   </td><td>150.0000</td></tr>\n",
       "\t<tr><th scope=row>30</th><td>Castellana   </td><td>141.3889</td></tr>\n",
       "</tbody>\n",
       "</table>\n"
      ],
      "text/latex": [
       "A data.frame: 5 × 2\n",
       "\\begin{tabular}{r|ll}\n",
       "  & Barrio & PrecioPromedio\\\\\n",
       "  & <chr> & <dbl>\\\\\n",
       "\\hline\n",
       "\t77 & Palomas       & 309.7500\\\\\n",
       "\t50 & Fuentelareina & 180.0000\\\\\n",
       "\t93 & Recoletos     & 161.9254\\\\\n",
       "\t43 & El Plantío    & 150.0000\\\\\n",
       "\t30 & Castellana    & 141.3889\\\\\n",
       "\\end{tabular}\n"
      ],
      "text/markdown": [
       "\n",
       "A data.frame: 5 × 2\n",
       "\n",
       "| <!--/--> | Barrio &lt;chr&gt; | PrecioPromedio &lt;dbl&gt; |\n",
       "|---|---|---|\n",
       "| 77 | Palomas       | 309.7500 |\n",
       "| 50 | Fuentelareina | 180.0000 |\n",
       "| 93 | Recoletos     | 161.9254 |\n",
       "| 43 | El Plantío    | 150.0000 |\n",
       "| 30 | Castellana    | 141.3889 |\n",
       "\n"
      ],
      "text/plain": [
       "   Barrio        PrecioPromedio\n",
       "77 Palomas       309.7500      \n",
       "50 Fuentelareina 180.0000      \n",
       "93 Recoletos     161.9254      \n",
       "43 El Plantío    150.0000      \n",
       "30 Castellana    141.3889      "
      ]
     },
     "metadata": {},
     "output_type": "display_data"
    }
   ],
   "source": [
    "Precios <- aggregate(\n",
    "                    x=airbnb_entire$Precio, \n",
    "                    by = list(airbnb_entire$Barrio), \n",
    "                    FUN = mean,\n",
    "                    na.rm=TRUE\n",
    "            )\n",
    "names(Precios) <- c('Barrio', 'PrecioPromedio')\n",
    "#Precios promedio por barrio\n",
    "print(\"Barrios con mayor precio promedio:\")\n",
    "head(Precios[order(-Precios$PrecioPromedio),],5)"
   ]
  },
  {
   "cell_type": "markdown",
   "metadata": {},
   "source": [
    "¿Cuantos apartamentos hay en cada uno de esos barrios?\n",
    "\n",
    "Mostrar una dataframe con el nombre del barrio, el precio y el número de entradas.\n",
    "\n",
    "Ayuda: Podeis crear un nuevo dataframe con las columnas \"Barrio\" y \"Freq\" que contenga el número de entradas en cada barrio y hacer un merge con el dataframe del punto anterior."
   ]
  },
  {
   "cell_type": "code",
   "execution_count": 21,
   "metadata": {},
   "outputs": [
    {
     "data": {
      "text/html": [
       "<table>\n",
       "<caption>A data.frame: 119 × 3</caption>\n",
       "<thead>\n",
       "\t<tr><th scope=col>Barrio</th><th scope=col>Freq</th><th scope=col>Precio</th></tr>\n",
       "\t<tr><th scope=col>&lt;chr&gt;</th><th scope=col>&lt;int&gt;</th><th scope=col>&lt;dbl&gt;</th></tr>\n",
       "</thead>\n",
       "<tbody>\n",
       "\t<tr><td>Abrantes                    </td><td>  3</td><td> 46.00000</td></tr>\n",
       "\t<tr><td>Acacias                     </td><td> 61</td><td> 68.16393</td></tr>\n",
       "\t<tr><td>Adelfas                     </td><td> 33</td><td> 68.72727</td></tr>\n",
       "\t<tr><td>Aeropuerto                  </td><td>  2</td><td> 38.00000</td></tr>\n",
       "\t<tr><td>Aguilas                     </td><td>  2</td><td> 54.50000</td></tr>\n",
       "\t<tr><td>Alameda de Osuna            </td><td>  4</td><td>138.75000</td></tr>\n",
       "\t<tr><td>Almagro                     </td><td> 97</td><td>109.18557</td></tr>\n",
       "\t<tr><td>Almenara                    </td><td> 25</td><td> 65.68000</td></tr>\n",
       "\t<tr><td>Almendrales                 </td><td> 18</td><td> 77.50000</td></tr>\n",
       "\t<tr><td>Aluche                      </td><td>  9</td><td> 55.88889</td></tr>\n",
       "\t<tr><td>Ambroz                      </td><td>  2</td><td> 34.50000</td></tr>\n",
       "\t<tr><td>Apostol Santiago            </td><td>  5</td><td> 96.60000</td></tr>\n",
       "\t<tr><td>Arapiles                    </td><td> 98</td><td> 69.62245</td></tr>\n",
       "\t<tr><td>Aravaca                     </td><td>  9</td><td> 66.33333</td></tr>\n",
       "\t<tr><td>Arcos                       </td><td>  4</td><td>100.50000</td></tr>\n",
       "\t<tr><td>Argüelles                   </td><td>143</td><td> 89.57343</td></tr>\n",
       "\t<tr><td>Atocha                      </td><td>  9</td><td> 71.44444</td></tr>\n",
       "\t<tr><td>Bellas Vistas               </td><td> 45</td><td> 51.77778</td></tr>\n",
       "\t<tr><td>Berruguete                  </td><td> 35</td><td> 53.85714</td></tr>\n",
       "\t<tr><td>Buenavista                  </td><td> 12</td><td> 57.91667</td></tr>\n",
       "\t<tr><td>Butarque                    </td><td>  1</td><td> 42.00000</td></tr>\n",
       "\t<tr><td>Campamento                  </td><td>  9</td><td> 45.55556</td></tr>\n",
       "\t<tr><td>Canillas                    </td><td> 15</td><td>105.80000</td></tr>\n",
       "\t<tr><td>Canillejas                  </td><td>  3</td><td> 91.66667</td></tr>\n",
       "\t<tr><td>Cármenes                    </td><td>  8</td><td> 78.00000</td></tr>\n",
       "\t<tr><td>Casa de Campo               </td><td> 41</td><td> 98.85366</td></tr>\n",
       "\t<tr><td>Casco Histórico de Barajas  </td><td>  8</td><td>141.25000</td></tr>\n",
       "\t<tr><td>Casco Histórico de Vallecas </td><td> 18</td><td> 61.11111</td></tr>\n",
       "\t<tr><td>Casco Histórico de Vicálvaro</td><td>  8</td><td> 73.87500</td></tr>\n",
       "\t<tr><td>Castellana                  </td><td> 73</td><td>141.38889</td></tr>\n",
       "\t<tr><td>⋮</td><td>⋮</td><td>⋮</td></tr>\n",
       "\t<tr><td>Puerta Bonita    </td><td> 14</td><td> 88.00000</td></tr>\n",
       "\t<tr><td>Puerta del Angel </td><td> 77</td><td> 59.67532</td></tr>\n",
       "\t<tr><td>Quintana         </td><td> 17</td><td> 65.00000</td></tr>\n",
       "\t<tr><td>Recoletos        </td><td>135</td><td>161.92537</td></tr>\n",
       "\t<tr><td>Rejas            </td><td> 11</td><td> 64.18182</td></tr>\n",
       "\t<tr><td>Rios Rosas       </td><td> 60</td><td> 83.00000</td></tr>\n",
       "\t<tr><td>Salvador         </td><td>  5</td><td> 66.40000</td></tr>\n",
       "\t<tr><td>San Andrés       </td><td> 12</td><td> 50.91667</td></tr>\n",
       "\t<tr><td>San Cristobal    </td><td>  2</td><td> 56.50000</td></tr>\n",
       "\t<tr><td>San Diego        </td><td> 32</td><td> 44.34375</td></tr>\n",
       "\t<tr><td>San Fermín       </td><td>  8</td><td> 63.50000</td></tr>\n",
       "\t<tr><td>San Isidro       </td><td> 39</td><td> 76.10256</td></tr>\n",
       "\t<tr><td>San Juan Bautista</td><td> 13</td><td> 75.53846</td></tr>\n",
       "\t<tr><td>San Pascual      </td><td>  7</td><td> 72.42857</td></tr>\n",
       "\t<tr><td>Santa Eugenia    </td><td>  2</td><td> 47.00000</td></tr>\n",
       "\t<tr><td>Simancas         </td><td> 21</td><td> 57.14286</td></tr>\n",
       "\t<tr><td>Sol              </td><td>701</td><td>100.75036</td></tr>\n",
       "\t<tr><td>Timón            </td><td>  5</td><td> 72.20000</td></tr>\n",
       "\t<tr><td>Trafalgar        </td><td>223</td><td> 98.57848</td></tr>\n",
       "\t<tr><td>Universidad      </td><td>984</td><td> 79.39674</td></tr>\n",
       "\t<tr><td>Valdeacederas    </td><td> 25</td><td> 67.36000</td></tr>\n",
       "\t<tr><td>Valdefuentes     </td><td> 24</td><td> 84.25000</td></tr>\n",
       "\t<tr><td>Valdemarín       </td><td>  2</td><td> 70.50000</td></tr>\n",
       "\t<tr><td>Valdezarza       </td><td>  3</td><td> 53.33333</td></tr>\n",
       "\t<tr><td>Vallehermoso     </td><td> 33</td><td> 92.39394</td></tr>\n",
       "\t<tr><td>Valverde         </td><td> 19</td><td> 71.57895</td></tr>\n",
       "\t<tr><td>Ventas           </td><td> 26</td><td> 50.03846</td></tr>\n",
       "\t<tr><td>Vinateros        </td><td>  2</td><td>102.50000</td></tr>\n",
       "\t<tr><td>Vista Alegre     </td><td> 22</td><td> 59.45455</td></tr>\n",
       "\t<tr><td>Zofío            </td><td>  4</td><td> 48.00000</td></tr>\n",
       "</tbody>\n",
       "</table>\n"
      ],
      "text/latex": [
       "A data.frame: 119 × 3\n",
       "\\begin{tabular}{lll}\n",
       " Barrio & Freq & Precio\\\\\n",
       " <chr> & <int> & <dbl>\\\\\n",
       "\\hline\n",
       "\t Abrantes                     &   3 &  46.00000\\\\\n",
       "\t Acacias                      &  61 &  68.16393\\\\\n",
       "\t Adelfas                      &  33 &  68.72727\\\\\n",
       "\t Aeropuerto                   &   2 &  38.00000\\\\\n",
       "\t Aguilas                      &   2 &  54.50000\\\\\n",
       "\t Alameda de Osuna             &   4 & 138.75000\\\\\n",
       "\t Almagro                      &  97 & 109.18557\\\\\n",
       "\t Almenara                     &  25 &  65.68000\\\\\n",
       "\t Almendrales                  &  18 &  77.50000\\\\\n",
       "\t Aluche                       &   9 &  55.88889\\\\\n",
       "\t Ambroz                       &   2 &  34.50000\\\\\n",
       "\t Apostol Santiago             &   5 &  96.60000\\\\\n",
       "\t Arapiles                     &  98 &  69.62245\\\\\n",
       "\t Aravaca                      &   9 &  66.33333\\\\\n",
       "\t Arcos                        &   4 & 100.50000\\\\\n",
       "\t Argüelles                    & 143 &  89.57343\\\\\n",
       "\t Atocha                       &   9 &  71.44444\\\\\n",
       "\t Bellas Vistas                &  45 &  51.77778\\\\\n",
       "\t Berruguete                   &  35 &  53.85714\\\\\n",
       "\t Buenavista                   &  12 &  57.91667\\\\\n",
       "\t Butarque                     &   1 &  42.00000\\\\\n",
       "\t Campamento                   &   9 &  45.55556\\\\\n",
       "\t Canillas                     &  15 & 105.80000\\\\\n",
       "\t Canillejas                   &   3 &  91.66667\\\\\n",
       "\t Cármenes                     &   8 &  78.00000\\\\\n",
       "\t Casa de Campo                &  41 &  98.85366\\\\\n",
       "\t Casco Histórico de Barajas   &   8 & 141.25000\\\\\n",
       "\t Casco Histórico de Vallecas  &  18 &  61.11111\\\\\n",
       "\t Casco Histórico de Vicálvaro &   8 &  73.87500\\\\\n",
       "\t Castellana                   &  73 & 141.38889\\\\\n",
       "\t ⋮ & ⋮ & ⋮\\\\\n",
       "\t Puerta Bonita     &  14 &  88.00000\\\\\n",
       "\t Puerta del Angel  &  77 &  59.67532\\\\\n",
       "\t Quintana          &  17 &  65.00000\\\\\n",
       "\t Recoletos         & 135 & 161.92537\\\\\n",
       "\t Rejas             &  11 &  64.18182\\\\\n",
       "\t Rios Rosas        &  60 &  83.00000\\\\\n",
       "\t Salvador          &   5 &  66.40000\\\\\n",
       "\t San Andrés        &  12 &  50.91667\\\\\n",
       "\t San Cristobal     &   2 &  56.50000\\\\\n",
       "\t San Diego         &  32 &  44.34375\\\\\n",
       "\t San Fermín        &   8 &  63.50000\\\\\n",
       "\t San Isidro        &  39 &  76.10256\\\\\n",
       "\t San Juan Bautista &  13 &  75.53846\\\\\n",
       "\t San Pascual       &   7 &  72.42857\\\\\n",
       "\t Santa Eugenia     &   2 &  47.00000\\\\\n",
       "\t Simancas          &  21 &  57.14286\\\\\n",
       "\t Sol               & 701 & 100.75036\\\\\n",
       "\t Timón             &   5 &  72.20000\\\\\n",
       "\t Trafalgar         & 223 &  98.57848\\\\\n",
       "\t Universidad       & 984 &  79.39674\\\\\n",
       "\t Valdeacederas     &  25 &  67.36000\\\\\n",
       "\t Valdefuentes      &  24 &  84.25000\\\\\n",
       "\t Valdemarín        &   2 &  70.50000\\\\\n",
       "\t Valdezarza        &   3 &  53.33333\\\\\n",
       "\t Vallehermoso      &  33 &  92.39394\\\\\n",
       "\t Valverde          &  19 &  71.57895\\\\\n",
       "\t Ventas            &  26 &  50.03846\\\\\n",
       "\t Vinateros         &   2 & 102.50000\\\\\n",
       "\t Vista Alegre      &  22 &  59.45455\\\\\n",
       "\t Zofío             &   4 &  48.00000\\\\\n",
       "\\end{tabular}\n"
      ],
      "text/markdown": [
       "\n",
       "A data.frame: 119 × 3\n",
       "\n",
       "| Barrio &lt;chr&gt; | Freq &lt;int&gt; | Precio &lt;dbl&gt; |\n",
       "|---|---|---|\n",
       "| Abrantes                     |   3 |  46.00000 |\n",
       "| Acacias                      |  61 |  68.16393 |\n",
       "| Adelfas                      |  33 |  68.72727 |\n",
       "| Aeropuerto                   |   2 |  38.00000 |\n",
       "| Aguilas                      |   2 |  54.50000 |\n",
       "| Alameda de Osuna             |   4 | 138.75000 |\n",
       "| Almagro                      |  97 | 109.18557 |\n",
       "| Almenara                     |  25 |  65.68000 |\n",
       "| Almendrales                  |  18 |  77.50000 |\n",
       "| Aluche                       |   9 |  55.88889 |\n",
       "| Ambroz                       |   2 |  34.50000 |\n",
       "| Apostol Santiago             |   5 |  96.60000 |\n",
       "| Arapiles                     |  98 |  69.62245 |\n",
       "| Aravaca                      |   9 |  66.33333 |\n",
       "| Arcos                        |   4 | 100.50000 |\n",
       "| Argüelles                    | 143 |  89.57343 |\n",
       "| Atocha                       |   9 |  71.44444 |\n",
       "| Bellas Vistas                |  45 |  51.77778 |\n",
       "| Berruguete                   |  35 |  53.85714 |\n",
       "| Buenavista                   |  12 |  57.91667 |\n",
       "| Butarque                     |   1 |  42.00000 |\n",
       "| Campamento                   |   9 |  45.55556 |\n",
       "| Canillas                     |  15 | 105.80000 |\n",
       "| Canillejas                   |   3 |  91.66667 |\n",
       "| Cármenes                     |   8 |  78.00000 |\n",
       "| Casa de Campo                |  41 |  98.85366 |\n",
       "| Casco Histórico de Barajas   |   8 | 141.25000 |\n",
       "| Casco Histórico de Vallecas  |  18 |  61.11111 |\n",
       "| Casco Histórico de Vicálvaro |   8 |  73.87500 |\n",
       "| Castellana                   |  73 | 141.38889 |\n",
       "| ⋮ | ⋮ | ⋮ |\n",
       "| Puerta Bonita     |  14 |  88.00000 |\n",
       "| Puerta del Angel  |  77 |  59.67532 |\n",
       "| Quintana          |  17 |  65.00000 |\n",
       "| Recoletos         | 135 | 161.92537 |\n",
       "| Rejas             |  11 |  64.18182 |\n",
       "| Rios Rosas        |  60 |  83.00000 |\n",
       "| Salvador          |   5 |  66.40000 |\n",
       "| San Andrés        |  12 |  50.91667 |\n",
       "| San Cristobal     |   2 |  56.50000 |\n",
       "| San Diego         |  32 |  44.34375 |\n",
       "| San Fermín        |   8 |  63.50000 |\n",
       "| San Isidro        |  39 |  76.10256 |\n",
       "| San Juan Bautista |  13 |  75.53846 |\n",
       "| San Pascual       |   7 |  72.42857 |\n",
       "| Santa Eugenia     |   2 |  47.00000 |\n",
       "| Simancas          |  21 |  57.14286 |\n",
       "| Sol               | 701 | 100.75036 |\n",
       "| Timón             |   5 |  72.20000 |\n",
       "| Trafalgar         | 223 |  98.57848 |\n",
       "| Universidad       | 984 |  79.39674 |\n",
       "| Valdeacederas     |  25 |  67.36000 |\n",
       "| Valdefuentes      |  24 |  84.25000 |\n",
       "| Valdemarín        |   2 |  70.50000 |\n",
       "| Valdezarza        |   3 |  53.33333 |\n",
       "| Vallehermoso      |  33 |  92.39394 |\n",
       "| Valverde          |  19 |  71.57895 |\n",
       "| Ventas            |  26 |  50.03846 |\n",
       "| Vinateros         |   2 | 102.50000 |\n",
       "| Vista Alegre      |  22 |  59.45455 |\n",
       "| Zofío             |   4 |  48.00000 |\n",
       "\n"
      ],
      "text/plain": [
       "    Barrio                       Freq Precio   \n",
       "1   Abrantes                       3   46.00000\n",
       "2   Acacias                       61   68.16393\n",
       "3   Adelfas                       33   68.72727\n",
       "4   Aeropuerto                     2   38.00000\n",
       "5   Aguilas                        2   54.50000\n",
       "6   Alameda de Osuna               4  138.75000\n",
       "7   Almagro                       97  109.18557\n",
       "8   Almenara                      25   65.68000\n",
       "9   Almendrales                   18   77.50000\n",
       "10  Aluche                         9   55.88889\n",
       "11  Ambroz                         2   34.50000\n",
       "12  Apostol Santiago               5   96.60000\n",
       "13  Arapiles                      98   69.62245\n",
       "14  Aravaca                        9   66.33333\n",
       "15  Arcos                          4  100.50000\n",
       "16  Argüelles                    143   89.57343\n",
       "17  Atocha                         9   71.44444\n",
       "18  Bellas Vistas                 45   51.77778\n",
       "19  Berruguete                    35   53.85714\n",
       "20  Buenavista                    12   57.91667\n",
       "21  Butarque                       1   42.00000\n",
       "22  Campamento                     9   45.55556\n",
       "23  Canillas                      15  105.80000\n",
       "24  Canillejas                     3   91.66667\n",
       "25  Cármenes                       8   78.00000\n",
       "26  Casa de Campo                 41   98.85366\n",
       "27  Casco Histórico de Barajas     8  141.25000\n",
       "28  Casco Histórico de Vallecas   18   61.11111\n",
       "29  Casco Histórico de Vicálvaro   8   73.87500\n",
       "30  Castellana                    73  141.38889\n",
       "⋮   ⋮                            ⋮    ⋮        \n",
       "90  Puerta Bonita                 14   88.00000\n",
       "91  Puerta del Angel              77   59.67532\n",
       "92  Quintana                      17   65.00000\n",
       "93  Recoletos                    135  161.92537\n",
       "94  Rejas                         11   64.18182\n",
       "95  Rios Rosas                    60   83.00000\n",
       "96  Salvador                       5   66.40000\n",
       "97  San Andrés                    12   50.91667\n",
       "98  San Cristobal                  2   56.50000\n",
       "99  San Diego                     32   44.34375\n",
       "100 San Fermín                     8   63.50000\n",
       "101 San Isidro                    39   76.10256\n",
       "102 San Juan Bautista             13   75.53846\n",
       "103 San Pascual                    7   72.42857\n",
       "104 Santa Eugenia                  2   47.00000\n",
       "105 Simancas                      21   57.14286\n",
       "106 Sol                          701  100.75036\n",
       "107 Timón                          5   72.20000\n",
       "108 Trafalgar                    223   98.57848\n",
       "109 Universidad                  984   79.39674\n",
       "110 Valdeacederas                 25   67.36000\n",
       "111 Valdefuentes                  24   84.25000\n",
       "112 Valdemarín                     2   70.50000\n",
       "113 Valdezarza                     3   53.33333\n",
       "114 Vallehermoso                  33   92.39394\n",
       "115 Valverde                      19   71.57895\n",
       "116 Ventas                        26   50.03846\n",
       "117 Vinateros                      2  102.50000\n",
       "118 Vista Alegre                  22   59.45455\n",
       "119 Zofío                          4   48.00000"
      ]
     },
     "metadata": {},
     "output_type": "display_data"
    }
   ],
   "source": [
    "ApartamentosYPrecios<- merge(Apartamentos, Precios, by.x=\"Barrio\", by.y=\"Barrio\", na.ignore=T)\n",
    "names(ApartamentosYPrecios) <- c('Barrio', 'Freq', 'Precio')\n",
    "ApartamentosYPrecios"
   ]
  },
  {
   "cell_type": "markdown",
   "metadata": {},
   "source": [
    "Partiendo del dataframe anterior, muestra los 5 barrios con mayor precio, pero que tengan más de 100 entradas de alquiler."
   ]
  },
  {
   "cell_type": "code",
   "execution_count": 22,
   "metadata": {},
   "outputs": [
    {
     "data": {
      "text/html": [
       "<style>\n",
       ".list-inline {list-style: none; margin:0; padding: 0}\n",
       ".list-inline>li {display: inline-block}\n",
       ".list-inline>li:not(:last-child)::after {content: \"\\00b7\"; padding: 0 .5ex}\n",
       "</style>\n",
       "<ol class=list-inline><li>'Recoletos'</li><li>'Goya'</li><li>'Sol'</li><li>'Trafalgar'</li><li>'Justicia'</li></ol>\n"
      ],
      "text/latex": [
       "\\begin{enumerate*}\n",
       "\\item 'Recoletos'\n",
       "\\item 'Goya'\n",
       "\\item 'Sol'\n",
       "\\item 'Trafalgar'\n",
       "\\item 'Justicia'\n",
       "\\end{enumerate*}\n"
      ],
      "text/markdown": [
       "1. 'Recoletos'\n",
       "2. 'Goya'\n",
       "3. 'Sol'\n",
       "4. 'Trafalgar'\n",
       "5. 'Justicia'\n",
       "\n",
       "\n"
      ],
      "text/plain": [
       "[1] \"Recoletos\" \"Goya\"      \"Sol\"       \"Trafalgar\" \"Justicia\" "
      ]
     },
     "metadata": {},
     "output_type": "display_data"
    }
   ],
   "source": [
    "ApartamentosMas100 <- ApartamentosYPrecios[ApartamentosYPrecios$Freq>100,]\n",
    "head(ApartamentosMas100$Barrio[order(-ApartamentosMas100$Precio)],5)"
   ]
  },
  {
   "cell_type": "markdown",
   "metadata": {},
   "source": [
    "Dibuja el diagrama de densidad de distribución de los diferentes precios"
   ]
  },
  {
   "cell_type": "code",
   "execution_count": 23,
   "metadata": {},
   "outputs": [
    {
     "name": "stderr",
     "output_type": "stream",
     "text": [
      "Warning message:\n",
      "“Removed 9 rows containing non-finite values (stat_density).”\n"
     ]
    },
    {
     "data": {
      "image/png": "[encoded data removed]",
      "text/plain": [
       "plot without title"
      ]
     },
     "metadata": {
      "image/png": {
       "height": 480,
       "width": 720
      },
      "text/plain": {
       "height": 480,
       "width": 720
      }
     },
     "output_type": "display_data"
    }
   ],
   "source": [
    "#Todo el ds\n",
    "ggplot(data=airbnb,aes(x=Precio))+\n",
    "    geom_density(fill=\"#ebc634\")"
   ]
  },
  {
   "cell_type": "code",
   "execution_count": 24,
   "metadata": {},
   "outputs": [
    {
     "name": "stderr",
     "output_type": "stream",
     "text": [
      "Warning message:\n",
      "“Removed 7 rows containing non-finite values (stat_density).”\n"
     ]
    },
    {
     "data": {
      "image/png": "[encoded data removed]",
      "text/plain": [
       "plot without title"
      ]
     },
     "metadata": {
      "image/png": {
       "height": 480,
       "width": 720
      },
      "text/plain": {
       "height": 480,
       "width": 720
      }
     },
     "output_type": "display_data"
    }
   ],
   "source": [
    "#entire\n",
    "ggplot(data=airbnb_entire,aes(x=Precio))+\n",
    "    geom_density(fill=\"#34abeb\")"
   ]
  },
  {
   "cell_type": "code",
   "execution_count": 25,
   "metadata": {},
   "outputs": [
    {
     "data": {
      "image/png": "[encoded data removed]",
      "text/plain": [
       "plot without title"
      ]
     },
     "metadata": {
      "image/png": {
       "height": 480,
       "width": 720
      },
      "text/plain": {
       "height": 480,
       "width": 720
      }
     },
     "output_type": "display_data"
    }
   ],
   "source": [
    "#ApartamentosYPrecios\n",
    "ggplot(data=ApartamentosYPrecios,aes(x=Precio))+\n",
    "    geom_density(fill=\"#eb91d7\")+\n",
    "    theme_bw()"
   ]
  },
  {
   "cell_type": "markdown",
   "metadata": {},
   "source": [
    "Calcula el tamaño medio, en metros cuadrados, para los 5 barrios anteriores y muestralo en el mismo dataframe junto con el precio y número de entradas"
   ]
  },
  {
   "cell_type": "code",
   "execution_count": 26,
   "metadata": {},
   "outputs": [
    {
     "data": {
      "text/html": [
       "<table>\n",
       "<caption>A data.frame: 5 × 4</caption>\n",
       "<thead>\n",
       "\t<tr><th scope=col>Barrio</th><th scope=col>Freq</th><th scope=col>Precio</th><th scope=col>Tamanio</th></tr>\n",
       "\t<tr><th scope=col>&lt;chr&gt;</th><th scope=col>&lt;int&gt;</th><th scope=col>&lt;dbl&gt;</th><th scope=col>&lt;dbl&gt;</th></tr>\n",
       "</thead>\n",
       "<tbody>\n",
       "\t<tr><td>Goya     </td><td>142</td><td>111.33803</td><td>51.68504</td></tr>\n",
       "\t<tr><td>Justicia </td><td>534</td><td> 98.25468</td><td>28.52669</td></tr>\n",
       "\t<tr><td>Recoletos</td><td>135</td><td>161.92537</td><td>26.66316</td></tr>\n",
       "\t<tr><td>Sol      </td><td>701</td><td>100.75036</td><td>45.61692</td></tr>\n",
       "\t<tr><td>Trafalgar</td><td>223</td><td> 98.57848</td><td>29.30426</td></tr>\n",
       "</tbody>\n",
       "</table>\n"
      ],
      "text/latex": [
       "A data.frame: 5 × 4\n",
       "\\begin{tabular}{llll}\n",
       " Barrio & Freq & Precio & Tamanio\\\\\n",
       " <chr> & <int> & <dbl> & <dbl>\\\\\n",
       "\\hline\n",
       "\t Goya      & 142 & 111.33803 & 51.68504\\\\\n",
       "\t Justicia  & 534 &  98.25468 & 28.52669\\\\\n",
       "\t Recoletos & 135 & 161.92537 & 26.66316\\\\\n",
       "\t Sol       & 701 & 100.75036 & 45.61692\\\\\n",
       "\t Trafalgar & 223 &  98.57848 & 29.30426\\\\\n",
       "\\end{tabular}\n"
      ],
      "text/markdown": [
       "\n",
       "A data.frame: 5 × 4\n",
       "\n",
       "| Barrio &lt;chr&gt; | Freq &lt;int&gt; | Precio &lt;dbl&gt; | Tamanio &lt;dbl&gt; |\n",
       "|---|---|---|---|\n",
       "| Goya      | 142 | 111.33803 | 51.68504 |\n",
       "| Justicia  | 534 |  98.25468 | 28.52669 |\n",
       "| Recoletos | 135 | 161.92537 | 26.66316 |\n",
       "| Sol       | 701 | 100.75036 | 45.61692 |\n",
       "| Trafalgar | 223 |  98.57848 | 29.30426 |\n",
       "\n"
      ],
      "text/plain": [
       "  Barrio    Freq Precio    Tamanio \n",
       "1 Goya      142  111.33803 51.68504\n",
       "2 Justicia  534   98.25468 28.52669\n",
       "3 Recoletos 135  161.92537 26.66316\n",
       "4 Sol       701  100.75036 45.61692\n",
       "5 Trafalgar 223   98.57848 29.30426"
      ]
     },
     "metadata": {},
     "output_type": "display_data"
    }
   ],
   "source": [
    "airbnb_entire_5 <- airbnb_entire[airbnb_entire$Barrio=='Recoletos'\n",
    "              |airbnb_entire$Barrio=='Goya'\n",
    "              |airbnb_entire$Barrio=='Sol'\n",
    "              |airbnb_entire$Barrio=='Trafalgar'\n",
    "              |airbnb_entire$Barrio=='Justicia',]\n",
    "\n",
    "Tamanio <- aggregate(\n",
    "                    x=airbnb_entire_5$MetrosCuadrado, \n",
    "                    by = list(airbnb_entire_5$Barrio), \n",
    "                    FUN = mean,\n",
    "                    na.rm=TRUE\n",
    "            )\n",
    "names(Tamanio) <- c('Barrio', 'Tamanio')\n",
    "\n",
    "ApartamentosPreciosTamanio<- merge(ApartamentosYPrecios, Tamanio, by.x=\"Barrio\", by.y=\"Barrio\", na.ignore=T)\n",
    "ApartamentosPreciosTamanio"
   ]
  },
  {
   "cell_type": "markdown",
   "metadata": {},
   "source": [
    "Dibuja el diagrama de densidad de distribución de los diferentes tamaños de apartamentos"
   ]
  },
  {
   "cell_type": "code",
   "execution_count": 27,
   "metadata": {},
   "outputs": [
    {
     "data": {
      "image/png": "[encoded data removed]",
      "text/plain": [
       "plot without title"
      ]
     },
     "metadata": {
      "image/png": {
       "height": 480,
       "width": 720
      },
      "text/plain": {
       "height": 480,
       "width": 720
      }
     },
     "output_type": "display_data"
    }
   ],
   "source": [
    "#ApartamentosYPrecios\n",
    "ggplot(data=ApartamentosPreciosTamanio,aes(x=Tamanio))+\n",
    "    geom_density(fill=\"#eb91d7\")+\n",
    "    theme_bw()"
   ]
  },
  {
   "cell_type": "markdown",
   "metadata": {},
   "source": [
    "Esta claro que las medias de cada uno de estos 5 barrios parecen ser diferentes, pero ¿son estadísticamente diferentes?\n",
    "¿Que test habría que usar para comprobarlo?"
   ]
  },
  {
   "cell_type": "code",
   "execution_count": null,
   "metadata": {},
   "outputs": [],
   "source": []
  },
  {
   "cell_type": "markdown",
   "metadata": {},
   "source": [
    "Para únicamente los pisos de alquiler en el barrio de Sol:\n",
    "\n",
    "``barrio_sol<-subset(airbnb_entire,Barrio==\"Sol\")``\n",
    "\n",
    "Calcular un modelo lineal que combine alguna de estas variables:\n",
    "* NumBanyos\n",
    "* NumDormitorios\n",
    "* MaxOcupantes\n",
    "* MetrosCuadrados"
   ]
  },
  {
   "cell_type": "code",
   "execution_count": 28,
   "metadata": {},
   "outputs": [],
   "source": [
    "barrio_sol<-subset(airbnb_entire,Barrio==\"Sol\")\n",
    "barrio_sol$NumBanyos[is.na(barrio_sol$NumBanyos)] <- 0\n",
    "barrio_sol$NumDormitorios[is.na(barrio_sol$NumDormitorios)] <- 0\n",
    "barrio_sol$MaxOcupantes[is.na(barrio_sol$MaxOcupantes)] <- 0\n",
    "barrio_sol$MetrosCuadrados[is.na(barrio_sol$MetrosCuadrados)] <- 0"
   ]
  },
  {
   "cell_type": "markdown",
   "metadata": {},
   "source": [
    "Primero calculamos la correlación para ver como se relacionan estas variables entre sí."
   ]
  },
  {
   "cell_type": "code",
   "execution_count": 29,
   "metadata": {},
   "outputs": [
    {
     "data": {
      "text/html": [
       "'La correlación de las variables NumBanyos y NumDormitorios es: 0.68'"
      ],
      "text/latex": [
       "'La correlación de las variables NumBanyos y NumDormitorios es: 0.68'"
      ],
      "text/markdown": [
       "'La correlación de las variables NumBanyos y NumDormitorios es: 0.68'"
      ],
      "text/plain": [
       "[1] \"La correlación de las variables NumBanyos y NumDormitorios es: 0.68\""
      ]
     },
     "metadata": {},
     "output_type": "display_data"
    },
    {
     "data": {
      "image/png": "[encoded data removed]",
      "text/plain": [
       "plot without title"
      ]
     },
     "metadata": {
      "image/png": {
       "height": 480,
       "width": 720
      },
      "text/plain": {
       "height": 480,
       "width": 720
      }
     },
     "output_type": "display_data"
    }
   ],
   "source": [
    "#NumBanyos y NumDormitorios\n",
    "paste(\"La correlación de las variables NumBanyos y NumDormitorios es:\",\n",
    "      round(cor(barrio_sol$NumBanyos, barrio_sol$NumDormitorios),2))\n",
    "plot(barrio_sol$NumBanyos, barrio_sol$NumDormitorios)"
   ]
  },
  {
   "cell_type": "code",
   "execution_count": 30,
   "metadata": {},
   "outputs": [
    {
     "data": {
      "text/html": [
       "'La correlación de las variables NumBanyos y MaxOcupantes es: 0.66'"
      ],
      "text/latex": [
       "'La correlación de las variables NumBanyos y MaxOcupantes es: 0.66'"
      ],
      "text/markdown": [
       "'La correlación de las variables NumBanyos y MaxOcupantes es: 0.66'"
      ],
      "text/plain": [
       "[1] \"La correlación de las variables NumBanyos y MaxOcupantes es: 0.66\""
      ]
     },
     "metadata": {},
     "output_type": "display_data"
    },
    {
     "data": {
      "image/png": "[encoded data removed]",
      "text/plain": [
       "plot without title"
      ]
     },
     "metadata": {
      "image/png": {
       "height": 480,
       "width": 720
      },
      "text/plain": {
       "height": 480,
       "width": 720
      }
     },
     "output_type": "display_data"
    }
   ],
   "source": [
    "#NumBanyos y MaxOcupantes\n",
    "paste(\"La correlación de las variables NumBanyos y MaxOcupantes es:\",round(cor(barrio_sol$NumBanyos, barrio_sol$MaxOcupantes),2))\n",
    "plot(barrio_sol$NumBanyos, barrio_sol$MaxOcupantes)"
   ]
  },
  {
   "cell_type": "code",
   "execution_count": 31,
   "metadata": {},
   "outputs": [
    {
     "data": {
      "text/html": [
       "'La correlación de las variables NumBanyos y MetrosCuadrados es: 0.14'"
      ],
      "text/latex": [
       "'La correlación de las variables NumBanyos y MetrosCuadrados es: 0.14'"
      ],
      "text/markdown": [
       "'La correlación de las variables NumBanyos y MetrosCuadrados es: 0.14'"
      ],
      "text/plain": [
       "[1] \"La correlación de las variables NumBanyos y MetrosCuadrados es: 0.14\""
      ]
     },
     "metadata": {},
     "output_type": "display_data"
    },
    {
     "data": {
      "image/png": "[encoded data removed]",
      "text/plain": [
       "plot without title"
      ]
     },
     "metadata": {
      "image/png": {
       "height": 480,
       "width": 720
      },
      "text/plain": {
       "height": 480,
       "width": 720
      }
     },
     "output_type": "display_data"
    }
   ],
   "source": [
    "#NumBanyos y MetrosCuadrados\n",
    "paste(\"La correlación de las variables NumBanyos y MetrosCuadrados es:\",round(cor(barrio_sol$NumBanyos, barrio_sol$MetrosCuadrados),2))\n",
    "plot(barrio_sol$NumBanyos, barrio_sol$MetrosCuadrados)"
   ]
  },
  {
   "cell_type": "code",
   "execution_count": 32,
   "metadata": {},
   "outputs": [
    {
     "data": {
      "text/html": [
       "'La correlación de las variables NumDormitorios y MaxOcupantes es: 0.76'"
      ],
      "text/latex": [
       "'La correlación de las variables NumDormitorios y MaxOcupantes es: 0.76'"
      ],
      "text/markdown": [
       "'La correlación de las variables NumDormitorios y MaxOcupantes es: 0.76'"
      ],
      "text/plain": [
       "[1] \"La correlación de las variables NumDormitorios y MaxOcupantes es: 0.76\""
      ]
     },
     "metadata": {},
     "output_type": "display_data"
    },
    {
     "data": {
      "image/png": "[encoded data removed]",
      "text/plain": [
       "plot without title"
      ]
     },
     "metadata": {
      "image/png": {
       "height": 480,
       "width": 720
      },
      "text/plain": {
       "height": 480,
       "width": 720
      }
     },
     "output_type": "display_data"
    }
   ],
   "source": [
    "#NumDormitorios y MaxOcupantes\n",
    "paste(\"La correlación de las variables NumDormitorios y MaxOcupantes es:\",round(cor(barrio_sol$NumDormitorios, barrio_sol$MaxOcupantes),2))\n",
    "plot(barrio_sol$NumDormitorios, barrio_sol$MaxOcupantes)"
   ]
  },
  {
   "cell_type": "code",
   "execution_count": 33,
   "metadata": {},
   "outputs": [
    {
     "data": {
      "text/html": [
       "'La correlación de las variables NumDormitorios y MetrosCuadrados es: 0.16'"
      ],
      "text/latex": [
       "'La correlación de las variables NumDormitorios y MetrosCuadrados es: 0.16'"
      ],
      "text/markdown": [
       "'La correlación de las variables NumDormitorios y MetrosCuadrados es: 0.16'"
      ],
      "text/plain": [
       "[1] \"La correlación de las variables NumDormitorios y MetrosCuadrados es: 0.16\""
      ]
     },
     "metadata": {},
     "output_type": "display_data"
    },
    {
     "data": {
      "image/png": "[encoded data removed]",
      "text/plain": [
       "plot without title"
      ]
     },
     "metadata": {
      "image/png": {
       "height": 480,
       "width": 720
      },
      "text/plain": {
       "height": 480,
       "width": 720
      }
     },
     "output_type": "display_data"
    }
   ],
   "source": [
    "#NumDormitorios y MetrosCuadrados\n",
    "paste(\"La correlación de las variables NumDormitorios y MetrosCuadrados es:\",round(cor(barrio_sol$NumDormitorios, barrio_sol$MetrosCuadrados),2))\n",
    "plot(barrio_sol$NumDormitorios, barrio_sol$MetrosCuadrados)"
   ]
  },
  {
   "cell_type": "code",
   "execution_count": 34,
   "metadata": {},
   "outputs": [
    {
     "data": {
      "text/html": [
       "'La correlación de las variables MaxOcupantes y MetrosCuadrados es: 0.16'"
      ],
      "text/latex": [
       "'La correlación de las variables MaxOcupantes y MetrosCuadrados es: 0.16'"
      ],
      "text/markdown": [
       "'La correlación de las variables MaxOcupantes y MetrosCuadrados es: 0.16'"
      ],
      "text/plain": [
       "[1] \"La correlación de las variables MaxOcupantes y MetrosCuadrados es: 0.16\""
      ]
     },
     "metadata": {},
     "output_type": "display_data"
    },
    {
     "data": {
      "image/png": "[encoded data removed]",
      "text/plain": [
       "plot without title"
      ]
     },
     "metadata": {
      "image/png": {
       "height": 480,
       "width": 720
      },
      "text/plain": {
       "height": 480,
       "width": 720
      }
     },
     "output_type": "display_data"
    }
   ],
   "source": [
    "#MaxOcupantes y MetrosCuadrados\n",
    "paste(\"La correlación de las variables MaxOcupantes y MetrosCuadrados es:\",round(cor(barrio_sol$MaxOcupantes, barrio_sol$MetrosCuadrados),2))\n",
    "plot(barrio_sol$MaxOcupantes, barrio_sol$MetrosCuadrados)"
   ]
  },
  {
   "cell_type": "markdown",
   "metadata": {},
   "source": [
    "Se observa que la correlación entre el número de dormitorios y los metros cuadrados es sorprendentemente baja.\n",
    "¿Son de fiar esos números?\n",
    "\n",
    "Mediante un histograma o curvas de densidad podemos descartar números que notienen sentido en el dataframe barrio_sol,\n",
    "para tener una matriz de correlación que tenga mayor sentido.\n"
   ]
  },
  {
   "cell_type": "code",
   "execution_count": 35,
   "metadata": {},
   "outputs": [
    {
     "data": {
      "image/png": "[encoded data removed]",
      "text/plain": [
       "plot without title"
      ]
     },
     "metadata": {
      "image/png": {
       "height": 480,
       "width": 720
      },
      "text/plain": {
       "height": 480,
       "width": 720
      }
     },
     "output_type": "display_data"
    }
   ],
   "source": [
    "#Precios\n",
    "ggplot(data=barrio_sol,aes(x=Precio))+\n",
    "    geom_density(fill=\"#eb91d7\")+\n",
    "    geom_vline(aes(xintercept=30), color=\"blue\")+\n",
    "    geom_vline(aes(xintercept=200), color=\"blue\")+\n",
    "    geom_hline(aes(yintercept=0.001), color=\"red\")+\n",
    "    theme_bw()"
   ]
  },
  {
   "cell_type": "code",
   "execution_count": 36,
   "metadata": {},
   "outputs": [
    {
     "data": {
      "image/png": "[encoded data removed]",
      "text/plain": [
       "plot without title"
      ]
     },
     "metadata": {
      "image/png": {
       "height": 480,
       "width": 720
      },
      "text/plain": {
       "height": 480,
       "width": 720
      }
     },
     "output_type": "display_data"
    }
   ],
   "source": [
    "#NumDormitorios\n",
    "ggplot(data=barrio_sol,aes(x=NumDormitorios))+\n",
    "    geom_histogram(binwidth = 1, fill=\"#34bdeb\")+\n",
    "    geom_vline(aes(xintercept=1), color=\"blue\")+\n",
    "    geom_vline(aes(xintercept=4), color=\"blue\")"
   ]
  },
  {
   "cell_type": "code",
   "execution_count": 37,
   "metadata": {},
   "outputs": [
    {
     "data": {
      "image/png": "[encoded data removed]",
      "text/plain": [
       "plot without title"
      ]
     },
     "metadata": {
      "image/png": {
       "height": 480,
       "width": 720
      },
      "text/plain": {
       "height": 480,
       "width": 720
      }
     },
     "output_type": "display_data"
    }
   ],
   "source": [
    "#MetrosCuadrados\n",
    "ggplot(data=barrio_sol[barrio_sol$MetrosCuadrados>0,],aes(x=MetrosCuadrados))+\n",
    "    geom_density(fill=\"#34bdeb\")\n",
    "    #geom_vline(aes(xintercept=30), color=\"blue\")+\n",
    "    #geom_vline(aes(xintercept=200), color=\"blue\")+\n",
    "    #geom_hline(aes(yintercept=0.001), color=\"red\")+"
   ]
  },
  {
   "cell_type": "markdown",
   "metadata": {},
   "source": [
    "Una vez que hayamos filtrado los datos correspondientes calcular el valor o la combinación de valores que mejor nos permite obtener el precio de un inmueble."
   ]
  },
  {
   "cell_type": "code",
   "execution_count": 38,
   "metadata": {},
   "outputs": [
    {
     "data": {
      "text/html": [
       "'La correlación de las variables Precio y MetrosCuadrados es: 0.71'"
      ],
      "text/latex": [
       "'La correlación de las variables Precio y MetrosCuadrados es: 0.71'"
      ],
      "text/markdown": [
       "'La correlación de las variables Precio y MetrosCuadrados es: 0.71'"
      ],
      "text/plain": [
       "[1] \"La correlación de las variables Precio y MetrosCuadrados es: 0.71\""
      ]
     },
     "metadata": {},
     "output_type": "display_data"
    },
    {
     "data": {
      "image/png": "[encoded data removed]",
      "text/plain": [
       "plot without title"
      ]
     },
     "metadata": {
      "image/png": {
       "height": 480,
       "width": 720
      },
      "text/plain": {
       "height": 480,
       "width": 720
      }
     },
     "output_type": "display_data"
    }
   ],
   "source": [
    "barrio_sol_metrosMasZero <- barrio_sol[barrio_sol$MetrosCuadrados>0 & barrio_sol$Precio >= 30 & barrio_sol$Precio <= 200,]\n",
    "paste(\"La correlación de las variables Precio y MetrosCuadrados es:\",round(cor(barrio_sol_metrosMasZero$Precio, barrio_sol_metrosMasZero$MetrosCuadrados),2))\n",
    "plot(barrio_sol_metrosMasZero$Precio, barrio_sol_metrosMasZero$MetrosCuadrados)"
   ]
  },
  {
   "cell_type": "code",
   "execution_count": 39,
   "metadata": {},
   "outputs": [
    {
     "data": {
      "text/html": [
       "'La correlación de las variables Precio y NumDormitorios es: 0.58'"
      ],
      "text/latex": [
       "'La correlación de las variables Precio y NumDormitorios es: 0.58'"
      ],
      "text/markdown": [
       "'La correlación de las variables Precio y NumDormitorios es: 0.58'"
      ],
      "text/plain": [
       "[1] \"La correlación de las variables Precio y NumDormitorios es: 0.58\""
      ]
     },
     "metadata": {},
     "output_type": "display_data"
    },
    {
     "data": {
      "image/png": "[encoded data removed]",
      "text/plain": [
       "plot without title"
      ]
     },
     "metadata": {
      "image/png": {
       "height": 480,
       "width": 720
      },
      "text/plain": {
       "height": 480,
       "width": 720
      }
     },
     "output_type": "display_data"
    }
   ],
   "source": [
    "barrio_sol_dormitoriosMasZero <- barrio_sol[barrio_sol$NumDormitorios>0 & barrio_sol$Precio >= 30 & barrio_sol$Precio <= 200,]\n",
    "paste(\"La correlación de las variables Precio y NumDormitorios es:\",round(cor(barrio_sol_dormitoriosMasZero$Precio, barrio_sol_dormitoriosMasZero$NumDormitorios),2))\n",
    "plot(barrio_sol_dormitoriosMasZero$Precio, barrio_sol_dormitoriosMasZero$NumDormitorios)"
   ]
  },
  {
   "cell_type": "markdown",
   "metadata": {},
   "source": [
    "¿Que variable es más fiable para conocer el precio de un inmueble, el número de habitaciones o los metros cuadrados?"
   ]
  },
  {
   "cell_type": "code",
   "execution_count": 40,
   "metadata": {},
   "outputs": [
    {
     "data": {
      "text/plain": [
       "\n",
       "Call:\n",
       "lm(formula = Precio ~ MetrosCuadrados, data = barrio_sol_metrosMasZero)\n",
       "\n",
       "Residuals:\n",
       "    Min      1Q  Median      3Q     Max \n",
       "-44.713 -14.363  -5.113  18.086  52.537 \n",
       "\n",
       "Coefficients:\n",
       "                Estimate Std. Error t value Pr(>|t|)    \n",
       "(Intercept)     58.61522    6.44856    9.09 9.69e-11 ***\n",
       "MetrosCuadrados  0.51816    0.08564    6.05 6.63e-07 ***\n",
       "---\n",
       "Signif. codes:  0 ‘***’ 0.001 ‘**’ 0.01 ‘*’ 0.05 ‘.’ 0.1 ‘ ’ 1\n",
       "\n",
       "Residual standard error: 22.7 on 35 degrees of freedom\n",
       "Multiple R-squared:  0.5112,\tAdjusted R-squared:  0.4972 \n",
       "F-statistic:  36.6 on 1 and 35 DF,  p-value: 6.633e-07\n"
      ]
     },
     "metadata": {},
     "output_type": "display_data"
    },
    {
     "data": {
      "text/html": [
       "<table>\n",
       "<caption>A matrix: 2 × 2 of type dbl</caption>\n",
       "<thead>\n",
       "\t<tr><th></th><th scope=col>2.5 %</th><th scope=col>97.5 %</th></tr>\n",
       "</thead>\n",
       "<tbody>\n",
       "\t<tr><th scope=row>(Intercept)</th><td>45.5239344</td><td>71.7064956</td></tr>\n",
       "\t<tr><th scope=row>MetrosCuadrados</th><td> 0.3442946</td><td> 0.6920317</td></tr>\n",
       "</tbody>\n",
       "</table>\n"
      ],
      "text/latex": [
       "A matrix: 2 × 2 of type dbl\n",
       "\\begin{tabular}{r|ll}\n",
       "  & 2.5 \\% & 97.5 \\%\\\\\n",
       "\\hline\n",
       "\t(Intercept) & 45.5239344 & 71.7064956\\\\\n",
       "\tMetrosCuadrados &  0.3442946 &  0.6920317\\\\\n",
       "\\end{tabular}\n"
      ],
      "text/markdown": [
       "\n",
       "A matrix: 2 × 2 of type dbl\n",
       "\n",
       "| <!--/--> | 2.5 % | 97.5 % |\n",
       "|---|---|---|\n",
       "| (Intercept) | 45.5239344 | 71.7064956 |\n",
       "| MetrosCuadrados |  0.3442946 |  0.6920317 |\n",
       "\n"
      ],
      "text/plain": [
       "                2.5 %      97.5 %    \n",
       "(Intercept)     45.5239344 71.7064956\n",
       "MetrosCuadrados  0.3442946  0.6920317"
      ]
     },
     "metadata": {},
     "output_type": "display_data"
    }
   ],
   "source": [
    "modelMetros<-lm(data=barrio_sol_metrosMasZero, formula = Precio ~ MetrosCuadrados)\n",
    "summary(modelMetros)\n",
    "confint(modelMetros)"
   ]
  },
  {
   "cell_type": "code",
   "execution_count": 41,
   "metadata": {},
   "outputs": [
    {
     "data": {
      "text/plain": [
       "\n",
       "Call:\n",
       "lm(formula = Precio ~ NumDormitorios, data = barrio_sol_dormitoriosMasZero)\n",
       "\n",
       "Residuals:\n",
       "     Min       1Q   Median       3Q      Max \n",
       "-137.539  -19.679   -2.572   16.428  116.428 \n",
       "\n",
       "Coefficients:\n",
       "               Estimate Std. Error t value Pr(>|t|)    \n",
       "(Intercept)      56.465      2.656   21.26   <2e-16 ***\n",
       "NumDormitorios   26.107      1.501   17.40   <2e-16 ***\n",
       "---\n",
       "Signif. codes:  0 ‘***’ 0.001 ‘**’ 0.01 ‘*’ 0.05 ‘.’ 0.1 ‘ ’ 1\n",
       "\n",
       "Residual standard error: 28.97 on 583 degrees of freedom\n",
       "Multiple R-squared:  0.3417,\tAdjusted R-squared:  0.3406 \n",
       "F-statistic: 302.6 on 1 and 583 DF,  p-value: < 2.2e-16\n"
      ]
     },
     "metadata": {},
     "output_type": "display_data"
    },
    {
     "data": {
      "text/html": [
       "<table>\n",
       "<caption>A matrix: 2 × 2 of type dbl</caption>\n",
       "<thead>\n",
       "\t<tr><th></th><th scope=col>2.5 %</th><th scope=col>97.5 %</th></tr>\n",
       "</thead>\n",
       "<tbody>\n",
       "\t<tr><th scope=row>(Intercept)</th><td>51.24845</td><td>61.68067</td></tr>\n",
       "\t<tr><th scope=row>NumDormitorios</th><td>23.15984</td><td>29.05495</td></tr>\n",
       "</tbody>\n",
       "</table>\n"
      ],
      "text/latex": [
       "A matrix: 2 × 2 of type dbl\n",
       "\\begin{tabular}{r|ll}\n",
       "  & 2.5 \\% & 97.5 \\%\\\\\n",
       "\\hline\n",
       "\t(Intercept) & 51.24845 & 61.68067\\\\\n",
       "\tNumDormitorios & 23.15984 & 29.05495\\\\\n",
       "\\end{tabular}\n"
      ],
      "text/markdown": [
       "\n",
       "A matrix: 2 × 2 of type dbl\n",
       "\n",
       "| <!--/--> | 2.5 % | 97.5 % |\n",
       "|---|---|---|\n",
       "| (Intercept) | 51.24845 | 61.68067 |\n",
       "| NumDormitorios | 23.15984 | 29.05495 |\n",
       "\n"
      ],
      "text/plain": [
       "               2.5 %    97.5 %  \n",
       "(Intercept)    51.24845 61.68067\n",
       "NumDormitorios 23.15984 29.05495"
      ]
     },
     "metadata": {},
     "output_type": "display_data"
    }
   ],
   "source": [
    "modelDormitorios <-lm(data=barrio_sol_dormitoriosMasZero, formula = Precio ~ NumDormitorios)\n",
    "summary(modelDormitorios)\n",
    "confint(modelDormitorios)"
   ]
  },
  {
   "cell_type": "code",
   "execution_count": 42,
   "metadata": {},
   "outputs": [
    {
     "data": {
      "text/plain": [
       "\n",
       "Call:\n",
       "lm(formula = Precio ~ MetrosCuadrados + NumDormitorios + NumBanyos + \n",
       "    MaxOcupantes, data = barrio_sol_metrosMasZero)\n",
       "\n",
       "Residuals:\n",
       "    Min      1Q  Median      3Q     Max \n",
       "-36.026 -11.221  -2.058  11.925  47.820 \n",
       "\n",
       "Coefficients:\n",
       "                Estimate Std. Error t value Pr(>|t|)    \n",
       "(Intercept)      49.9926     8.5059   5.877 1.55e-06 ***\n",
       "MetrosCuadrados   0.2413     0.1175   2.054  0.04823 *  \n",
       "NumDormitorios   15.9285     5.7974   2.748  0.00978 ** \n",
       "NumBanyos         0.8516    11.2554   0.076  0.94016    \n",
       "MaxOcupantes      0.5733     2.8360   0.202  0.84108    \n",
       "---\n",
       "Signif. codes:  0 ‘***’ 0.001 ‘**’ 0.01 ‘*’ 0.05 ‘.’ 0.1 ‘ ’ 1\n",
       "\n",
       "Residual standard error: 20.22 on 32 degrees of freedom\n",
       "Multiple R-squared:  0.6453,\tAdjusted R-squared:  0.601 \n",
       "F-statistic: 14.56 on 4 and 32 DF,  p-value: 7.097e-07\n"
      ]
     },
     "metadata": {},
     "output_type": "display_data"
    },
    {
     "data": {
      "text/html": [
       "<table>\n",
       "<caption>A matrix: 5 × 2 of type dbl</caption>\n",
       "<thead>\n",
       "\t<tr><th></th><th scope=col>2.5 %</th><th scope=col>97.5 %</th></tr>\n",
       "</thead>\n",
       "<tbody>\n",
       "\t<tr><th scope=row>(Intercept)</th><td> 32.666593882</td><td>67.3185834</td></tr>\n",
       "\t<tr><th scope=row>MetrosCuadrados</th><td>  0.001993577</td><td> 0.4805506</td></tr>\n",
       "\t<tr><th scope=row>NumDormitorios</th><td>  4.119706940</td><td>27.7373689</td></tr>\n",
       "\t<tr><th scope=row>NumBanyos</th><td>-22.074854735</td><td>23.7779655</td></tr>\n",
       "\t<tr><th scope=row>MaxOcupantes</th><td> -5.203505170</td><td> 6.3500837</td></tr>\n",
       "</tbody>\n",
       "</table>\n"
      ],
      "text/latex": [
       "A matrix: 5 × 2 of type dbl\n",
       "\\begin{tabular}{r|ll}\n",
       "  & 2.5 \\% & 97.5 \\%\\\\\n",
       "\\hline\n",
       "\t(Intercept) &  32.666593882 & 67.3185834\\\\\n",
       "\tMetrosCuadrados &   0.001993577 &  0.4805506\\\\\n",
       "\tNumDormitorios &   4.119706940 & 27.7373689\\\\\n",
       "\tNumBanyos & -22.074854735 & 23.7779655\\\\\n",
       "\tMaxOcupantes &  -5.203505170 &  6.3500837\\\\\n",
       "\\end{tabular}\n"
      ],
      "text/markdown": [
       "\n",
       "A matrix: 5 × 2 of type dbl\n",
       "\n",
       "| <!--/--> | 2.5 % | 97.5 % |\n",
       "|---|---|---|\n",
       "| (Intercept) |  32.666593882 | 67.3185834 |\n",
       "| MetrosCuadrados |   0.001993577 |  0.4805506 |\n",
       "| NumDormitorios |   4.119706940 | 27.7373689 |\n",
       "| NumBanyos | -22.074854735 | 23.7779655 |\n",
       "| MaxOcupantes |  -5.203505170 |  6.3500837 |\n",
       "\n"
      ],
      "text/plain": [
       "                2.5 %         97.5 %    \n",
       "(Intercept)      32.666593882 67.3185834\n",
       "MetrosCuadrados   0.001993577  0.4805506\n",
       "NumDormitorios    4.119706940 27.7373689\n",
       "NumBanyos       -22.074854735 23.7779655\n",
       "MaxOcupantes     -5.203505170  6.3500837"
      ]
     },
     "metadata": {},
     "output_type": "display_data"
    }
   ],
   "source": [
    "modelBarrioSol <-lm(data=barrio_sol_metrosMasZero, formula = Precio ~ MetrosCuadrados+NumDormitorios+NumBanyos+MaxOcupantes)\n",
    "summary(modelBarrioSol)\n",
    "confint(modelBarrioSol)"
   ]
  },
  {
   "cell_type": "markdown",
   "metadata": {},
   "source": [
    "Responde con su correspondiente margen de error del 95%, ¿cuantos euros incrementa el precio del alquiler por cada metro cuadrado extra del piso?"
   ]
  },
  {
   "cell_type": "code",
   "execution_count": 43,
   "metadata": {},
   "outputs": [
    {
     "data": {
      "text/plain": [
       "\n",
       "Call:\n",
       "lm(formula = Precio ~ MetrosCuadrados, data = barrio_sol_metrosMasZero)\n",
       "\n",
       "Residuals:\n",
       "    Min      1Q  Median      3Q     Max \n",
       "-44.713 -14.363  -5.113  18.086  52.537 \n",
       "\n",
       "Coefficients:\n",
       "                Estimate Std. Error t value Pr(>|t|)    \n",
       "(Intercept)     58.61522    6.44856    9.09 9.69e-11 ***\n",
       "MetrosCuadrados  0.51816    0.08564    6.05 6.63e-07 ***\n",
       "---\n",
       "Signif. codes:  0 ‘***’ 0.001 ‘**’ 0.01 ‘*’ 0.05 ‘.’ 0.1 ‘ ’ 1\n",
       "\n",
       "Residual standard error: 22.7 on 35 degrees of freedom\n",
       "Multiple R-squared:  0.5112,\tAdjusted R-squared:  0.4972 \n",
       "F-statistic:  36.6 on 1 and 35 DF,  p-value: 6.633e-07\n"
      ]
     },
     "metadata": {},
     "output_type": "display_data"
    },
    {
     "data": {
      "text/html": [
       "<table>\n",
       "<caption>A matrix: 2 × 2 of type dbl</caption>\n",
       "<thead>\n",
       "\t<tr><th></th><th scope=col>2.5 %</th><th scope=col>97.5 %</th></tr>\n",
       "</thead>\n",
       "<tbody>\n",
       "\t<tr><th scope=row>(Intercept)</th><td>45.5239344</td><td>71.7064956</td></tr>\n",
       "\t<tr><th scope=row>MetrosCuadrados</th><td> 0.3442946</td><td> 0.6920317</td></tr>\n",
       "</tbody>\n",
       "</table>\n"
      ],
      "text/latex": [
       "A matrix: 2 × 2 of type dbl\n",
       "\\begin{tabular}{r|ll}\n",
       "  & 2.5 \\% & 97.5 \\%\\\\\n",
       "\\hline\n",
       "\t(Intercept) & 45.5239344 & 71.7064956\\\\\n",
       "\tMetrosCuadrados &  0.3442946 &  0.6920317\\\\\n",
       "\\end{tabular}\n"
      ],
      "text/markdown": [
       "\n",
       "A matrix: 2 × 2 of type dbl\n",
       "\n",
       "| <!--/--> | 2.5 % | 97.5 % |\n",
       "|---|---|---|\n",
       "| (Intercept) | 45.5239344 | 71.7064956 |\n",
       "| MetrosCuadrados |  0.3442946 |  0.6920317 |\n",
       "\n"
      ],
      "text/plain": [
       "                2.5 %      97.5 %    \n",
       "(Intercept)     45.5239344 71.7064956\n",
       "MetrosCuadrados  0.3442946  0.6920317"
      ]
     },
     "metadata": {},
     "output_type": "display_data"
    },
    {
     "name": "stdout",
     "output_type": "stream",
     "text": [
      "[1] \"El precio incrementa 0.51816 Euros por cada metro cuadrado\"\n"
     ]
    }
   ],
   "source": [
    "modelMetros<-lm(data=barrio_sol_metrosMasZero, formula = Precio ~ MetrosCuadrados)\n",
    "summary(modelMetros)\n",
    "confint(modelMetros)\n",
    "print(\"El precio incrementa 0.51816 Euros por cada metro cuadrado\")"
   ]
  },
  {
   "cell_type": "markdown",
   "metadata": {},
   "source": [
    "Responde con su correspondiente margen de error del 95%, ¿cuantos euros incrementa el precio del alquiler por cada habitación?"
   ]
  },
  {
   "cell_type": "code",
   "execution_count": 44,
   "metadata": {},
   "outputs": [
    {
     "data": {
      "text/plain": [
       "\n",
       "Call:\n",
       "lm(formula = Precio ~ NumDormitorios, data = barrio_sol_dormitoriosMasZero)\n",
       "\n",
       "Residuals:\n",
       "     Min       1Q   Median       3Q      Max \n",
       "-137.539  -19.679   -2.572   16.428  116.428 \n",
       "\n",
       "Coefficients:\n",
       "               Estimate Std. Error t value Pr(>|t|)    \n",
       "(Intercept)      56.465      2.656   21.26   <2e-16 ***\n",
       "NumDormitorios   26.107      1.501   17.40   <2e-16 ***\n",
       "---\n",
       "Signif. codes:  0 ‘***’ 0.001 ‘**’ 0.01 ‘*’ 0.05 ‘.’ 0.1 ‘ ’ 1\n",
       "\n",
       "Residual standard error: 28.97 on 583 degrees of freedom\n",
       "Multiple R-squared:  0.3417,\tAdjusted R-squared:  0.3406 \n",
       "F-statistic: 302.6 on 1 and 583 DF,  p-value: < 2.2e-16\n"
      ]
     },
     "metadata": {},
     "output_type": "display_data"
    },
    {
     "data": {
      "text/html": [
       "<table>\n",
       "<caption>A matrix: 2 × 2 of type dbl</caption>\n",
       "<thead>\n",
       "\t<tr><th></th><th scope=col>2.5 %</th><th scope=col>97.5 %</th></tr>\n",
       "</thead>\n",
       "<tbody>\n",
       "\t<tr><th scope=row>(Intercept)</th><td>51.24845</td><td>61.68067</td></tr>\n",
       "\t<tr><th scope=row>NumDormitorios</th><td>23.15984</td><td>29.05495</td></tr>\n",
       "</tbody>\n",
       "</table>\n"
      ],
      "text/latex": [
       "A matrix: 2 × 2 of type dbl\n",
       "\\begin{tabular}{r|ll}\n",
       "  & 2.5 \\% & 97.5 \\%\\\\\n",
       "\\hline\n",
       "\t(Intercept) & 51.24845 & 61.68067\\\\\n",
       "\tNumDormitorios & 23.15984 & 29.05495\\\\\n",
       "\\end{tabular}\n"
      ],
      "text/markdown": [
       "\n",
       "A matrix: 2 × 2 of type dbl\n",
       "\n",
       "| <!--/--> | 2.5 % | 97.5 % |\n",
       "|---|---|---|\n",
       "| (Intercept) | 51.24845 | 61.68067 |\n",
       "| NumDormitorios | 23.15984 | 29.05495 |\n",
       "\n"
      ],
      "text/plain": [
       "               2.5 %    97.5 %  \n",
       "(Intercept)    51.24845 61.68067\n",
       "NumDormitorios 23.15984 29.05495"
      ]
     },
     "metadata": {},
     "output_type": "display_data"
    },
    {
     "name": "stdout",
     "output_type": "stream",
     "text": [
      "[1] \"El precio incrementa 26.107 Euros por cada Dormitorio adicional\"\n"
     ]
    }
   ],
   "source": [
    "modelDormitorios <-lm(data=barrio_sol_dormitoriosMasZero, formula = Precio ~ NumDormitorios)\n",
    "summary(modelDormitorios)\n",
    "confint(modelDormitorios)\n",
    "print(\"El precio incrementa 26.107 Euros por cada Dormitorio adicional\")"
   ]
  },
  {
   "cell_type": "markdown",
   "metadata": {},
   "source": [
    "¿Cual es la probabilidad de encontrar, en el barrio de Sol, un apartamento en alquiler con 3 dormitorios?\n",
    "¿Cual es el margen de error de esa probabilidad?"
   ]
  },
  {
   "cell_type": "code",
   "execution_count": 45,
   "metadata": {},
   "outputs": [
    {
     "data": {
      "text/html": [
       "55"
      ],
      "text/latex": [
       "55"
      ],
      "text/markdown": [
       "55"
      ],
      "text/plain": [
       "[1] 55"
      ]
     },
     "metadata": {},
     "output_type": "display_data"
    },
    {
     "data": {
      "text/html": [
       "701"
      ],
      "text/latex": [
       "701"
      ],
      "text/markdown": [
       "701"
      ],
      "text/plain": [
       "[1] 701"
      ]
     },
     "metadata": {},
     "output_type": "display_data"
    },
    {
     "name": "stdout",
     "output_type": "stream",
     "text": [
      "[1] \"Tomando en cuenta que la cantidad de dormitorios es una variable discreta\"\n"
     ]
    },
    {
     "data": {
      "text/html": [
       "'La probabilidad de un alquiler de 3 dormitorios es: 0.0785'"
      ],
      "text/latex": [
       "'La probabilidad de un alquiler de 3 dormitorios es: 0.0785'"
      ],
      "text/markdown": [
       "'La probabilidad de un alquiler de 3 dormitorios es: 0.0785'"
      ],
      "text/plain": [
       "[1] \"La probabilidad de un alquiler de 3 dormitorios es: 0.0785\""
      ]
     },
     "metadata": {},
     "output_type": "display_data"
    }
   ],
   "source": [
    "#Cantidad de entradas con 3 dormitorios\n",
    "nrow(barrio_sol[barrio_sol$NumDormitorios==3,])\n",
    "#Cantidad de entradas totales\n",
    "nrow(barrio_sol)\n",
    "#Probabilidad\n",
    "print(\"Tomando en cuenta que la cantidad de dormitorios es una variable discreta\")\n",
    "paste(\"La probabilidad de un alquiler de 3 dormitorios es:\",round(55/701,4))\n"
   ]
  },
  {
   "cell_type": "code",
   "execution_count": 46,
   "metadata": {},
   "outputs": [
    {
     "data": {
      "text/html": [
       "<style>\n",
       ".list-inline {list-style: none; margin:0; padding: 0}\n",
       ".list-inline>li {display: inline-block}\n",
       ".list-inline>li:not(:last-child)::after {content: \"\\00b7\"; padding: 0 .5ex}\n",
       "</style>\n",
       "<ol class=list-inline><li>1</li><li>2</li><li>1</li><li>2</li><li>1</li><li>1</li><li>4</li><li>2</li><li>1</li><li>1</li><li>1</li><li>2</li><li>2</li><li>3</li><li>1</li><li>2</li><li>1</li><li>1</li><li>1</li><li>2</li><li>2</li><li>1</li><li>1</li><li>2</li><li>1</li><li>4</li><li>2</li><li>2</li><li>2</li><li>4</li><li>1</li><li>1</li><li>2</li><li>4</li><li>1</li><li>2</li><li>3</li><li>1</li><li>1</li><li>1</li><li>1</li><li>2</li><li>1</li><li>7</li><li>1</li><li>2</li><li>1</li><li>2</li><li>2</li><li>2</li><li>1</li><li>2</li><li>2</li><li>1</li><li>1</li><li>1</li><li>1</li><li>1</li><li>2</li><li>1</li><li>1</li><li>2</li><li>1</li><li>3</li><li>1</li><li>2</li><li>2</li><li>1</li><li>3</li><li>2</li><li>2</li><li>1</li><li>1</li><li>1</li><li>1</li><li>2</li><li>3</li><li>1</li><li>1</li><li>2</li><li>2</li><li>1</li><li>2</li><li>1</li><li>10</li><li>4</li><li>1</li><li>1</li><li>1</li><li>2</li><li>1</li><li>1</li><li>1</li><li>2</li><li>1</li><li>2</li><li>2</li><li>2</li><li>2</li><li>1</li><li>2</li><li>1</li><li>1</li><li>1</li><li>2</li><li>1</li><li>2</li><li>1</li><li>1</li><li>2</li><li>2</li><li>2</li><li>2</li><li>1</li><li>2</li><li>1</li><li>2</li><li>2</li><li>3</li><li>2</li><li>1</li><li>1</li><li>1</li><li>1</li><li>2</li><li>1</li><li>1</li><li>2</li><li>1</li><li>1</li><li>1</li><li>2</li><li>1</li><li>1</li><li>1</li><li>2</li><li>1</li><li>2</li><li>1</li><li>2</li><li>2</li><li>1</li><li>1</li><li>1</li><li>1</li><li>1</li><li>2</li><li>2</li><li>1</li><li>1</li><li>3</li><li>1</li><li>1</li><li>3</li><li>2</li><li>2</li><li>1</li><li>2</li><li>1</li><li>1</li><li>1</li><li>1</li><li>3</li><li>1</li><li>1</li><li>1</li><li>2</li><li>1</li><li>2</li><li>3</li><li>1</li><li>1</li><li>2</li><li>2</li><li>2</li><li>2</li><li>2</li><li>2</li><li>1</li><li>4</li><li>1</li><li>1</li><li>1</li><li>1</li><li>1</li><li>1</li><li>2</li><li>1</li><li>1</li><li>2</li><li>1</li><li>2</li><li>1</li><li>1</li><li>3</li><li>1</li><li>1</li><li>1</li><li>1</li><li>1</li><li>⋯</li><li>3</li><li>2</li><li>2</li><li>2</li><li>2</li><li>1</li><li>1</li><li>1</li><li>2</li><li>3</li><li>3</li><li>1</li><li>1</li><li>4</li><li>2</li><li>2</li><li>1</li><li>5</li><li>1</li><li>1</li><li>2</li><li>4</li><li>1</li><li>1</li><li>2</li><li>1</li><li>2</li><li>1</li><li>2</li><li>4</li><li>1</li><li>3</li><li>1</li><li>1</li><li>2</li><li>2</li><li>1</li><li>2</li><li>1</li><li>1</li><li>1</li><li>1</li><li>1</li><li>1</li><li>1</li><li>1</li><li>1</li><li>1</li><li>1</li><li>3</li><li>2</li><li>1</li><li>2</li><li>1</li><li>1</li><li>3</li><li>2</li><li>1</li><li>2</li><li>1</li><li>1</li><li>2</li><li>1</li><li>2</li><li>1</li><li>1</li><li>4</li><li>1</li><li>1</li><li>1</li><li>2</li><li>1</li><li>2</li><li>2</li><li>2</li><li>1</li><li>1</li><li>1</li><li>2</li><li>2</li><li>2</li><li>1</li><li>1</li><li>5</li><li>3</li><li>2</li><li>1</li><li>1</li><li>3</li><li>1</li><li>1</li><li>3</li><li>1</li><li>1</li><li>1</li><li>1</li><li>2</li><li>1</li><li>1</li><li>2</li><li>1</li><li>3</li><li>4</li><li>1</li><li>1</li><li>1</li><li>1</li><li>1</li><li>2</li><li>1</li><li>1</li><li>2</li><li>2</li><li>3</li><li>1</li><li>3</li><li>1</li><li>2</li><li>2</li><li>2</li><li>1</li><li>1</li><li>1</li><li>3</li><li>1</li><li>1</li><li>2</li><li>1</li><li>3</li><li>2</li><li>3</li><li>2</li><li>1</li><li>2</li><li>2</li><li>1</li><li>2</li><li>1</li><li>2</li><li>1</li><li>1</li><li>2</li><li>1</li><li>1</li><li>1</li><li>1</li><li>2</li><li>1</li><li>1</li><li>1</li><li>3</li><li>3</li><li>1</li><li>2</li><li>1</li><li>2</li><li>2</li><li>2</li><li>2</li><li>1</li><li>2</li><li>3</li><li>2</li><li>2</li><li>1</li><li>1</li><li>3</li><li>3</li><li>2</li><li>2</li><li>2</li><li>2</li><li>1</li><li>2</li><li>3</li><li>1</li><li>2</li><li>2</li><li>2</li><li>1</li><li>3</li><li>1</li><li>1</li><li>1</li><li>1</li><li>1</li><li>1</li><li>1</li><li>1</li><li>1</li><li>1</li><li>3</li><li>2</li><li>2</li><li>2</li><li>1</li><li>2</li><li>1</li><li>1</li><li>1</li></ol>\n"
      ],
      "text/latex": [
       "\\begin{enumerate*}\n",
       "\\item 1\n",
       "\\item 2\n",
       "\\item 1\n",
       "\\item 2\n",
       "\\item 1\n",
       "\\item 1\n",
       "\\item 4\n",
       "\\item 2\n",
       "\\item 1\n",
       "\\item 1\n",
       "\\item 1\n",
       "\\item 2\n",
       "\\item 2\n",
       "\\item 3\n",
       "\\item 1\n",
       "\\item 2\n",
       "\\item 1\n",
       "\\item 1\n",
       "\\item 1\n",
       "\\item 2\n",
       "\\item 2\n",
       "\\item 1\n",
       "\\item 1\n",
       "\\item 2\n",
       "\\item 1\n",
       "\\item 4\n",
       "\\item 2\n",
       "\\item 2\n",
       "\\item 2\n",
       "\\item 4\n",
       "\\item 1\n",
       "\\item 1\n",
       "\\item 2\n",
       "\\item 4\n",
       "\\item 1\n",
       "\\item 2\n",
       "\\item 3\n",
       "\\item 1\n",
       "\\item 1\n",
       "\\item 1\n",
       "\\item 1\n",
       "\\item 2\n",
       "\\item 1\n",
       "\\item 7\n",
       "\\item 1\n",
       "\\item 2\n",
       "\\item 1\n",
       "\\item 2\n",
       "\\item 2\n",
       "\\item 2\n",
       "\\item 1\n",
       "\\item 2\n",
       "\\item 2\n",
       "\\item 1\n",
       "\\item 1\n",
       "\\item 1\n",
       "\\item 1\n",
       "\\item 1\n",
       "\\item 2\n",
       "\\item 1\n",
       "\\item 1\n",
       "\\item 2\n",
       "\\item 1\n",
       "\\item 3\n",
       "\\item 1\n",
       "\\item 2\n",
       "\\item 2\n",
       "\\item 1\n",
       "\\item 3\n",
       "\\item 2\n",
       "\\item 2\n",
       "\\item 1\n",
       "\\item 1\n",
       "\\item 1\n",
       "\\item 1\n",
       "\\item 2\n",
       "\\item 3\n",
       "\\item 1\n",
       "\\item 1\n",
       "\\item 2\n",
       "\\item 2\n",
       "\\item 1\n",
       "\\item 2\n",
       "\\item 1\n",
       "\\item 10\n",
       "\\item 4\n",
       "\\item 1\n",
       "\\item 1\n",
       "\\item 1\n",
       "\\item 2\n",
       "\\item 1\n",
       "\\item 1\n",
       "\\item 1\n",
       "\\item 2\n",
       "\\item 1\n",
       "\\item 2\n",
       "\\item 2\n",
       "\\item 2\n",
       "\\item 2\n",
       "\\item 1\n",
       "\\item 2\n",
       "\\item 1\n",
       "\\item 1\n",
       "\\item 1\n",
       "\\item 2\n",
       "\\item 1\n",
       "\\item 2\n",
       "\\item 1\n",
       "\\item 1\n",
       "\\item 2\n",
       "\\item 2\n",
       "\\item 2\n",
       "\\item 2\n",
       "\\item 1\n",
       "\\item 2\n",
       "\\item 1\n",
       "\\item 2\n",
       "\\item 2\n",
       "\\item 3\n",
       "\\item 2\n",
       "\\item 1\n",
       "\\item 1\n",
       "\\item 1\n",
       "\\item 1\n",
       "\\item 2\n",
       "\\item 1\n",
       "\\item 1\n",
       "\\item 2\n",
       "\\item 1\n",
       "\\item 1\n",
       "\\item 1\n",
       "\\item 2\n",
       "\\item 1\n",
       "\\item 1\n",
       "\\item 1\n",
       "\\item 2\n",
       "\\item 1\n",
       "\\item 2\n",
       "\\item 1\n",
       "\\item 2\n",
       "\\item 2\n",
       "\\item 1\n",
       "\\item 1\n",
       "\\item 1\n",
       "\\item 1\n",
       "\\item 1\n",
       "\\item 2\n",
       "\\item 2\n",
       "\\item 1\n",
       "\\item 1\n",
       "\\item 3\n",
       "\\item 1\n",
       "\\item 1\n",
       "\\item 3\n",
       "\\item 2\n",
       "\\item 2\n",
       "\\item 1\n",
       "\\item 2\n",
       "\\item 1\n",
       "\\item 1\n",
       "\\item 1\n",
       "\\item 1\n",
       "\\item 3\n",
       "\\item 1\n",
       "\\item 1\n",
       "\\item 1\n",
       "\\item 2\n",
       "\\item 1\n",
       "\\item 2\n",
       "\\item 3\n",
       "\\item 1\n",
       "\\item 1\n",
       "\\item 2\n",
       "\\item 2\n",
       "\\item 2\n",
       "\\item 2\n",
       "\\item 2\n",
       "\\item 2\n",
       "\\item 1\n",
       "\\item 4\n",
       "\\item 1\n",
       "\\item 1\n",
       "\\item 1\n",
       "\\item 1\n",
       "\\item 1\n",
       "\\item 1\n",
       "\\item 2\n",
       "\\item 1\n",
       "\\item 1\n",
       "\\item 2\n",
       "\\item 1\n",
       "\\item 2\n",
       "\\item 1\n",
       "\\item 1\n",
       "\\item 3\n",
       "\\item 1\n",
       "\\item 1\n",
       "\\item 1\n",
       "\\item 1\n",
       "\\item 1\n",
       "\\item ⋯\n",
       "\\item 3\n",
       "\\item 2\n",
       "\\item 2\n",
       "\\item 2\n",
       "\\item 2\n",
       "\\item 1\n",
       "\\item 1\n",
       "\\item 1\n",
       "\\item 2\n",
       "\\item 3\n",
       "\\item 3\n",
       "\\item 1\n",
       "\\item 1\n",
       "\\item 4\n",
       "\\item 2\n",
       "\\item 2\n",
       "\\item 1\n",
       "\\item 5\n",
       "\\item 1\n",
       "\\item 1\n",
       "\\item 2\n",
       "\\item 4\n",
       "\\item 1\n",
       "\\item 1\n",
       "\\item 2\n",
       "\\item 1\n",
       "\\item 2\n",
       "\\item 1\n",
       "\\item 2\n",
       "\\item 4\n",
       "\\item 1\n",
       "\\item 3\n",
       "\\item 1\n",
       "\\item 1\n",
       "\\item 2\n",
       "\\item 2\n",
       "\\item 1\n",
       "\\item 2\n",
       "\\item 1\n",
       "\\item 1\n",
       "\\item 1\n",
       "\\item 1\n",
       "\\item 1\n",
       "\\item 1\n",
       "\\item 1\n",
       "\\item 1\n",
       "\\item 1\n",
       "\\item 1\n",
       "\\item 1\n",
       "\\item 3\n",
       "\\item 2\n",
       "\\item 1\n",
       "\\item 2\n",
       "\\item 1\n",
       "\\item 1\n",
       "\\item 3\n",
       "\\item 2\n",
       "\\item 1\n",
       "\\item 2\n",
       "\\item 1\n",
       "\\item 1\n",
       "\\item 2\n",
       "\\item 1\n",
       "\\item 2\n",
       "\\item 1\n",
       "\\item 1\n",
       "\\item 4\n",
       "\\item 1\n",
       "\\item 1\n",
       "\\item 1\n",
       "\\item 2\n",
       "\\item 1\n",
       "\\item 2\n",
       "\\item 2\n",
       "\\item 2\n",
       "\\item 1\n",
       "\\item 1\n",
       "\\item 1\n",
       "\\item 2\n",
       "\\item 2\n",
       "\\item 2\n",
       "\\item 1\n",
       "\\item 1\n",
       "\\item 5\n",
       "\\item 3\n",
       "\\item 2\n",
       "\\item 1\n",
       "\\item 1\n",
       "\\item 3\n",
       "\\item 1\n",
       "\\item 1\n",
       "\\item 3\n",
       "\\item 1\n",
       "\\item 1\n",
       "\\item 1\n",
       "\\item 1\n",
       "\\item 2\n",
       "\\item 1\n",
       "\\item 1\n",
       "\\item 2\n",
       "\\item 1\n",
       "\\item 3\n",
       "\\item 4\n",
       "\\item 1\n",
       "\\item 1\n",
       "\\item 1\n",
       "\\item 1\n",
       "\\item 1\n",
       "\\item 2\n",
       "\\item 1\n",
       "\\item 1\n",
       "\\item 2\n",
       "\\item 2\n",
       "\\item 3\n",
       "\\item 1\n",
       "\\item 3\n",
       "\\item 1\n",
       "\\item 2\n",
       "\\item 2\n",
       "\\item 2\n",
       "\\item 1\n",
       "\\item 1\n",
       "\\item 1\n",
       "\\item 3\n",
       "\\item 1\n",
       "\\item 1\n",
       "\\item 2\n",
       "\\item 1\n",
       "\\item 3\n",
       "\\item 2\n",
       "\\item 3\n",
       "\\item 2\n",
       "\\item 1\n",
       "\\item 2\n",
       "\\item 2\n",
       "\\item 1\n",
       "\\item 2\n",
       "\\item 1\n",
       "\\item 2\n",
       "\\item 1\n",
       "\\item 1\n",
       "\\item 2\n",
       "\\item 1\n",
       "\\item 1\n",
       "\\item 1\n",
       "\\item 1\n",
       "\\item 2\n",
       "\\item 1\n",
       "\\item 1\n",
       "\\item 1\n",
       "\\item 3\n",
       "\\item 3\n",
       "\\item 1\n",
       "\\item 2\n",
       "\\item 1\n",
       "\\item 2\n",
       "\\item 2\n",
       "\\item 2\n",
       "\\item 2\n",
       "\\item 1\n",
       "\\item 2\n",
       "\\item 3\n",
       "\\item 2\n",
       "\\item 2\n",
       "\\item 1\n",
       "\\item 1\n",
       "\\item 3\n",
       "\\item 3\n",
       "\\item 2\n",
       "\\item 2\n",
       "\\item 2\n",
       "\\item 2\n",
       "\\item 1\n",
       "\\item 2\n",
       "\\item 3\n",
       "\\item 1\n",
       "\\item 2\n",
       "\\item 2\n",
       "\\item 2\n",
       "\\item 1\n",
       "\\item 3\n",
       "\\item 1\n",
       "\\item 1\n",
       "\\item 1\n",
       "\\item 1\n",
       "\\item 1\n",
       "\\item 1\n",
       "\\item 1\n",
       "\\item 1\n",
       "\\item 1\n",
       "\\item 1\n",
       "\\item 3\n",
       "\\item 2\n",
       "\\item 2\n",
       "\\item 2\n",
       "\\item 1\n",
       "\\item 2\n",
       "\\item 1\n",
       "\\item 1\n",
       "\\item 1\n",
       "\\end{enumerate*}\n"
      ],
      "text/markdown": [
       "1. 1\n",
       "2. 2\n",
       "3. 1\n",
       "4. 2\n",
       "5. 1\n",
       "6. 1\n",
       "7. 4\n",
       "8. 2\n",
       "9. 1\n",
       "10. 1\n",
       "11. 1\n",
       "12. 2\n",
       "13. 2\n",
       "14. 3\n",
       "15. 1\n",
       "16. 2\n",
       "17. 1\n",
       "18. 1\n",
       "19. 1\n",
       "20. 2\n",
       "21. 2\n",
       "22. 1\n",
       "23. 1\n",
       "24. 2\n",
       "25. 1\n",
       "26. 4\n",
       "27. 2\n",
       "28. 2\n",
       "29. 2\n",
       "30. 4\n",
       "31. 1\n",
       "32. 1\n",
       "33. 2\n",
       "34. 4\n",
       "35. 1\n",
       "36. 2\n",
       "37. 3\n",
       "38. 1\n",
       "39. 1\n",
       "40. 1\n",
       "41. 1\n",
       "42. 2\n",
       "43. 1\n",
       "44. 7\n",
       "45. 1\n",
       "46. 2\n",
       "47. 1\n",
       "48. 2\n",
       "49. 2\n",
       "50. 2\n",
       "51. 1\n",
       "52. 2\n",
       "53. 2\n",
       "54. 1\n",
       "55. 1\n",
       "56. 1\n",
       "57. 1\n",
       "58. 1\n",
       "59. 2\n",
       "60. 1\n",
       "61. 1\n",
       "62. 2\n",
       "63. 1\n",
       "64. 3\n",
       "65. 1\n",
       "66. 2\n",
       "67. 2\n",
       "68. 1\n",
       "69. 3\n",
       "70. 2\n",
       "71. 2\n",
       "72. 1\n",
       "73. 1\n",
       "74. 1\n",
       "75. 1\n",
       "76. 2\n",
       "77. 3\n",
       "78. 1\n",
       "79. 1\n",
       "80. 2\n",
       "81. 2\n",
       "82. 1\n",
       "83. 2\n",
       "84. 1\n",
       "85. 10\n",
       "86. 4\n",
       "87. 1\n",
       "88. 1\n",
       "89. 1\n",
       "90. 2\n",
       "91. 1\n",
       "92. 1\n",
       "93. 1\n",
       "94. 2\n",
       "95. 1\n",
       "96. 2\n",
       "97. 2\n",
       "98. 2\n",
       "99. 2\n",
       "100. 1\n",
       "101. 2\n",
       "102. 1\n",
       "103. 1\n",
       "104. 1\n",
       "105. 2\n",
       "106. 1\n",
       "107. 2\n",
       "108. 1\n",
       "109. 1\n",
       "110. 2\n",
       "111. 2\n",
       "112. 2\n",
       "113. 2\n",
       "114. 1\n",
       "115. 2\n",
       "116. 1\n",
       "117. 2\n",
       "118. 2\n",
       "119. 3\n",
       "120. 2\n",
       "121. 1\n",
       "122. 1\n",
       "123. 1\n",
       "124. 1\n",
       "125. 2\n",
       "126. 1\n",
       "127. 1\n",
       "128. 2\n",
       "129. 1\n",
       "130. 1\n",
       "131. 1\n",
       "132. 2\n",
       "133. 1\n",
       "134. 1\n",
       "135. 1\n",
       "136. 2\n",
       "137. 1\n",
       "138. 2\n",
       "139. 1\n",
       "140. 2\n",
       "141. 2\n",
       "142. 1\n",
       "143. 1\n",
       "144. 1\n",
       "145. 1\n",
       "146. 1\n",
       "147. 2\n",
       "148. 2\n",
       "149. 1\n",
       "150. 1\n",
       "151. 3\n",
       "152. 1\n",
       "153. 1\n",
       "154. 3\n",
       "155. 2\n",
       "156. 2\n",
       "157. 1\n",
       "158. 2\n",
       "159. 1\n",
       "160. 1\n",
       "161. 1\n",
       "162. 1\n",
       "163. 3\n",
       "164. 1\n",
       "165. 1\n",
       "166. 1\n",
       "167. 2\n",
       "168. 1\n",
       "169. 2\n",
       "170. 3\n",
       "171. 1\n",
       "172. 1\n",
       "173. 2\n",
       "174. 2\n",
       "175. 2\n",
       "176. 2\n",
       "177. 2\n",
       "178. 2\n",
       "179. 1\n",
       "180. 4\n",
       "181. 1\n",
       "182. 1\n",
       "183. 1\n",
       "184. 1\n",
       "185. 1\n",
       "186. 1\n",
       "187. 2\n",
       "188. 1\n",
       "189. 1\n",
       "190. 2\n",
       "191. 1\n",
       "192. 2\n",
       "193. 1\n",
       "194. 1\n",
       "195. 3\n",
       "196. 1\n",
       "197. 1\n",
       "198. 1\n",
       "199. 1\n",
       "200. 1\n",
       "201. ⋯\n",
       "202. 3\n",
       "203. 2\n",
       "204. 2\n",
       "205. 2\n",
       "206. 2\n",
       "207. 1\n",
       "208. 1\n",
       "209. 1\n",
       "210. 2\n",
       "211. 3\n",
       "212. 3\n",
       "213. 1\n",
       "214. 1\n",
       "215. 4\n",
       "216. 2\n",
       "217. 2\n",
       "218. 1\n",
       "219. 5\n",
       "220. 1\n",
       "221. 1\n",
       "222. 2\n",
       "223. 4\n",
       "224. 1\n",
       "225. 1\n",
       "226. 2\n",
       "227. 1\n",
       "228. 2\n",
       "229. 1\n",
       "230. 2\n",
       "231. 4\n",
       "232. 1\n",
       "233. 3\n",
       "234. 1\n",
       "235. 1\n",
       "236. 2\n",
       "237. 2\n",
       "238. 1\n",
       "239. 2\n",
       "240. 1\n",
       "241. 1\n",
       "242. 1\n",
       "243. 1\n",
       "244. 1\n",
       "245. 1\n",
       "246. 1\n",
       "247. 1\n",
       "248. 1\n",
       "249. 1\n",
       "250. 1\n",
       "251. 3\n",
       "252. 2\n",
       "253. 1\n",
       "254. 2\n",
       "255. 1\n",
       "256. 1\n",
       "257. 3\n",
       "258. 2\n",
       "259. 1\n",
       "260. 2\n",
       "261. 1\n",
       "262. 1\n",
       "263. 2\n",
       "264. 1\n",
       "265. 2\n",
       "266. 1\n",
       "267. 1\n",
       "268. 4\n",
       "269. 1\n",
       "270. 1\n",
       "271. 1\n",
       "272. 2\n",
       "273. 1\n",
       "274. 2\n",
       "275. 2\n",
       "276. 2\n",
       "277. 1\n",
       "278. 1\n",
       "279. 1\n",
       "280. 2\n",
       "281. 2\n",
       "282. 2\n",
       "283. 1\n",
       "284. 1\n",
       "285. 5\n",
       "286. 3\n",
       "287. 2\n",
       "288. 1\n",
       "289. 1\n",
       "290. 3\n",
       "291. 1\n",
       "292. 1\n",
       "293. 3\n",
       "294. 1\n",
       "295. 1\n",
       "296. 1\n",
       "297. 1\n",
       "298. 2\n",
       "299. 1\n",
       "300. 1\n",
       "301. 2\n",
       "302. 1\n",
       "303. 3\n",
       "304. 4\n",
       "305. 1\n",
       "306. 1\n",
       "307. 1\n",
       "308. 1\n",
       "309. 1\n",
       "310. 2\n",
       "311. 1\n",
       "312. 1\n",
       "313. 2\n",
       "314. 2\n",
       "315. 3\n",
       "316. 1\n",
       "317. 3\n",
       "318. 1\n",
       "319. 2\n",
       "320. 2\n",
       "321. 2\n",
       "322. 1\n",
       "323. 1\n",
       "324. 1\n",
       "325. 3\n",
       "326. 1\n",
       "327. 1\n",
       "328. 2\n",
       "329. 1\n",
       "330. 3\n",
       "331. 2\n",
       "332. 3\n",
       "333. 2\n",
       "334. 1\n",
       "335. 2\n",
       "336. 2\n",
       "337. 1\n",
       "338. 2\n",
       "339. 1\n",
       "340. 2\n",
       "341. 1\n",
       "342. 1\n",
       "343. 2\n",
       "344. 1\n",
       "345. 1\n",
       "346. 1\n",
       "347. 1\n",
       "348. 2\n",
       "349. 1\n",
       "350. 1\n",
       "351. 1\n",
       "352. 3\n",
       "353. 3\n",
       "354. 1\n",
       "355. 2\n",
       "356. 1\n",
       "357. 2\n",
       "358. 2\n",
       "359. 2\n",
       "360. 2\n",
       "361. 1\n",
       "362. 2\n",
       "363. 3\n",
       "364. 2\n",
       "365. 2\n",
       "366. 1\n",
       "367. 1\n",
       "368. 3\n",
       "369. 3\n",
       "370. 2\n",
       "371. 2\n",
       "372. 2\n",
       "373. 2\n",
       "374. 1\n",
       "375. 2\n",
       "376. 3\n",
       "377. 1\n",
       "378. 2\n",
       "379. 2\n",
       "380. 2\n",
       "381. 1\n",
       "382. 3\n",
       "383. 1\n",
       "384. 1\n",
       "385. 1\n",
       "386. 1\n",
       "387. 1\n",
       "388. 1\n",
       "389. 1\n",
       "390. 1\n",
       "391. 1\n",
       "392. 1\n",
       "393. 3\n",
       "394. 2\n",
       "395. 2\n",
       "396. 2\n",
       "397. 1\n",
       "398. 2\n",
       "399. 1\n",
       "400. 1\n",
       "401. 1\n",
       "\n",
       "\n"
      ],
      "text/plain": [
       "  [1]  1  2  1  2  1  1  4  2  1  1  1  2  2  3  1  2  1  1  1  2  2  1  1  2  1\n",
       " [26]  4  2  2  2  4  1  1  2  4  1  2  3  1  1  1  1  2  1  7  1  2  1  2  2  2\n",
       " [51]  1  2  2  1  1  1  1  1  2  1  1  2  1  3  1  2  2  1  3  2  2  1  1  1  1\n",
       " [76]  2  3  1  1  2  2  1  2  1 10  4  1  1  1  2  1  1  1  2  1  2  2  2  2  1\n",
       "[101]  2  1  1  1  2  1  2  1  1  2  2  2  2  1  2  1  2  2  3  2  1  1  1  1  2\n",
       "[126]  1  1  2  1  1  1  2  1  1  1  2  1  2  1  2  2  1  1  1  1  1  2  2  1  1\n",
       "[151]  3  1  1  3  2  2  1  2  1  1  1  1  3  1  1  1  2  1  2  3  1  1  2  2  2\n",
       "[176]  2  2  2  1  4  1  1  1  1  1  1  2  1  1  2  1  2  1  1  3  1  1  1  1  1\n",
       "[201]  1  1  3  2  1  1  1  1  1  1  1  1  4  1  2  2  1  2  1  1  2  3  2  2  1\n",
       "[226]  1  1  1  2  1  1  1  2  1  2  1  1  2  1  2  1  2  1  2  1  2  2  3  1  2\n",
       "[251]  1  4  4  2  2  2  2  2  1  3  2  3  1  1  1  2  1  1  3  1  4  2  1  2  3\n",
       "[276]  3  2  4  1  2  2  1  3  2  2  1  2  3  2  1  1  1  1  1  2  1  1  2  1  2\n",
       "[301]  1  1  1  2  2  3  2  1  2  1  1  1  1  3  5  1  2  2  2  1  1  3  1  2  1\n",
       "[326]  2  1  1  3  1  3  2  2  2  1  2  3  3  2  1  1  1  1  1  1  2  2  2  1  1\n",
       "[351]  2  1  1  2  2  1  1  1  1  2  1  2  1  1  2  2  2  2  1  2  3  2  2  2  2\n",
       "[376]  1  1  1  2  2  4  1  1  1  1  1  2  1  1  1  1  3  2  2  3  2  1  1  1  1\n",
       "[401]  4  2  2  1  1  1  1  3  1  1  3  2  2  2  2  1  1  1  2  3  3  1  1  4  2\n",
       "[426]  2  1  5  1  1  2  4  1  1  2  1  2  1  2  4  1  3  1  1  2  2  1  2  1  1\n",
       "[451]  1  1  1  1  1  1  1  1  1  3  2  1  2  1  1  3  2  1  2  1  1  2  1  2  1\n",
       "[476]  1  4  1  1  1  2  1  2  2  2  1  1  1  2  2  2  1  1  5  3  2  1  1  3  1\n",
       "[501]  1  3  1  1  1  1  2  1  1  2  1  3  4  1  1  1  1  1  2  1  1  2  2  3  1\n",
       "[526]  3  1  2  2  2  1  1  1  3  1  1  2  1  3  2  3  2  1  2  2  1  2  1  2  1\n",
       "[551]  1  2  1  1  1  1  2  1  1  1  3  3  1  2  1  2  2  2  2  1  2  3  2  2  1\n",
       "[576]  1  3  3  2  2  2  2  1  2  3  1  2  2  2  1  3  1  1  1  1  1  1  1  1  1\n",
       "[601]  1  3  2  2  2  1  2  1  1  1"
      ]
     },
     "metadata": {},
     "output_type": "display_data"
    },
    {
     "data": {
      "text/html": [
       "<style>\n",
       ".list-inline {list-style: none; margin:0; padding: 0}\n",
       ".list-inline>li {display: inline-block}\n",
       ".list-inline>li:not(:last-child)::after {content: \"\\00b7\"; padding: 0 .5ex}\n",
       "</style>\n",
       "<ol class=list-inline><li>0.241970724519143</li><li>0.0539909665131881</li><li>0.241970724519143</li><li>0.0539909665131881</li><li>0.241970724519143</li><li>0.241970724519143</li><li>0.000133830225764885</li><li>0.0539909665131881</li><li>0.241970724519143</li><li>0.241970724519143</li><li>0.241970724519143</li><li>0.0539909665131881</li><li>0.0539909665131881</li><li>0.00443184841193801</li><li>0.241970724519143</li><li>0.0539909665131881</li><li>0.241970724519143</li><li>0.241970724519143</li><li>0.241970724519143</li><li>0.0539909665131881</li><li>0.0539909665131881</li><li>0.241970724519143</li><li>0.241970724519143</li><li>0.0539909665131881</li><li>0.241970724519143</li><li>0.000133830225764885</li><li>0.0539909665131881</li><li>0.0539909665131881</li><li>0.0539909665131881</li><li>0.000133830225764885</li><li>0.241970724519143</li><li>0.241970724519143</li><li>0.0539909665131881</li><li>0.000133830225764885</li><li>0.241970724519143</li><li>0.0539909665131881</li><li>0.00443184841193801</li><li>0.241970724519143</li><li>0.241970724519143</li><li>0.241970724519143</li><li>0.241970724519143</li><li>0.0539909665131881</li><li>0.241970724519143</li><li>9.13472040836459e-12</li><li>0.241970724519143</li><li>0.0539909665131881</li><li>0.241970724519143</li><li>0.0539909665131881</li><li>0.0539909665131881</li><li>0.0539909665131881</li><li>0.241970724519143</li><li>0.0539909665131881</li><li>0.0539909665131881</li><li>0.241970724519143</li><li>0.241970724519143</li><li>0.241970724519143</li><li>0.241970724519143</li><li>0.241970724519143</li><li>0.0539909665131881</li><li>0.241970724519143</li><li>0.241970724519143</li><li>0.0539909665131881</li><li>0.241970724519143</li><li>0.00443184841193801</li><li>0.241970724519143</li><li>0.0539909665131881</li><li>0.0539909665131881</li><li>0.241970724519143</li><li>0.00443184841193801</li><li>0.0539909665131881</li><li>0.0539909665131881</li><li>0.241970724519143</li><li>0.241970724519143</li><li>0.241970724519143</li><li>0.241970724519143</li><li>0.0539909665131881</li><li>0.00443184841193801</li><li>0.241970724519143</li><li>0.241970724519143</li><li>0.0539909665131881</li><li>0.0539909665131881</li><li>0.241970724519143</li><li>0.0539909665131881</li><li>0.241970724519143</li><li>7.69459862670642e-23</li><li>0.000133830225764885</li><li>0.241970724519143</li><li>0.241970724519143</li><li>0.241970724519143</li><li>0.0539909665131881</li><li>0.241970724519143</li><li>0.241970724519143</li><li>0.241970724519143</li><li>0.0539909665131881</li><li>0.241970724519143</li><li>0.0539909665131881</li><li>0.0539909665131881</li><li>0.0539909665131881</li><li>0.0539909665131881</li><li>0.241970724519143</li><li>0.0539909665131881</li><li>0.241970724519143</li><li>0.241970724519143</li><li>0.241970724519143</li><li>0.0539909665131881</li><li>0.241970724519143</li><li>0.0539909665131881</li><li>0.241970724519143</li><li>0.241970724519143</li><li>0.0539909665131881</li><li>0.0539909665131881</li><li>0.0539909665131881</li><li>0.0539909665131881</li><li>0.241970724519143</li><li>0.0539909665131881</li><li>0.241970724519143</li><li>0.0539909665131881</li><li>0.0539909665131881</li><li>0.00443184841193801</li><li>0.0539909665131881</li><li>0.241970724519143</li><li>0.241970724519143</li><li>0.241970724519143</li><li>0.241970724519143</li><li>0.0539909665131881</li><li>0.241970724519143</li><li>0.241970724519143</li><li>0.0539909665131881</li><li>0.241970724519143</li><li>0.241970724519143</li><li>0.241970724519143</li><li>0.0539909665131881</li><li>0.241970724519143</li><li>0.241970724519143</li><li>0.241970724519143</li><li>0.0539909665131881</li><li>0.241970724519143</li><li>0.0539909665131881</li><li>0.241970724519143</li><li>0.0539909665131881</li><li>0.0539909665131881</li><li>0.241970724519143</li><li>0.241970724519143</li><li>0.241970724519143</li><li>0.241970724519143</li><li>0.241970724519143</li><li>0.0539909665131881</li><li>0.0539909665131881</li><li>0.241970724519143</li><li>0.241970724519143</li><li>0.00443184841193801</li><li>0.241970724519143</li><li>0.241970724519143</li><li>0.00443184841193801</li><li>0.0539909665131881</li><li>0.0539909665131881</li><li>0.241970724519143</li><li>0.0539909665131881</li><li>0.241970724519143</li><li>0.241970724519143</li><li>0.241970724519143</li><li>0.241970724519143</li><li>0.00443184841193801</li><li>0.241970724519143</li><li>0.241970724519143</li><li>0.241970724519143</li><li>0.0539909665131881</li><li>0.241970724519143</li><li>0.0539909665131881</li><li>0.00443184841193801</li><li>0.241970724519143</li><li>0.241970724519143</li><li>0.0539909665131881</li><li>0.0539909665131881</li><li>0.0539909665131881</li><li>0.0539909665131881</li><li>0.0539909665131881</li><li>0.0539909665131881</li><li>0.241970724519143</li><li>0.000133830225764885</li><li>0.241970724519143</li><li>0.241970724519143</li><li>0.241970724519143</li><li>0.241970724519143</li><li>0.241970724519143</li><li>0.241970724519143</li><li>0.0539909665131881</li><li>0.241970724519143</li><li>0.241970724519143</li><li>0.0539909665131881</li><li>0.241970724519143</li><li>0.0539909665131881</li><li>0.241970724519143</li><li>0.241970724519143</li><li>0.00443184841193801</li><li>0.241970724519143</li><li>0.241970724519143</li><li>0.241970724519143</li><li>0.241970724519143</li><li>0.241970724519143</li><li>⋯</li><li>0.00443184841193801</li><li>0.0539909665131881</li><li>0.0539909665131881</li><li>0.0539909665131881</li><li>0.0539909665131881</li><li>0.241970724519143</li><li>0.241970724519143</li><li>0.241970724519143</li><li>0.0539909665131881</li><li>0.00443184841193801</li><li>0.00443184841193801</li><li>0.241970724519143</li><li>0.241970724519143</li><li>0.000133830225764885</li><li>0.0539909665131881</li><li>0.0539909665131881</li><li>0.241970724519143</li><li>1.4867195147343e-06</li><li>0.241970724519143</li><li>0.241970724519143</li><li>0.0539909665131881</li><li>0.000133830225764885</li><li>0.241970724519143</li><li>0.241970724519143</li><li>0.0539909665131881</li><li>0.241970724519143</li><li>0.0539909665131881</li><li>0.241970724519143</li><li>0.0539909665131881</li><li>0.000133830225764885</li><li>0.241970724519143</li><li>0.00443184841193801</li><li>0.241970724519143</li><li>0.241970724519143</li><li>0.0539909665131881</li><li>0.0539909665131881</li><li>0.241970724519143</li><li>0.0539909665131881</li><li>0.241970724519143</li><li>0.241970724519143</li><li>0.241970724519143</li><li>0.241970724519143</li><li>0.241970724519143</li><li>0.241970724519143</li><li>0.241970724519143</li><li>0.241970724519143</li><li>0.241970724519143</li><li>0.241970724519143</li><li>0.241970724519143</li><li>0.00443184841193801</li><li>0.0539909665131881</li><li>0.241970724519143</li><li>0.0539909665131881</li><li>0.241970724519143</li><li>0.241970724519143</li><li>0.00443184841193801</li><li>0.0539909665131881</li><li>0.241970724519143</li><li>0.0539909665131881</li><li>0.241970724519143</li><li>0.241970724519143</li><li>0.0539909665131881</li><li>0.241970724519143</li><li>0.0539909665131881</li><li>0.241970724519143</li><li>0.241970724519143</li><li>0.000133830225764885</li><li>0.241970724519143</li><li>0.241970724519143</li><li>0.241970724519143</li><li>0.0539909665131881</li><li>0.241970724519143</li><li>0.0539909665131881</li><li>0.0539909665131881</li><li>0.0539909665131881</li><li>0.241970724519143</li><li>0.241970724519143</li><li>0.241970724519143</li><li>0.0539909665131881</li><li>0.0539909665131881</li><li>0.0539909665131881</li><li>0.241970724519143</li><li>0.241970724519143</li><li>1.4867195147343e-06</li><li>0.00443184841193801</li><li>0.0539909665131881</li><li>0.241970724519143</li><li>0.241970724519143</li><li>0.00443184841193801</li><li>0.241970724519143</li><li>0.241970724519143</li><li>0.00443184841193801</li><li>0.241970724519143</li><li>0.241970724519143</li><li>0.241970724519143</li><li>0.241970724519143</li><li>0.0539909665131881</li><li>0.241970724519143</li><li>0.241970724519143</li><li>0.0539909665131881</li><li>0.241970724519143</li><li>0.00443184841193801</li><li>0.000133830225764885</li><li>0.241970724519143</li><li>0.241970724519143</li><li>0.241970724519143</li><li>0.241970724519143</li><li>0.241970724519143</li><li>0.0539909665131881</li><li>0.241970724519143</li><li>0.241970724519143</li><li>0.0539909665131881</li><li>0.0539909665131881</li><li>0.00443184841193801</li><li>0.241970724519143</li><li>0.00443184841193801</li><li>0.241970724519143</li><li>0.0539909665131881</li><li>0.0539909665131881</li><li>0.0539909665131881</li><li>0.241970724519143</li><li>0.241970724519143</li><li>0.241970724519143</li><li>0.00443184841193801</li><li>0.241970724519143</li><li>0.241970724519143</li><li>0.0539909665131881</li><li>0.241970724519143</li><li>0.00443184841193801</li><li>0.0539909665131881</li><li>0.00443184841193801</li><li>0.0539909665131881</li><li>0.241970724519143</li><li>0.0539909665131881</li><li>0.0539909665131881</li><li>0.241970724519143</li><li>0.0539909665131881</li><li>0.241970724519143</li><li>0.0539909665131881</li><li>0.241970724519143</li><li>0.241970724519143</li><li>0.0539909665131881</li><li>0.241970724519143</li><li>0.241970724519143</li><li>0.241970724519143</li><li>0.241970724519143</li><li>0.0539909665131881</li><li>0.241970724519143</li><li>0.241970724519143</li><li>0.241970724519143</li><li>0.00443184841193801</li><li>0.00443184841193801</li><li>0.241970724519143</li><li>0.0539909665131881</li><li>0.241970724519143</li><li>0.0539909665131881</li><li>0.0539909665131881</li><li>0.0539909665131881</li><li>0.0539909665131881</li><li>0.241970724519143</li><li>0.0539909665131881</li><li>0.00443184841193801</li><li>0.0539909665131881</li><li>0.0539909665131881</li><li>0.241970724519143</li><li>0.241970724519143</li><li>0.00443184841193801</li><li>0.00443184841193801</li><li>0.0539909665131881</li><li>0.0539909665131881</li><li>0.0539909665131881</li><li>0.0539909665131881</li><li>0.241970724519143</li><li>0.0539909665131881</li><li>0.00443184841193801</li><li>0.241970724519143</li><li>0.0539909665131881</li><li>0.0539909665131881</li><li>0.0539909665131881</li><li>0.241970724519143</li><li>0.00443184841193801</li><li>0.241970724519143</li><li>0.241970724519143</li><li>0.241970724519143</li><li>0.241970724519143</li><li>0.241970724519143</li><li>0.241970724519143</li><li>0.241970724519143</li><li>0.241970724519143</li><li>0.241970724519143</li><li>0.241970724519143</li><li>0.00443184841193801</li><li>0.0539909665131881</li><li>0.0539909665131881</li><li>0.0539909665131881</li><li>0.241970724519143</li><li>0.0539909665131881</li><li>0.241970724519143</li><li>0.241970724519143</li><li>0.241970724519143</li></ol>\n"
      ],
      "text/latex": [
       "\\begin{enumerate*}\n",
       "\\item 0.241970724519143\n",
       "\\item 0.0539909665131881\n",
       "\\item 0.241970724519143\n",
       "\\item 0.0539909665131881\n",
       "\\item 0.241970724519143\n",
       "\\item 0.241970724519143\n",
       "\\item 0.000133830225764885\n",
       "\\item 0.0539909665131881\n",
       "\\item 0.241970724519143\n",
       "\\item 0.241970724519143\n",
       "\\item 0.241970724519143\n",
       "\\item 0.0539909665131881\n",
       "\\item 0.0539909665131881\n",
       "\\item 0.00443184841193801\n",
       "\\item 0.241970724519143\n",
       "\\item 0.0539909665131881\n",
       "\\item 0.241970724519143\n",
       "\\item 0.241970724519143\n",
       "\\item 0.241970724519143\n",
       "\\item 0.0539909665131881\n",
       "\\item 0.0539909665131881\n",
       "\\item 0.241970724519143\n",
       "\\item 0.241970724519143\n",
       "\\item 0.0539909665131881\n",
       "\\item 0.241970724519143\n",
       "\\item 0.000133830225764885\n",
       "\\item 0.0539909665131881\n",
       "\\item 0.0539909665131881\n",
       "\\item 0.0539909665131881\n",
       "\\item 0.000133830225764885\n",
       "\\item 0.241970724519143\n",
       "\\item 0.241970724519143\n",
       "\\item 0.0539909665131881\n",
       "\\item 0.000133830225764885\n",
       "\\item 0.241970724519143\n",
       "\\item 0.0539909665131881\n",
       "\\item 0.00443184841193801\n",
       "\\item 0.241970724519143\n",
       "\\item 0.241970724519143\n",
       "\\item 0.241970724519143\n",
       "\\item 0.241970724519143\n",
       "\\item 0.0539909665131881\n",
       "\\item 0.241970724519143\n",
       "\\item 9.13472040836459e-12\n",
       "\\item 0.241970724519143\n",
       "\\item 0.0539909665131881\n",
       "\\item 0.241970724519143\n",
       "\\item 0.0539909665131881\n",
       "\\item 0.0539909665131881\n",
       "\\item 0.0539909665131881\n",
       "\\item 0.241970724519143\n",
       "\\item 0.0539909665131881\n",
       "\\item 0.0539909665131881\n",
       "\\item 0.241970724519143\n",
       "\\item 0.241970724519143\n",
       "\\item 0.241970724519143\n",
       "\\item 0.241970724519143\n",
       "\\item 0.241970724519143\n",
       "\\item 0.0539909665131881\n",
       "\\item 0.241970724519143\n",
       "\\item 0.241970724519143\n",
       "\\item 0.0539909665131881\n",
       "\\item 0.241970724519143\n",
       "\\item 0.00443184841193801\n",
       "\\item 0.241970724519143\n",
       "\\item 0.0539909665131881\n",
       "\\item 0.0539909665131881\n",
       "\\item 0.241970724519143\n",
       "\\item 0.00443184841193801\n",
       "\\item 0.0539909665131881\n",
       "\\item 0.0539909665131881\n",
       "\\item 0.241970724519143\n",
       "\\item 0.241970724519143\n",
       "\\item 0.241970724519143\n",
       "\\item 0.241970724519143\n",
       "\\item 0.0539909665131881\n",
       "\\item 0.00443184841193801\n",
       "\\item 0.241970724519143\n",
       "\\item 0.241970724519143\n",
       "\\item 0.0539909665131881\n",
       "\\item 0.0539909665131881\n",
       "\\item 0.241970724519143\n",
       "\\item 0.0539909665131881\n",
       "\\item 0.241970724519143\n",
       "\\item 7.69459862670642e-23\n",
       "\\item 0.000133830225764885\n",
       "\\item 0.241970724519143\n",
       "\\item 0.241970724519143\n",
       "\\item 0.241970724519143\n",
       "\\item 0.0539909665131881\n",
       "\\item 0.241970724519143\n",
       "\\item 0.241970724519143\n",
       "\\item 0.241970724519143\n",
       "\\item 0.0539909665131881\n",
       "\\item 0.241970724519143\n",
       "\\item 0.0539909665131881\n",
       "\\item 0.0539909665131881\n",
       "\\item 0.0539909665131881\n",
       "\\item 0.0539909665131881\n",
       "\\item 0.241970724519143\n",
       "\\item 0.0539909665131881\n",
       "\\item 0.241970724519143\n",
       "\\item 0.241970724519143\n",
       "\\item 0.241970724519143\n",
       "\\item 0.0539909665131881\n",
       "\\item 0.241970724519143\n",
       "\\item 0.0539909665131881\n",
       "\\item 0.241970724519143\n",
       "\\item 0.241970724519143\n",
       "\\item 0.0539909665131881\n",
       "\\item 0.0539909665131881\n",
       "\\item 0.0539909665131881\n",
       "\\item 0.0539909665131881\n",
       "\\item 0.241970724519143\n",
       "\\item 0.0539909665131881\n",
       "\\item 0.241970724519143\n",
       "\\item 0.0539909665131881\n",
       "\\item 0.0539909665131881\n",
       "\\item 0.00443184841193801\n",
       "\\item 0.0539909665131881\n",
       "\\item 0.241970724519143\n",
       "\\item 0.241970724519143\n",
       "\\item 0.241970724519143\n",
       "\\item 0.241970724519143\n",
       "\\item 0.0539909665131881\n",
       "\\item 0.241970724519143\n",
       "\\item 0.241970724519143\n",
       "\\item 0.0539909665131881\n",
       "\\item 0.241970724519143\n",
       "\\item 0.241970724519143\n",
       "\\item 0.241970724519143\n",
       "\\item 0.0539909665131881\n",
       "\\item 0.241970724519143\n",
       "\\item 0.241970724519143\n",
       "\\item 0.241970724519143\n",
       "\\item 0.0539909665131881\n",
       "\\item 0.241970724519143\n",
       "\\item 0.0539909665131881\n",
       "\\item 0.241970724519143\n",
       "\\item 0.0539909665131881\n",
       "\\item 0.0539909665131881\n",
       "\\item 0.241970724519143\n",
       "\\item 0.241970724519143\n",
       "\\item 0.241970724519143\n",
       "\\item 0.241970724519143\n",
       "\\item 0.241970724519143\n",
       "\\item 0.0539909665131881\n",
       "\\item 0.0539909665131881\n",
       "\\item 0.241970724519143\n",
       "\\item 0.241970724519143\n",
       "\\item 0.00443184841193801\n",
       "\\item 0.241970724519143\n",
       "\\item 0.241970724519143\n",
       "\\item 0.00443184841193801\n",
       "\\item 0.0539909665131881\n",
       "\\item 0.0539909665131881\n",
       "\\item 0.241970724519143\n",
       "\\item 0.0539909665131881\n",
       "\\item 0.241970724519143\n",
       "\\item 0.241970724519143\n",
       "\\item 0.241970724519143\n",
       "\\item 0.241970724519143\n",
       "\\item 0.00443184841193801\n",
       "\\item 0.241970724519143\n",
       "\\item 0.241970724519143\n",
       "\\item 0.241970724519143\n",
       "\\item 0.0539909665131881\n",
       "\\item 0.241970724519143\n",
       "\\item 0.0539909665131881\n",
       "\\item 0.00443184841193801\n",
       "\\item 0.241970724519143\n",
       "\\item 0.241970724519143\n",
       "\\item 0.0539909665131881\n",
       "\\item 0.0539909665131881\n",
       "\\item 0.0539909665131881\n",
       "\\item 0.0539909665131881\n",
       "\\item 0.0539909665131881\n",
       "\\item 0.0539909665131881\n",
       "\\item 0.241970724519143\n",
       "\\item 0.000133830225764885\n",
       "\\item 0.241970724519143\n",
       "\\item 0.241970724519143\n",
       "\\item 0.241970724519143\n",
       "\\item 0.241970724519143\n",
       "\\item 0.241970724519143\n",
       "\\item 0.241970724519143\n",
       "\\item 0.0539909665131881\n",
       "\\item 0.241970724519143\n",
       "\\item 0.241970724519143\n",
       "\\item 0.0539909665131881\n",
       "\\item 0.241970724519143\n",
       "\\item 0.0539909665131881\n",
       "\\item 0.241970724519143\n",
       "\\item 0.241970724519143\n",
       "\\item 0.00443184841193801\n",
       "\\item 0.241970724519143\n",
       "\\item 0.241970724519143\n",
       "\\item 0.241970724519143\n",
       "\\item 0.241970724519143\n",
       "\\item 0.241970724519143\n",
       "\\item ⋯\n",
       "\\item 0.00443184841193801\n",
       "\\item 0.0539909665131881\n",
       "\\item 0.0539909665131881\n",
       "\\item 0.0539909665131881\n",
       "\\item 0.0539909665131881\n",
       "\\item 0.241970724519143\n",
       "\\item 0.241970724519143\n",
       "\\item 0.241970724519143\n",
       "\\item 0.0539909665131881\n",
       "\\item 0.00443184841193801\n",
       "\\item 0.00443184841193801\n",
       "\\item 0.241970724519143\n",
       "\\item 0.241970724519143\n",
       "\\item 0.000133830225764885\n",
       "\\item 0.0539909665131881\n",
       "\\item 0.0539909665131881\n",
       "\\item 0.241970724519143\n",
       "\\item 1.4867195147343e-06\n",
       "\\item 0.241970724519143\n",
       "\\item 0.241970724519143\n",
       "\\item 0.0539909665131881\n",
       "\\item 0.000133830225764885\n",
       "\\item 0.241970724519143\n",
       "\\item 0.241970724519143\n",
       "\\item 0.0539909665131881\n",
       "\\item 0.241970724519143\n",
       "\\item 0.0539909665131881\n",
       "\\item 0.241970724519143\n",
       "\\item 0.0539909665131881\n",
       "\\item 0.000133830225764885\n",
       "\\item 0.241970724519143\n",
       "\\item 0.00443184841193801\n",
       "\\item 0.241970724519143\n",
       "\\item 0.241970724519143\n",
       "\\item 0.0539909665131881\n",
       "\\item 0.0539909665131881\n",
       "\\item 0.241970724519143\n",
       "\\item 0.0539909665131881\n",
       "\\item 0.241970724519143\n",
       "\\item 0.241970724519143\n",
       "\\item 0.241970724519143\n",
       "\\item 0.241970724519143\n",
       "\\item 0.241970724519143\n",
       "\\item 0.241970724519143\n",
       "\\item 0.241970724519143\n",
       "\\item 0.241970724519143\n",
       "\\item 0.241970724519143\n",
       "\\item 0.241970724519143\n",
       "\\item 0.241970724519143\n",
       "\\item 0.00443184841193801\n",
       "\\item 0.0539909665131881\n",
       "\\item 0.241970724519143\n",
       "\\item 0.0539909665131881\n",
       "\\item 0.241970724519143\n",
       "\\item 0.241970724519143\n",
       "\\item 0.00443184841193801\n",
       "\\item 0.0539909665131881\n",
       "\\item 0.241970724519143\n",
       "\\item 0.0539909665131881\n",
       "\\item 0.241970724519143\n",
       "\\item 0.241970724519143\n",
       "\\item 0.0539909665131881\n",
       "\\item 0.241970724519143\n",
       "\\item 0.0539909665131881\n",
       "\\item 0.241970724519143\n",
       "\\item 0.241970724519143\n",
       "\\item 0.000133830225764885\n",
       "\\item 0.241970724519143\n",
       "\\item 0.241970724519143\n",
       "\\item 0.241970724519143\n",
       "\\item 0.0539909665131881\n",
       "\\item 0.241970724519143\n",
       "\\item 0.0539909665131881\n",
       "\\item 0.0539909665131881\n",
       "\\item 0.0539909665131881\n",
       "\\item 0.241970724519143\n",
       "\\item 0.241970724519143\n",
       "\\item 0.241970724519143\n",
       "\\item 0.0539909665131881\n",
       "\\item 0.0539909665131881\n",
       "\\item 0.0539909665131881\n",
       "\\item 0.241970724519143\n",
       "\\item 0.241970724519143\n",
       "\\item 1.4867195147343e-06\n",
       "\\item 0.00443184841193801\n",
       "\\item 0.0539909665131881\n",
       "\\item 0.241970724519143\n",
       "\\item 0.241970724519143\n",
       "\\item 0.00443184841193801\n",
       "\\item 0.241970724519143\n",
       "\\item 0.241970724519143\n",
       "\\item 0.00443184841193801\n",
       "\\item 0.241970724519143\n",
       "\\item 0.241970724519143\n",
       "\\item 0.241970724519143\n",
       "\\item 0.241970724519143\n",
       "\\item 0.0539909665131881\n",
       "\\item 0.241970724519143\n",
       "\\item 0.241970724519143\n",
       "\\item 0.0539909665131881\n",
       "\\item 0.241970724519143\n",
       "\\item 0.00443184841193801\n",
       "\\item 0.000133830225764885\n",
       "\\item 0.241970724519143\n",
       "\\item 0.241970724519143\n",
       "\\item 0.241970724519143\n",
       "\\item 0.241970724519143\n",
       "\\item 0.241970724519143\n",
       "\\item 0.0539909665131881\n",
       "\\item 0.241970724519143\n",
       "\\item 0.241970724519143\n",
       "\\item 0.0539909665131881\n",
       "\\item 0.0539909665131881\n",
       "\\item 0.00443184841193801\n",
       "\\item 0.241970724519143\n",
       "\\item 0.00443184841193801\n",
       "\\item 0.241970724519143\n",
       "\\item 0.0539909665131881\n",
       "\\item 0.0539909665131881\n",
       "\\item 0.0539909665131881\n",
       "\\item 0.241970724519143\n",
       "\\item 0.241970724519143\n",
       "\\item 0.241970724519143\n",
       "\\item 0.00443184841193801\n",
       "\\item 0.241970724519143\n",
       "\\item 0.241970724519143\n",
       "\\item 0.0539909665131881\n",
       "\\item 0.241970724519143\n",
       "\\item 0.00443184841193801\n",
       "\\item 0.0539909665131881\n",
       "\\item 0.00443184841193801\n",
       "\\item 0.0539909665131881\n",
       "\\item 0.241970724519143\n",
       "\\item 0.0539909665131881\n",
       "\\item 0.0539909665131881\n",
       "\\item 0.241970724519143\n",
       "\\item 0.0539909665131881\n",
       "\\item 0.241970724519143\n",
       "\\item 0.0539909665131881\n",
       "\\item 0.241970724519143\n",
       "\\item 0.241970724519143\n",
       "\\item 0.0539909665131881\n",
       "\\item 0.241970724519143\n",
       "\\item 0.241970724519143\n",
       "\\item 0.241970724519143\n",
       "\\item 0.241970724519143\n",
       "\\item 0.0539909665131881\n",
       "\\item 0.241970724519143\n",
       "\\item 0.241970724519143\n",
       "\\item 0.241970724519143\n",
       "\\item 0.00443184841193801\n",
       "\\item 0.00443184841193801\n",
       "\\item 0.241970724519143\n",
       "\\item 0.0539909665131881\n",
       "\\item 0.241970724519143\n",
       "\\item 0.0539909665131881\n",
       "\\item 0.0539909665131881\n",
       "\\item 0.0539909665131881\n",
       "\\item 0.0539909665131881\n",
       "\\item 0.241970724519143\n",
       "\\item 0.0539909665131881\n",
       "\\item 0.00443184841193801\n",
       "\\item 0.0539909665131881\n",
       "\\item 0.0539909665131881\n",
       "\\item 0.241970724519143\n",
       "\\item 0.241970724519143\n",
       "\\item 0.00443184841193801\n",
       "\\item 0.00443184841193801\n",
       "\\item 0.0539909665131881\n",
       "\\item 0.0539909665131881\n",
       "\\item 0.0539909665131881\n",
       "\\item 0.0539909665131881\n",
       "\\item 0.241970724519143\n",
       "\\item 0.0539909665131881\n",
       "\\item 0.00443184841193801\n",
       "\\item 0.241970724519143\n",
       "\\item 0.0539909665131881\n",
       "\\item 0.0539909665131881\n",
       "\\item 0.0539909665131881\n",
       "\\item 0.241970724519143\n",
       "\\item 0.00443184841193801\n",
       "\\item 0.241970724519143\n",
       "\\item 0.241970724519143\n",
       "\\item 0.241970724519143\n",
       "\\item 0.241970724519143\n",
       "\\item 0.241970724519143\n",
       "\\item 0.241970724519143\n",
       "\\item 0.241970724519143\n",
       "\\item 0.241970724519143\n",
       "\\item 0.241970724519143\n",
       "\\item 0.241970724519143\n",
       "\\item 0.00443184841193801\n",
       "\\item 0.0539909665131881\n",
       "\\item 0.0539909665131881\n",
       "\\item 0.0539909665131881\n",
       "\\item 0.241970724519143\n",
       "\\item 0.0539909665131881\n",
       "\\item 0.241970724519143\n",
       "\\item 0.241970724519143\n",
       "\\item 0.241970724519143\n",
       "\\end{enumerate*}\n"
      ],
      "text/markdown": [
       "1. 0.241970724519143\n",
       "2. 0.0539909665131881\n",
       "3. 0.241970724519143\n",
       "4. 0.0539909665131881\n",
       "5. 0.241970724519143\n",
       "6. 0.241970724519143\n",
       "7. 0.000133830225764885\n",
       "8. 0.0539909665131881\n",
       "9. 0.241970724519143\n",
       "10. 0.241970724519143\n",
       "11. 0.241970724519143\n",
       "12. 0.0539909665131881\n",
       "13. 0.0539909665131881\n",
       "14. 0.00443184841193801\n",
       "15. 0.241970724519143\n",
       "16. 0.0539909665131881\n",
       "17. 0.241970724519143\n",
       "18. 0.241970724519143\n",
       "19. 0.241970724519143\n",
       "20. 0.0539909665131881\n",
       "21. 0.0539909665131881\n",
       "22. 0.241970724519143\n",
       "23. 0.241970724519143\n",
       "24. 0.0539909665131881\n",
       "25. 0.241970724519143\n",
       "26. 0.000133830225764885\n",
       "27. 0.0539909665131881\n",
       "28. 0.0539909665131881\n",
       "29. 0.0539909665131881\n",
       "30. 0.000133830225764885\n",
       "31. 0.241970724519143\n",
       "32. 0.241970724519143\n",
       "33. 0.0539909665131881\n",
       "34. 0.000133830225764885\n",
       "35. 0.241970724519143\n",
       "36. 0.0539909665131881\n",
       "37. 0.00443184841193801\n",
       "38. 0.241970724519143\n",
       "39. 0.241970724519143\n",
       "40. 0.241970724519143\n",
       "41. 0.241970724519143\n",
       "42. 0.0539909665131881\n",
       "43. 0.241970724519143\n",
       "44. 9.13472040836459e-12\n",
       "45. 0.241970724519143\n",
       "46. 0.0539909665131881\n",
       "47. 0.241970724519143\n",
       "48. 0.0539909665131881\n",
       "49. 0.0539909665131881\n",
       "50. 0.0539909665131881\n",
       "51. 0.241970724519143\n",
       "52. 0.0539909665131881\n",
       "53. 0.0539909665131881\n",
       "54. 0.241970724519143\n",
       "55. 0.241970724519143\n",
       "56. 0.241970724519143\n",
       "57. 0.241970724519143\n",
       "58. 0.241970724519143\n",
       "59. 0.0539909665131881\n",
       "60. 0.241970724519143\n",
       "61. 0.241970724519143\n",
       "62. 0.0539909665131881\n",
       "63. 0.241970724519143\n",
       "64. 0.00443184841193801\n",
       "65. 0.241970724519143\n",
       "66. 0.0539909665131881\n",
       "67. 0.0539909665131881\n",
       "68. 0.241970724519143\n",
       "69. 0.00443184841193801\n",
       "70. 0.0539909665131881\n",
       "71. 0.0539909665131881\n",
       "72. 0.241970724519143\n",
       "73. 0.241970724519143\n",
       "74. 0.241970724519143\n",
       "75. 0.241970724519143\n",
       "76. 0.0539909665131881\n",
       "77. 0.00443184841193801\n",
       "78. 0.241970724519143\n",
       "79. 0.241970724519143\n",
       "80. 0.0539909665131881\n",
       "81. 0.0539909665131881\n",
       "82. 0.241970724519143\n",
       "83. 0.0539909665131881\n",
       "84. 0.241970724519143\n",
       "85. 7.69459862670642e-23\n",
       "86. 0.000133830225764885\n",
       "87. 0.241970724519143\n",
       "88. 0.241970724519143\n",
       "89. 0.241970724519143\n",
       "90. 0.0539909665131881\n",
       "91. 0.241970724519143\n",
       "92. 0.241970724519143\n",
       "93. 0.241970724519143\n",
       "94. 0.0539909665131881\n",
       "95. 0.241970724519143\n",
       "96. 0.0539909665131881\n",
       "97. 0.0539909665131881\n",
       "98. 0.0539909665131881\n",
       "99. 0.0539909665131881\n",
       "100. 0.241970724519143\n",
       "101. 0.0539909665131881\n",
       "102. 0.241970724519143\n",
       "103. 0.241970724519143\n",
       "104. 0.241970724519143\n",
       "105. 0.0539909665131881\n",
       "106. 0.241970724519143\n",
       "107. 0.0539909665131881\n",
       "108. 0.241970724519143\n",
       "109. 0.241970724519143\n",
       "110. 0.0539909665131881\n",
       "111. 0.0539909665131881\n",
       "112. 0.0539909665131881\n",
       "113. 0.0539909665131881\n",
       "114. 0.241970724519143\n",
       "115. 0.0539909665131881\n",
       "116. 0.241970724519143\n",
       "117. 0.0539909665131881\n",
       "118. 0.0539909665131881\n",
       "119. 0.00443184841193801\n",
       "120. 0.0539909665131881\n",
       "121. 0.241970724519143\n",
       "122. 0.241970724519143\n",
       "123. 0.241970724519143\n",
       "124. 0.241970724519143\n",
       "125. 0.0539909665131881\n",
       "126. 0.241970724519143\n",
       "127. 0.241970724519143\n",
       "128. 0.0539909665131881\n",
       "129. 0.241970724519143\n",
       "130. 0.241970724519143\n",
       "131. 0.241970724519143\n",
       "132. 0.0539909665131881\n",
       "133. 0.241970724519143\n",
       "134. 0.241970724519143\n",
       "135. 0.241970724519143\n",
       "136. 0.0539909665131881\n",
       "137. 0.241970724519143\n",
       "138. 0.0539909665131881\n",
       "139. 0.241970724519143\n",
       "140. 0.0539909665131881\n",
       "141. 0.0539909665131881\n",
       "142. 0.241970724519143\n",
       "143. 0.241970724519143\n",
       "144. 0.241970724519143\n",
       "145. 0.241970724519143\n",
       "146. 0.241970724519143\n",
       "147. 0.0539909665131881\n",
       "148. 0.0539909665131881\n",
       "149. 0.241970724519143\n",
       "150. 0.241970724519143\n",
       "151. 0.00443184841193801\n",
       "152. 0.241970724519143\n",
       "153. 0.241970724519143\n",
       "154. 0.00443184841193801\n",
       "155. 0.0539909665131881\n",
       "156. 0.0539909665131881\n",
       "157. 0.241970724519143\n",
       "158. 0.0539909665131881\n",
       "159. 0.241970724519143\n",
       "160. 0.241970724519143\n",
       "161. 0.241970724519143\n",
       "162. 0.241970724519143\n",
       "163. 0.00443184841193801\n",
       "164. 0.241970724519143\n",
       "165. 0.241970724519143\n",
       "166. 0.241970724519143\n",
       "167. 0.0539909665131881\n",
       "168. 0.241970724519143\n",
       "169. 0.0539909665131881\n",
       "170. 0.00443184841193801\n",
       "171. 0.241970724519143\n",
       "172. 0.241970724519143\n",
       "173. 0.0539909665131881\n",
       "174. 0.0539909665131881\n",
       "175. 0.0539909665131881\n",
       "176. 0.0539909665131881\n",
       "177. 0.0539909665131881\n",
       "178. 0.0539909665131881\n",
       "179. 0.241970724519143\n",
       "180. 0.000133830225764885\n",
       "181. 0.241970724519143\n",
       "182. 0.241970724519143\n",
       "183. 0.241970724519143\n",
       "184. 0.241970724519143\n",
       "185. 0.241970724519143\n",
       "186. 0.241970724519143\n",
       "187. 0.0539909665131881\n",
       "188. 0.241970724519143\n",
       "189. 0.241970724519143\n",
       "190. 0.0539909665131881\n",
       "191. 0.241970724519143\n",
       "192. 0.0539909665131881\n",
       "193. 0.241970724519143\n",
       "194. 0.241970724519143\n",
       "195. 0.00443184841193801\n",
       "196. 0.241970724519143\n",
       "197. 0.241970724519143\n",
       "198. 0.241970724519143\n",
       "199. 0.241970724519143\n",
       "200. 0.241970724519143\n",
       "201. ⋯\n",
       "202. 0.00443184841193801\n",
       "203. 0.0539909665131881\n",
       "204. 0.0539909665131881\n",
       "205. 0.0539909665131881\n",
       "206. 0.0539909665131881\n",
       "207. 0.241970724519143\n",
       "208. 0.241970724519143\n",
       "209. 0.241970724519143\n",
       "210. 0.0539909665131881\n",
       "211. 0.00443184841193801\n",
       "212. 0.00443184841193801\n",
       "213. 0.241970724519143\n",
       "214. 0.241970724519143\n",
       "215. 0.000133830225764885\n",
       "216. 0.0539909665131881\n",
       "217. 0.0539909665131881\n",
       "218. 0.241970724519143\n",
       "219. 1.4867195147343e-06\n",
       "220. 0.241970724519143\n",
       "221. 0.241970724519143\n",
       "222. 0.0539909665131881\n",
       "223. 0.000133830225764885\n",
       "224. 0.241970724519143\n",
       "225. 0.241970724519143\n",
       "226. 0.0539909665131881\n",
       "227. 0.241970724519143\n",
       "228. 0.0539909665131881\n",
       "229. 0.241970724519143\n",
       "230. 0.0539909665131881\n",
       "231. 0.000133830225764885\n",
       "232. 0.241970724519143\n",
       "233. 0.00443184841193801\n",
       "234. 0.241970724519143\n",
       "235. 0.241970724519143\n",
       "236. 0.0539909665131881\n",
       "237. 0.0539909665131881\n",
       "238. 0.241970724519143\n",
       "239. 0.0539909665131881\n",
       "240. 0.241970724519143\n",
       "241. 0.241970724519143\n",
       "242. 0.241970724519143\n",
       "243. 0.241970724519143\n",
       "244. 0.241970724519143\n",
       "245. 0.241970724519143\n",
       "246. 0.241970724519143\n",
       "247. 0.241970724519143\n",
       "248. 0.241970724519143\n",
       "249. 0.241970724519143\n",
       "250. 0.241970724519143\n",
       "251. 0.00443184841193801\n",
       "252. 0.0539909665131881\n",
       "253. 0.241970724519143\n",
       "254. 0.0539909665131881\n",
       "255. 0.241970724519143\n",
       "256. 0.241970724519143\n",
       "257. 0.00443184841193801\n",
       "258. 0.0539909665131881\n",
       "259. 0.241970724519143\n",
       "260. 0.0539909665131881\n",
       "261. 0.241970724519143\n",
       "262. 0.241970724519143\n",
       "263. 0.0539909665131881\n",
       "264. 0.241970724519143\n",
       "265. 0.0539909665131881\n",
       "266. 0.241970724519143\n",
       "267. 0.241970724519143\n",
       "268. 0.000133830225764885\n",
       "269. 0.241970724519143\n",
       "270. 0.241970724519143\n",
       "271. 0.241970724519143\n",
       "272. 0.0539909665131881\n",
       "273. 0.241970724519143\n",
       "274. 0.0539909665131881\n",
       "275. 0.0539909665131881\n",
       "276. 0.0539909665131881\n",
       "277. 0.241970724519143\n",
       "278. 0.241970724519143\n",
       "279. 0.241970724519143\n",
       "280. 0.0539909665131881\n",
       "281. 0.0539909665131881\n",
       "282. 0.0539909665131881\n",
       "283. 0.241970724519143\n",
       "284. 0.241970724519143\n",
       "285. 1.4867195147343e-06\n",
       "286. 0.00443184841193801\n",
       "287. 0.0539909665131881\n",
       "288. 0.241970724519143\n",
       "289. 0.241970724519143\n",
       "290. 0.00443184841193801\n",
       "291. 0.241970724519143\n",
       "292. 0.241970724519143\n",
       "293. 0.00443184841193801\n",
       "294. 0.241970724519143\n",
       "295. 0.241970724519143\n",
       "296. 0.241970724519143\n",
       "297. 0.241970724519143\n",
       "298. 0.0539909665131881\n",
       "299. 0.241970724519143\n",
       "300. 0.241970724519143\n",
       "301. 0.0539909665131881\n",
       "302. 0.241970724519143\n",
       "303. 0.00443184841193801\n",
       "304. 0.000133830225764885\n",
       "305. 0.241970724519143\n",
       "306. 0.241970724519143\n",
       "307. 0.241970724519143\n",
       "308. 0.241970724519143\n",
       "309. 0.241970724519143\n",
       "310. 0.0539909665131881\n",
       "311. 0.241970724519143\n",
       "312. 0.241970724519143\n",
       "313. 0.0539909665131881\n",
       "314. 0.0539909665131881\n",
       "315. 0.00443184841193801\n",
       "316. 0.241970724519143\n",
       "317. 0.00443184841193801\n",
       "318. 0.241970724519143\n",
       "319. 0.0539909665131881\n",
       "320. 0.0539909665131881\n",
       "321. 0.0539909665131881\n",
       "322. 0.241970724519143\n",
       "323. 0.241970724519143\n",
       "324. 0.241970724519143\n",
       "325. 0.00443184841193801\n",
       "326. 0.241970724519143\n",
       "327. 0.241970724519143\n",
       "328. 0.0539909665131881\n",
       "329. 0.241970724519143\n",
       "330. 0.00443184841193801\n",
       "331. 0.0539909665131881\n",
       "332. 0.00443184841193801\n",
       "333. 0.0539909665131881\n",
       "334. 0.241970724519143\n",
       "335. 0.0539909665131881\n",
       "336. 0.0539909665131881\n",
       "337. 0.241970724519143\n",
       "338. 0.0539909665131881\n",
       "339. 0.241970724519143\n",
       "340. 0.0539909665131881\n",
       "341. 0.241970724519143\n",
       "342. 0.241970724519143\n",
       "343. 0.0539909665131881\n",
       "344. 0.241970724519143\n",
       "345. 0.241970724519143\n",
       "346. 0.241970724519143\n",
       "347. 0.241970724519143\n",
       "348. 0.0539909665131881\n",
       "349. 0.241970724519143\n",
       "350. 0.241970724519143\n",
       "351. 0.241970724519143\n",
       "352. 0.00443184841193801\n",
       "353. 0.00443184841193801\n",
       "354. 0.241970724519143\n",
       "355. 0.0539909665131881\n",
       "356. 0.241970724519143\n",
       "357. 0.0539909665131881\n",
       "358. 0.0539909665131881\n",
       "359. 0.0539909665131881\n",
       "360. 0.0539909665131881\n",
       "361. 0.241970724519143\n",
       "362. 0.0539909665131881\n",
       "363. 0.00443184841193801\n",
       "364. 0.0539909665131881\n",
       "365. 0.0539909665131881\n",
       "366. 0.241970724519143\n",
       "367. 0.241970724519143\n",
       "368. 0.00443184841193801\n",
       "369. 0.00443184841193801\n",
       "370. 0.0539909665131881\n",
       "371. 0.0539909665131881\n",
       "372. 0.0539909665131881\n",
       "373. 0.0539909665131881\n",
       "374. 0.241970724519143\n",
       "375. 0.0539909665131881\n",
       "376. 0.00443184841193801\n",
       "377. 0.241970724519143\n",
       "378. 0.0539909665131881\n",
       "379. 0.0539909665131881\n",
       "380. 0.0539909665131881\n",
       "381. 0.241970724519143\n",
       "382. 0.00443184841193801\n",
       "383. 0.241970724519143\n",
       "384. 0.241970724519143\n",
       "385. 0.241970724519143\n",
       "386. 0.241970724519143\n",
       "387. 0.241970724519143\n",
       "388. 0.241970724519143\n",
       "389. 0.241970724519143\n",
       "390. 0.241970724519143\n",
       "391. 0.241970724519143\n",
       "392. 0.241970724519143\n",
       "393. 0.00443184841193801\n",
       "394. 0.0539909665131881\n",
       "395. 0.0539909665131881\n",
       "396. 0.0539909665131881\n",
       "397. 0.241970724519143\n",
       "398. 0.0539909665131881\n",
       "399. 0.241970724519143\n",
       "400. 0.241970724519143\n",
       "401. 0.241970724519143\n",
       "\n",
       "\n"
      ],
      "text/plain": [
       "  [1] 2.419707e-01 5.399097e-02 2.419707e-01 5.399097e-02 2.419707e-01\n",
       "  [6] 2.419707e-01 1.338302e-04 5.399097e-02 2.419707e-01 2.419707e-01\n",
       " [11] 2.419707e-01 5.399097e-02 5.399097e-02 4.431848e-03 2.419707e-01\n",
       " [16] 5.399097e-02 2.419707e-01 2.419707e-01 2.419707e-01 5.399097e-02\n",
       " [21] 5.399097e-02 2.419707e-01 2.419707e-01 5.399097e-02 2.419707e-01\n",
       " [26] 1.338302e-04 5.399097e-02 5.399097e-02 5.399097e-02 1.338302e-04\n",
       " [31] 2.419707e-01 2.419707e-01 5.399097e-02 1.338302e-04 2.419707e-01\n",
       " [36] 5.399097e-02 4.431848e-03 2.419707e-01 2.419707e-01 2.419707e-01\n",
       " [41] 2.419707e-01 5.399097e-02 2.419707e-01 9.134720e-12 2.419707e-01\n",
       " [46] 5.399097e-02 2.419707e-01 5.399097e-02 5.399097e-02 5.399097e-02\n",
       " [51] 2.419707e-01 5.399097e-02 5.399097e-02 2.419707e-01 2.419707e-01\n",
       " [56] 2.419707e-01 2.419707e-01 2.419707e-01 5.399097e-02 2.419707e-01\n",
       " [61] 2.419707e-01 5.399097e-02 2.419707e-01 4.431848e-03 2.419707e-01\n",
       " [66] 5.399097e-02 5.399097e-02 2.419707e-01 4.431848e-03 5.399097e-02\n",
       " [71] 5.399097e-02 2.419707e-01 2.419707e-01 2.419707e-01 2.419707e-01\n",
       " [76] 5.399097e-02 4.431848e-03 2.419707e-01 2.419707e-01 5.399097e-02\n",
       " [81] 5.399097e-02 2.419707e-01 5.399097e-02 2.419707e-01 7.694599e-23\n",
       " [86] 1.338302e-04 2.419707e-01 2.419707e-01 2.419707e-01 5.399097e-02\n",
       " [91] 2.419707e-01 2.419707e-01 2.419707e-01 5.399097e-02 2.419707e-01\n",
       " [96] 5.399097e-02 5.399097e-02 5.399097e-02 5.399097e-02 2.419707e-01\n",
       "[101] 5.399097e-02 2.419707e-01 2.419707e-01 2.419707e-01 5.399097e-02\n",
       "[106] 2.419707e-01 5.399097e-02 2.419707e-01 2.419707e-01 5.399097e-02\n",
       "[111] 5.399097e-02 5.399097e-02 5.399097e-02 2.419707e-01 5.399097e-02\n",
       "[116] 2.419707e-01 5.399097e-02 5.399097e-02 4.431848e-03 5.399097e-02\n",
       "[121] 2.419707e-01 2.419707e-01 2.419707e-01 2.419707e-01 5.399097e-02\n",
       "[126] 2.419707e-01 2.419707e-01 5.399097e-02 2.419707e-01 2.419707e-01\n",
       "[131] 2.419707e-01 5.399097e-02 2.419707e-01 2.419707e-01 2.419707e-01\n",
       "[136] 5.399097e-02 2.419707e-01 5.399097e-02 2.419707e-01 5.399097e-02\n",
       "[141] 5.399097e-02 2.419707e-01 2.419707e-01 2.419707e-01 2.419707e-01\n",
       "[146] 2.419707e-01 5.399097e-02 5.399097e-02 2.419707e-01 2.419707e-01\n",
       "[151] 4.431848e-03 2.419707e-01 2.419707e-01 4.431848e-03 5.399097e-02\n",
       "[156] 5.399097e-02 2.419707e-01 5.399097e-02 2.419707e-01 2.419707e-01\n",
       "[161] 2.419707e-01 2.419707e-01 4.431848e-03 2.419707e-01 2.419707e-01\n",
       "[166] 2.419707e-01 5.399097e-02 2.419707e-01 5.399097e-02 4.431848e-03\n",
       "[171] 2.419707e-01 2.419707e-01 5.399097e-02 5.399097e-02 5.399097e-02\n",
       "[176] 5.399097e-02 5.399097e-02 5.399097e-02 2.419707e-01 1.338302e-04\n",
       "[181] 2.419707e-01 2.419707e-01 2.419707e-01 2.419707e-01 2.419707e-01\n",
       "[186] 2.419707e-01 5.399097e-02 2.419707e-01 2.419707e-01 5.399097e-02\n",
       "[191] 2.419707e-01 5.399097e-02 2.419707e-01 2.419707e-01 4.431848e-03\n",
       "[196] 2.419707e-01 2.419707e-01 2.419707e-01 2.419707e-01 2.419707e-01\n",
       "[201] 2.419707e-01 2.419707e-01 4.431848e-03 5.399097e-02 2.419707e-01\n",
       "[206] 2.419707e-01 2.419707e-01 2.419707e-01 2.419707e-01 2.419707e-01\n",
       "[211] 2.419707e-01 2.419707e-01 1.338302e-04 2.419707e-01 5.399097e-02\n",
       "[216] 5.399097e-02 2.419707e-01 5.399097e-02 2.419707e-01 2.419707e-01\n",
       "[221] 5.399097e-02 4.431848e-03 5.399097e-02 5.399097e-02 2.419707e-01\n",
       "[226] 2.419707e-01 2.419707e-01 2.419707e-01 5.399097e-02 2.419707e-01\n",
       "[231] 2.419707e-01 2.419707e-01 5.399097e-02 2.419707e-01 5.399097e-02\n",
       "[236] 2.419707e-01 2.419707e-01 5.399097e-02 2.419707e-01 5.399097e-02\n",
       "[241] 2.419707e-01 5.399097e-02 2.419707e-01 5.399097e-02 2.419707e-01\n",
       "[246] 5.399097e-02 5.399097e-02 4.431848e-03 2.419707e-01 5.399097e-02\n",
       "[251] 2.419707e-01 1.338302e-04 1.338302e-04 5.399097e-02 5.399097e-02\n",
       "[256] 5.399097e-02 5.399097e-02 5.399097e-02 2.419707e-01 4.431848e-03\n",
       "[261] 5.399097e-02 4.431848e-03 2.419707e-01 2.419707e-01 2.419707e-01\n",
       "[266] 5.399097e-02 2.419707e-01 2.419707e-01 4.431848e-03 2.419707e-01\n",
       "[271] 1.338302e-04 5.399097e-02 2.419707e-01 5.399097e-02 4.431848e-03\n",
       "[276] 4.431848e-03 5.399097e-02 1.338302e-04 2.419707e-01 5.399097e-02\n",
       "[281] 5.399097e-02 2.419707e-01 4.431848e-03 5.399097e-02 5.399097e-02\n",
       "[286] 2.419707e-01 5.399097e-02 4.431848e-03 5.399097e-02 2.419707e-01\n",
       "[291] 2.419707e-01 2.419707e-01 2.419707e-01 2.419707e-01 5.399097e-02\n",
       "[296] 2.419707e-01 2.419707e-01 5.399097e-02 2.419707e-01 5.399097e-02\n",
       "[301] 2.419707e-01 2.419707e-01 2.419707e-01 5.399097e-02 5.399097e-02\n",
       "[306] 4.431848e-03 5.399097e-02 2.419707e-01 5.399097e-02 2.419707e-01\n",
       "[311] 2.419707e-01 2.419707e-01 2.419707e-01 4.431848e-03 1.486720e-06\n",
       "[316] 2.419707e-01 5.399097e-02 5.399097e-02 5.399097e-02 2.419707e-01\n",
       "[321] 2.419707e-01 4.431848e-03 2.419707e-01 5.399097e-02 2.419707e-01\n",
       "[326] 5.399097e-02 2.419707e-01 2.419707e-01 4.431848e-03 2.419707e-01\n",
       "[331] 4.431848e-03 5.399097e-02 5.399097e-02 5.399097e-02 2.419707e-01\n",
       "[336] 5.399097e-02 4.431848e-03 4.431848e-03 5.399097e-02 2.419707e-01\n",
       "[341] 2.419707e-01 2.419707e-01 2.419707e-01 2.419707e-01 2.419707e-01\n",
       "[346] 5.399097e-02 5.399097e-02 5.399097e-02 2.419707e-01 2.419707e-01\n",
       "[351] 5.399097e-02 2.419707e-01 2.419707e-01 5.399097e-02 5.399097e-02\n",
       "[356] 2.419707e-01 2.419707e-01 2.419707e-01 2.419707e-01 5.399097e-02\n",
       "[361] 2.419707e-01 5.399097e-02 2.419707e-01 2.419707e-01 5.399097e-02\n",
       "[366] 5.399097e-02 5.399097e-02 5.399097e-02 2.419707e-01 5.399097e-02\n",
       "[371] 4.431848e-03 5.399097e-02 5.399097e-02 5.399097e-02 5.399097e-02\n",
       "[376] 2.419707e-01 2.419707e-01 2.419707e-01 5.399097e-02 5.399097e-02\n",
       "[381] 1.338302e-04 2.419707e-01 2.419707e-01 2.419707e-01 2.419707e-01\n",
       "[386] 2.419707e-01 5.399097e-02 2.419707e-01 2.419707e-01 2.419707e-01\n",
       "[391] 2.419707e-01 4.431848e-03 5.399097e-02 5.399097e-02 4.431848e-03\n",
       "[396] 5.399097e-02 2.419707e-01 2.419707e-01 2.419707e-01 2.419707e-01\n",
       "[401] 1.338302e-04 5.399097e-02 5.399097e-02 2.419707e-01 2.419707e-01\n",
       "[406] 2.419707e-01 2.419707e-01 4.431848e-03 2.419707e-01 2.419707e-01\n",
       "[411] 4.431848e-03 5.399097e-02 5.399097e-02 5.399097e-02 5.399097e-02\n",
       "[416] 2.419707e-01 2.419707e-01 2.419707e-01 5.399097e-02 4.431848e-03\n",
       "[421] 4.431848e-03 2.419707e-01 2.419707e-01 1.338302e-04 5.399097e-02\n",
       "[426] 5.399097e-02 2.419707e-01 1.486720e-06 2.419707e-01 2.419707e-01\n",
       "[431] 5.399097e-02 1.338302e-04 2.419707e-01 2.419707e-01 5.399097e-02\n",
       "[436] 2.419707e-01 5.399097e-02 2.419707e-01 5.399097e-02 1.338302e-04\n",
       "[441] 2.419707e-01 4.431848e-03 2.419707e-01 2.419707e-01 5.399097e-02\n",
       "[446] 5.399097e-02 2.419707e-01 5.399097e-02 2.419707e-01 2.419707e-01\n",
       "[451] 2.419707e-01 2.419707e-01 2.419707e-01 2.419707e-01 2.419707e-01\n",
       "[456] 2.419707e-01 2.419707e-01 2.419707e-01 2.419707e-01 4.431848e-03\n",
       "[461] 5.399097e-02 2.419707e-01 5.399097e-02 2.419707e-01 2.419707e-01\n",
       "[466] 4.431848e-03 5.399097e-02 2.419707e-01 5.399097e-02 2.419707e-01\n",
       "[471] 2.419707e-01 5.399097e-02 2.419707e-01 5.399097e-02 2.419707e-01\n",
       "[476] 2.419707e-01 1.338302e-04 2.419707e-01 2.419707e-01 2.419707e-01\n",
       "[481] 5.399097e-02 2.419707e-01 5.399097e-02 5.399097e-02 5.399097e-02\n",
       "[486] 2.419707e-01 2.419707e-01 2.419707e-01 5.399097e-02 5.399097e-02\n",
       "[491] 5.399097e-02 2.419707e-01 2.419707e-01 1.486720e-06 4.431848e-03\n",
       "[496] 5.399097e-02 2.419707e-01 2.419707e-01 4.431848e-03 2.419707e-01\n",
       "[501] 2.419707e-01 4.431848e-03 2.419707e-01 2.419707e-01 2.419707e-01\n",
       "[506] 2.419707e-01 5.399097e-02 2.419707e-01 2.419707e-01 5.399097e-02\n",
       "[511] 2.419707e-01 4.431848e-03 1.338302e-04 2.419707e-01 2.419707e-01\n",
       "[516] 2.419707e-01 2.419707e-01 2.419707e-01 5.399097e-02 2.419707e-01\n",
       "[521] 2.419707e-01 5.399097e-02 5.399097e-02 4.431848e-03 2.419707e-01\n",
       "[526] 4.431848e-03 2.419707e-01 5.399097e-02 5.399097e-02 5.399097e-02\n",
       "[531] 2.419707e-01 2.419707e-01 2.419707e-01 4.431848e-03 2.419707e-01\n",
       "[536] 2.419707e-01 5.399097e-02 2.419707e-01 4.431848e-03 5.399097e-02\n",
       "[541] 4.431848e-03 5.399097e-02 2.419707e-01 5.399097e-02 5.399097e-02\n",
       "[546] 2.419707e-01 5.399097e-02 2.419707e-01 5.399097e-02 2.419707e-01\n",
       "[551] 2.419707e-01 5.399097e-02 2.419707e-01 2.419707e-01 2.419707e-01\n",
       "[556] 2.419707e-01 5.399097e-02 2.419707e-01 2.419707e-01 2.419707e-01\n",
       "[561] 4.431848e-03 4.431848e-03 2.419707e-01 5.399097e-02 2.419707e-01\n",
       "[566] 5.399097e-02 5.399097e-02 5.399097e-02 5.399097e-02 2.419707e-01\n",
       "[571] 5.399097e-02 4.431848e-03 5.399097e-02 5.399097e-02 2.419707e-01\n",
       "[576] 2.419707e-01 4.431848e-03 4.431848e-03 5.399097e-02 5.399097e-02\n",
       "[581] 5.399097e-02 5.399097e-02 2.419707e-01 5.399097e-02 4.431848e-03\n",
       "[586] 2.419707e-01 5.399097e-02 5.399097e-02 5.399097e-02 2.419707e-01\n",
       "[591] 4.431848e-03 2.419707e-01 2.419707e-01 2.419707e-01 2.419707e-01\n",
       "[596] 2.419707e-01 2.419707e-01 2.419707e-01 2.419707e-01 2.419707e-01\n",
       "[601] 2.419707e-01 4.431848e-03 5.399097e-02 5.399097e-02 5.399097e-02\n",
       "[606] 2.419707e-01 5.399097e-02 2.419707e-01 2.419707e-01 2.419707e-01"
      ]
     },
     "metadata": {},
     "output_type": "display_data"
    }
   ],
   "source": [
    "x <- na.omit(barrio_sol$NumDormitorios[barrio_sol$NumDormitorios>0])\n",
    "x\n",
    "dnorm(x)\n"
   ]
  },
  {
   "cell_type": "code",
   "execution_count": 47,
   "metadata": {},
   "outputs": [
    {
     "data": {
      "text/plain": [
       "\n",
       "\tWelch Two Sample t-test\n",
       "\n",
       "data:  barrio_sol$NumDormitorios[barrio_sol$NumDormitorios == 3] and barrio_sol$NumDormitorios[barrio_sol$NumDormitorios != 3]\n",
       "t = 45.804, df = 645, p-value < 2.2e-16\n",
       "alternative hypothesis: true difference in means is not equal to 0\n",
       "95 percent confidence interval:\n",
       " 1.616452 1.761257\n",
       "sample estimates:\n",
       "mean of x mean of y \n",
       " 3.000000  1.311146 \n"
      ]
     },
     "metadata": {},
     "output_type": "display_data"
    }
   ],
   "source": [
    "tw<-t.test(barrio_sol$NumDormitorios[barrio_sol$NumDormitorios==3],barrio_sol$NumDormitorios[barrio_sol$NumDormitorios!=3])\n",
    "tw"
   ]
  }
 ],
 "metadata": {
  "kernelspec": {
   "display_name": "R",
   "language": "R",
   "name": "ir"
  },
  "language_info": {
   "codemirror_mode": "r",
   "file_extension": ".r",
   "mimetype": "text/x-r-source",
   "name": "R",
   "pygments_lexer": "r",
   "version": "3.6.0"
  }
 },
 "nbformat": 4,
 "nbformat_minor": 2
}
